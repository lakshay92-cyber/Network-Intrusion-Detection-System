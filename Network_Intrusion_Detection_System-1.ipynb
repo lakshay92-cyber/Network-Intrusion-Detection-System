{
 "cells": [
  {
   "cell_type": "markdown",
   "metadata": {},
   "source": [
    "## NETWORK INTRUSION DETECTION\n",
    "###### Definition of Target and Outcome Window\n",
    "       The task given is to build network intrusion detection system to detect anamolies and attacks in the network.\n",
    "       There are two problems.\n",
    "            1. Binomial Classification: Activity is normal or attack\n",
    "            2. Multinomial classification: Activity is normal or DOS or PROBE or R2L or U2R\n",
    "        Please note that, currently the dependent variable (target variable) is not definied explicitly.\n",
    "        However, you can use attack variable to define the target variable as required.\n",
    "###### Data Pre-Processing and Data Exploratory Analysis- \n",
    "    - Missing Values Check\n",
    "    - Deriving new labels from attack labels (Binary and Muliclass)\n",
    "    - Removing features with high percentage of zeros\n",
    "    - Univariate Analysis - Outlier analysis\n",
    "    - Creating dummy variables\n",
    "    - Variable Reduction - VIF\n",
    "###### Model Build and Model Evaluation\n",
    "    - Train and Test split\n",
    "    - Model used :- Random Forest Classifier, Logistic Regression, Gradient Boosting Classifier, Gradient Boosting Classifier,   \n",
    "                    Decision Tree, ExtraTree Classifier   \n",
    "    - Testing Parameters:- Accuracy, Precision, Recall, F1_score, classification report, confusion matrix\n",
    "    * As our data has imbalanced labels, thus focusing on weighted F1_score\n",
    "    - Scoring - cross val (weighted f1 score)"
   ]
  },
  {
   "cell_type": "markdown",
   "metadata": {
    "colab_type": "text",
    "id": "1W6zni-FpNug",
    "toc-hr-collapsed": false
   },
   "source": [
    "# Importing Libraries"
   ]
  },
  {
   "cell_type": "code",
   "execution_count": 1,
   "metadata": {
    "colab": {
     "base_uri": "https://localhost:8080/",
     "height": 71
    },
    "colab_type": "code",
    "id": "G9AxIzWApNup",
    "outputId": "bc618e98-ed4c-4bae-81a5-d5c09489361f"
   },
   "outputs": [
    {
     "name": "stdout",
     "output_type": "stream",
     "text": [
      "Requirement already satisfied: ipython-autotime in c:\\users\\chord\\anaconda3\\lib\\site-packages (0.1)\n"
     ]
    }
   ],
   "source": [
    "import pandas as pd\n",
    "import numpy as np\n",
    "import matplotlib.pyplot as plt\n",
    "import seaborn as sb\n",
    "from statsmodels.stats.outliers_influence import variance_inflation_factor\n",
    "from sklearn import metrics\n",
    "from sklearn.model_selection import cross_val_score\n",
    "\n",
    "%matplotlib inline\n",
    "plt.rcParams.update({'figure.max_open_warning': 0})\n",
    "\n",
    "#Models\n",
    "from sklearn.ensemble import RandomForestClassifier,GradientBoostingClassifier,ExtraTreesClassifier\n",
    "from sklearn.linear_model import LogisticRegression\n",
    "from sklearn.tree import DecisionTreeClassifier\n",
    "\n",
    "#Time Execution\n",
    "!pip install ipython-autotime\n",
    "%load_ext autotime"
   ]
  },
  {
   "cell_type": "markdown",
   "metadata": {
    "colab_type": "text",
    "id": "3SDeT-vFeDkK"
   },
   "source": [
    "# Importing Dataset"
   ]
  },
  {
   "cell_type": "code",
   "execution_count": 2,
   "metadata": {
    "colab": {},
    "colab_type": "code",
    "id": "XtUHUx2YpNu0"
   },
   "outputs": [
    {
     "name": "stdout",
     "output_type": "stream",
     "text": [
      "time: 1.23 s\n"
     ]
    }
   ],
   "source": [
    "# Reading the dataset\n",
    "train_df = pd.read_csv(\"Train.txt\",delimiter=',')\n",
    "test_df = pd.read_csv(\"Test.txt\",delimiter=',')"
   ]
  },
  {
   "cell_type": "code",
   "execution_count": 3,
   "metadata": {
    "colab": {},
    "colab_type": "code",
    "id": "a36t38hxpNu9"
   },
   "outputs": [
    {
     "name": "stdout",
     "output_type": "stream",
     "text": [
      "time: 2.66 ms\n"
     ]
    }
   ],
   "source": [
    "# Providing column names to the datasets\n",
    "col=[\"duration\",\"protocol_type\",\"service\",\"flag\",\"src_bytes\",\"dst_bytes\",\"land\",\n",
    "\"wrong_fragment\",\"urgent\",\"hot\",\"num_failed_logins\",\"logged_in\",\n",
    "\"num_compromised\",\"root_shell\",\"su_attempted\",\"num_root\",\"num_file_creations\",\n",
    "\"num_shells\",\"num_access_files\",\"num_outbound_cmds\",\"is_host_login\",\n",
    "\"is_guest_login\",\"count\",\"srv_count\",\"serror_rate\", \"srv_serror_rate\",\n",
    "\"rerror_rate\",\"srv_rerror_rate\",\"same_srv_rate\", \"diff_srv_rate\",\n",
    "\"srv_diff_host_rate\",\"dst_host_count\",\"dst_host_srv_count\",\"dst_host_same_srv_rate\",\n",
    "\"dst_host_diff_srv_rate\",\"dst_host_same_src_port_rate\",\n",
    "\"dst_host_srv_diff_host_rate\",\"dst_host_serror_rate\",\"dst_host_srv_serror_rate\",\n",
    "\"dst_host_rerror_rate\",\"dst_host_srv_rerror_rate\",\"attack\", \"last_flag\"]\n",
    "\n",
    "train_df.columns = col\n",
    "\n",
    "test_df.columns = col"
   ]
  },
  {
   "cell_type": "code",
   "execution_count": 4,
   "metadata": {},
   "outputs": [
    {
     "name": "stdout",
     "output_type": "stream",
     "text": [
      "<class 'pandas.core.frame.DataFrame'>\n",
      "RangeIndex: 125972 entries, 0 to 125971\n",
      "Data columns (total 43 columns):\n",
      "duration                       125972 non-null int64\n",
      "protocol_type                  125972 non-null object\n",
      "service                        125972 non-null object\n",
      "flag                           125972 non-null object\n",
      "src_bytes                      125972 non-null int64\n",
      "dst_bytes                      125972 non-null int64\n",
      "land                           125972 non-null int64\n",
      "wrong_fragment                 125972 non-null int64\n",
      "urgent                         125972 non-null int64\n",
      "hot                            125972 non-null int64\n",
      "num_failed_logins              125972 non-null int64\n",
      "logged_in                      125972 non-null int64\n",
      "num_compromised                125972 non-null int64\n",
      "root_shell                     125972 non-null int64\n",
      "su_attempted                   125972 non-null int64\n",
      "num_root                       125972 non-null int64\n",
      "num_file_creations             125972 non-null int64\n",
      "num_shells                     125972 non-null int64\n",
      "num_access_files               125972 non-null int64\n",
      "num_outbound_cmds              125972 non-null int64\n",
      "is_host_login                  125972 non-null int64\n",
      "is_guest_login                 125972 non-null int64\n",
      "count                          125972 non-null int64\n",
      "srv_count                      125972 non-null int64\n",
      "serror_rate                    125972 non-null float64\n",
      "srv_serror_rate                125972 non-null float64\n",
      "rerror_rate                    125972 non-null float64\n",
      "srv_rerror_rate                125972 non-null float64\n",
      "same_srv_rate                  125972 non-null float64\n",
      "diff_srv_rate                  125972 non-null float64\n",
      "srv_diff_host_rate             125972 non-null float64\n",
      "dst_host_count                 125972 non-null int64\n",
      "dst_host_srv_count             125972 non-null int64\n",
      "dst_host_same_srv_rate         125972 non-null float64\n",
      "dst_host_diff_srv_rate         125972 non-null float64\n",
      "dst_host_same_src_port_rate    125972 non-null float64\n",
      "dst_host_srv_diff_host_rate    125972 non-null float64\n",
      "dst_host_serror_rate           125972 non-null float64\n",
      "dst_host_srv_serror_rate       125972 non-null float64\n",
      "dst_host_rerror_rate           125972 non-null float64\n",
      "dst_host_srv_rerror_rate       125972 non-null float64\n",
      "attack                         125972 non-null object\n",
      "last_flag                      125972 non-null int64\n",
      "dtypes: float64(15), int64(24), object(4)\n",
      "memory usage: 41.3+ MB\n",
      "time: 92.2 ms\n"
     ]
    }
   ],
   "source": [
    "train_df.info()"
   ]
  },
  {
   "cell_type": "code",
   "execution_count": 5,
   "metadata": {
    "colab": {
     "base_uri": "https://localhost:8080/",
     "height": 874
    },
    "colab_type": "code",
    "id": "c45d9_FOpNvQ",
    "outputId": "6038e88b-bf9d-4e2f-f0d1-666f24fd4e87"
   },
   "outputs": [
    {
     "name": "stdout",
     "output_type": "stream",
     "text": [
      "<class 'pandas.core.frame.DataFrame'>\n",
      "RangeIndex: 22543 entries, 0 to 22542\n",
      "Data columns (total 43 columns):\n",
      "duration                       22543 non-null int64\n",
      "protocol_type                  22543 non-null object\n",
      "service                        22543 non-null object\n",
      "flag                           22543 non-null object\n",
      "src_bytes                      22543 non-null int64\n",
      "dst_bytes                      22543 non-null int64\n",
      "land                           22543 non-null int64\n",
      "wrong_fragment                 22543 non-null int64\n",
      "urgent                         22543 non-null int64\n",
      "hot                            22543 non-null int64\n",
      "num_failed_logins              22543 non-null int64\n",
      "logged_in                      22543 non-null int64\n",
      "num_compromised                22543 non-null int64\n",
      "root_shell                     22543 non-null int64\n",
      "su_attempted                   22543 non-null int64\n",
      "num_root                       22543 non-null int64\n",
      "num_file_creations             22543 non-null int64\n",
      "num_shells                     22543 non-null int64\n",
      "num_access_files               22543 non-null int64\n",
      "num_outbound_cmds              22543 non-null int64\n",
      "is_host_login                  22543 non-null int64\n",
      "is_guest_login                 22543 non-null int64\n",
      "count                          22543 non-null int64\n",
      "srv_count                      22543 non-null int64\n",
      "serror_rate                    22543 non-null float64\n",
      "srv_serror_rate                22543 non-null float64\n",
      "rerror_rate                    22543 non-null float64\n",
      "srv_rerror_rate                22543 non-null float64\n",
      "same_srv_rate                  22543 non-null float64\n",
      "diff_srv_rate                  22543 non-null float64\n",
      "srv_diff_host_rate             22543 non-null float64\n",
      "dst_host_count                 22543 non-null int64\n",
      "dst_host_srv_count             22543 non-null int64\n",
      "dst_host_same_srv_rate         22543 non-null float64\n",
      "dst_host_diff_srv_rate         22543 non-null float64\n",
      "dst_host_same_src_port_rate    22543 non-null float64\n",
      "dst_host_srv_diff_host_rate    22543 non-null float64\n",
      "dst_host_serror_rate           22543 non-null float64\n",
      "dst_host_srv_serror_rate       22543 non-null float64\n",
      "dst_host_rerror_rate           22543 non-null float64\n",
      "dst_host_srv_rerror_rate       22543 non-null float64\n",
      "attack                         22543 non-null object\n",
      "last_flag                      22543 non-null int64\n",
      "dtypes: float64(15), int64(24), object(4)\n",
      "memory usage: 7.4+ MB\n",
      "time: 38.3 ms\n"
     ]
    }
   ],
   "source": [
    "test_df.info()"
   ]
  },
  {
   "cell_type": "markdown",
   "metadata": {
    "colab_type": "text",
    "id": "FjoxetdjpNvg"
   },
   "source": [
    "# Data Preprocessing and EDA"
   ]
  },
  {
   "cell_type": "code",
   "execution_count": 6,
   "metadata": {
    "colab": {
     "base_uri": "https://localhost:8080/",
     "height": 428
    },
    "colab_type": "code",
    "id": "f88V0C7hWOv7",
    "outputId": "451fe9a0-0d39-4245-f386-3299a20299e7"
   },
   "outputs": [
    {
     "data": {
      "text/plain": [
       "normal             67342\n",
       "neptune            41214\n",
       "satan               3633\n",
       "ipsweep             3599\n",
       "portsweep           2931\n",
       "smurf               2646\n",
       "nmap                1493\n",
       "back                 956\n",
       "teardrop             892\n",
       "warezclient          890\n",
       "pod                  201\n",
       "guess_passwd          53\n",
       "buffer_overflow       30\n",
       "warezmaster           20\n",
       "land                  18\n",
       "imap                  11\n",
       "rootkit               10\n",
       "loadmodule             9\n",
       "ftp_write              8\n",
       "multihop               7\n",
       "phf                    4\n",
       "perl                   3\n",
       "spy                    2\n",
       "Name: attack, dtype: int64"
      ]
     },
     "execution_count": 6,
     "metadata": {},
     "output_type": "execute_result"
    },
    {
     "name": "stdout",
     "output_type": "stream",
     "text": [
      "time: 47.1 ms\n"
     ]
    }
   ],
   "source": [
    "#Analyzing the count of each attack in train dataset\n",
    "train_df.attack.value_counts()"
   ]
  },
  {
   "cell_type": "code",
   "execution_count": 7,
   "metadata": {
    "colab": {
     "base_uri": "https://localhost:8080/",
     "height": 686
    },
    "colab_type": "code",
    "id": "-jtiITwlWklN",
    "outputId": "4f7c5e9c-2d58-4364-c9ed-e12c1604e984"
   },
   "outputs": [
    {
     "data": {
      "text/plain": [
       "normal             9711\n",
       "neptune            4656\n",
       "guess_passwd       1231\n",
       "mscan               996\n",
       "warezmaster         944\n",
       "apache2             737\n",
       "satan               735\n",
       "processtable        685\n",
       "smurf               665\n",
       "back                359\n",
       "snmpguess           331\n",
       "saint               319\n",
       "mailbomb            293\n",
       "snmpgetattack       178\n",
       "portsweep           157\n",
       "ipsweep             141\n",
       "httptunnel          133\n",
       "nmap                 73\n",
       "pod                  41\n",
       "buffer_overflow      20\n",
       "multihop             18\n",
       "named                17\n",
       "ps                   15\n",
       "sendmail             14\n",
       "xterm                13\n",
       "rootkit              13\n",
       "teardrop             12\n",
       "xlock                 9\n",
       "land                  7\n",
       "xsnoop                4\n",
       "ftp_write             3\n",
       "perl                  2\n",
       "worm                  2\n",
       "udpstorm              2\n",
       "loadmodule            2\n",
       "sqlattack             2\n",
       "phf                   2\n",
       "imap                  1\n",
       "Name: attack, dtype: int64"
      ]
     },
     "execution_count": 7,
     "metadata": {},
     "output_type": "execute_result"
    },
    {
     "name": "stdout",
     "output_type": "stream",
     "text": [
      "time: 10.8 ms\n"
     ]
    }
   ],
   "source": [
    "#Analyzing the count of each attack in test dataset\n",
    "test_df.attack.value_counts()"
   ]
  },
  {
   "cell_type": "code",
   "execution_count": 8,
   "metadata": {},
   "outputs": [
    {
     "data": {
      "image/png": "[encoded data removed]",
      "text/plain": [
       "<Figure size 3600x720 with 1 Axes>"
      ]
     },
     "metadata": {
      "needs_background": "light"
     },
     "output_type": "display_data"
    },
    {
     "name": "stdout",
     "output_type": "stream",
     "text": [
      "time: 1.49 s\n"
     ]
    }
   ],
   "source": [
    "#visualizing train attack values\n",
    "label_count = train_df.groupby('attack', as_index = False).count()\n",
    "class_name = list(label_count['attack'])\n",
    "count = list(label_count['duration'])\n",
    "index = np.arange(len(class_name))\n",
    "plt.figure(figsize=(50,10))\n",
    "sb.barplot(x=class_name, y=count, linewidth=2.5, errcolor=\".2\", edgecolor=\".2\")\n",
    "plt.xlabel('Class', fontsize=15)\n",
    "plt.ylabel('Number of data', fontsize=15)\n",
    "plt.xticks(index, class_name, fontsize=15)\n",
    "plt.title('Class distribution')\n",
    "plt.show()"
   ]
  },
  {
   "cell_type": "code",
   "execution_count": 9,
   "metadata": {},
   "outputs": [
    {
     "data": {
      "image/png": "[encoded data removed]",
      "text/plain": [
       "<Figure size 7200x2160 with 1 Axes>"
      ]
     },
     "metadata": {
      "needs_background": "light"
     },
     "output_type": "display_data"
    },
    {
     "name": "stdout",
     "output_type": "stream",
     "text": [
      "time: 3.9 s\n"
     ]
    }
   ],
   "source": [
    "#visualizing test attack values\n",
    "label_count = test_df.groupby('attack', as_index = False).count()\n",
    "class_name = list(label_count['attack'])\n",
    "count = list(label_count['duration'])\n",
    "index = np.arange(len(class_name))\n",
    "plt.figure(figsize=(100,30))\n",
    "sb.barplot(x=class_name, y=count, linewidth=2.5, errcolor=\".2\", edgecolor=\".2\")\n",
    "plt.xlabel('Class', fontsize=15)\n",
    "plt.ylabel('Number of data', fontsize=15)\n",
    "plt.xticks(index, class_name, fontsize=15)\n",
    "plt.title('Class distribution')\n",
    "plt.show()"
   ]
  },
  {
   "cell_type": "markdown",
   "metadata": {},
   "source": [
    "Test data has more variants of attack then train. This is an imbalance dataset"
   ]
  },
  {
   "cell_type": "markdown",
   "metadata": {
    "colab_type": "text",
    "id": "SMZqmy1Y0eut"
   },
   "source": [
    "## Missing value "
   ]
  },
  {
   "cell_type": "code",
   "execution_count": 10,
   "metadata": {
    "colab": {
     "base_uri": "https://localhost:8080/",
     "height": 771
    },
    "colab_type": "code",
    "id": "VVysN6zvz5Vv",
    "outputId": "8098c383-03b5-49e2-c82d-0fe58a146d13"
   },
   "outputs": [
    {
     "data": {
      "text/plain": [
       "duration                       0\n",
       "protocol_type                  0\n",
       "service                        0\n",
       "flag                           0\n",
       "src_bytes                      0\n",
       "dst_bytes                      0\n",
       "land                           0\n",
       "wrong_fragment                 0\n",
       "urgent                         0\n",
       "hot                            0\n",
       "num_failed_logins              0\n",
       "logged_in                      0\n",
       "num_compromised                0\n",
       "root_shell                     0\n",
       "su_attempted                   0\n",
       "num_root                       0\n",
       "num_file_creations             0\n",
       "num_shells                     0\n",
       "num_access_files               0\n",
       "num_outbound_cmds              0\n",
       "is_host_login                  0\n",
       "is_guest_login                 0\n",
       "count                          0\n",
       "srv_count                      0\n",
       "serror_rate                    0\n",
       "srv_serror_rate                0\n",
       "rerror_rate                    0\n",
       "srv_rerror_rate                0\n",
       "same_srv_rate                  0\n",
       "diff_srv_rate                  0\n",
       "srv_diff_host_rate             0\n",
       "dst_host_count                 0\n",
       "dst_host_srv_count             0\n",
       "dst_host_same_srv_rate         0\n",
       "dst_host_diff_srv_rate         0\n",
       "dst_host_same_src_port_rate    0\n",
       "dst_host_srv_diff_host_rate    0\n",
       "dst_host_serror_rate           0\n",
       "dst_host_srv_serror_rate       0\n",
       "dst_host_rerror_rate           0\n",
       "dst_host_srv_rerror_rate       0\n",
       "attack                         0\n",
       "last_flag                      0\n",
       "dtype: int64"
      ]
     },
     "execution_count": 10,
     "metadata": {},
     "output_type": "execute_result"
    },
    {
     "name": "stdout",
     "output_type": "stream",
     "text": [
      "time: 88.4 ms\n"
     ]
    }
   ],
   "source": [
    "#Checking if there are any missing values in train dataset\n",
    "train_df.isna().sum()"
   ]
  },
  {
   "cell_type": "code",
   "execution_count": 11,
   "metadata": {
    "colab": {
     "base_uri": "https://localhost:8080/",
     "height": 771
    },
    "colab_type": "code",
    "id": "0XEhXmuy0zeB",
    "outputId": "fac8abc9-df04-454a-e6fa-5343237a0b64"
   },
   "outputs": [
    {
     "data": {
      "text/plain": [
       "duration                       0\n",
       "protocol_type                  0\n",
       "service                        0\n",
       "flag                           0\n",
       "src_bytes                      0\n",
       "dst_bytes                      0\n",
       "land                           0\n",
       "wrong_fragment                 0\n",
       "urgent                         0\n",
       "hot                            0\n",
       "num_failed_logins              0\n",
       "logged_in                      0\n",
       "num_compromised                0\n",
       "root_shell                     0\n",
       "su_attempted                   0\n",
       "num_root                       0\n",
       "num_file_creations             0\n",
       "num_shells                     0\n",
       "num_access_files               0\n",
       "num_outbound_cmds              0\n",
       "is_host_login                  0\n",
       "is_guest_login                 0\n",
       "count                          0\n",
       "srv_count                      0\n",
       "serror_rate                    0\n",
       "srv_serror_rate                0\n",
       "rerror_rate                    0\n",
       "srv_rerror_rate                0\n",
       "same_srv_rate                  0\n",
       "diff_srv_rate                  0\n",
       "srv_diff_host_rate             0\n",
       "dst_host_count                 0\n",
       "dst_host_srv_count             0\n",
       "dst_host_same_srv_rate         0\n",
       "dst_host_diff_srv_rate         0\n",
       "dst_host_same_src_port_rate    0\n",
       "dst_host_srv_diff_host_rate    0\n",
       "dst_host_serror_rate           0\n",
       "dst_host_srv_serror_rate       0\n",
       "dst_host_rerror_rate           0\n",
       "dst_host_srv_rerror_rate       0\n",
       "attack                         0\n",
       "last_flag                      0\n",
       "dtype: int64"
      ]
     },
     "execution_count": 11,
     "metadata": {},
     "output_type": "execute_result"
    },
    {
     "name": "stdout",
     "output_type": "stream",
     "text": [
      "time: 21.1 ms\n"
     ]
    }
   ],
   "source": [
    "#Checking if there are any missing values in test dataset\n",
    "test_df.isna().sum()"
   ]
  },
  {
   "cell_type": "markdown",
   "metadata": {},
   "source": [
    "## Deriving binary and multiclass labels from attack label. "
   ]
  },
  {
   "cell_type": "code",
   "execution_count": 12,
   "metadata": {
    "colab": {},
    "colab_type": "code",
    "id": "mfbEWNENGAyl"
   },
   "outputs": [
    {
     "name": "stdout",
     "output_type": "stream",
     "text": [
      "time: 63 ms\n"
     ]
    }
   ],
   "source": [
    "#Creating new column for attack or no attack.\n",
    "attack_mapping_binomial = {\"normal\":0,\"back\":1,\"land\":1,\"neptune\":1,\"pod\":1,\"smurf\":1,\"teardrop\":1,\"apache2\":1,\"udpstorm\":1,\"processtable\":1,\"worm\":1,\n",
    "                           \"mailbomb\":1,\"satan\":1,\"ipsweep\":1,\"nmap\":1,\"portsweep\":1,\"mscan\":1,\"saint\":1,\"guess_passwd\":1,\"ftp_write\":1,\"imap\":1,\"phf\":1,\"multihop\":1,\n",
    "                           \"warezmaster\":1,\"warezclient\":1,\"spy\":1,\"xlock\":1,\"xsnoop\":1,\"snmpguess\":1,\"snmpgetattack\":1,\"httptunnel\":1,\"sendmail\":1,\"named\":1,\n",
    "                           \"buffer_overflow\":1,\"loadmodule\":1,\"rootkit\":1,\"perl\":1,\"sqlattack\":1,\"xterm\":1,\"ps\":1}\n",
    "\n",
    "train_df['bi_attack'] = train_df['attack'].map(attack_mapping_binomial)\n",
    "test_df['bi_attack'] = test_df['attack'].map(attack_mapping_binomial)\n",
    "\n",
    "#Creating new mulitnomial column as one of the 4 major categories of attack [DOS, PROBE, R2L, U2R]\n",
    "attack_mapping_multinomial = {\"normal\":'normal',\n",
    "                           \"back\":\"Dos\",\"land\":\"Dos\",\"neptune\":\"Dos\",\"pod\":\"Dos\",\"smurf\":\"Dos\",\"teardrop\":\"Dos\",\"apache2\":\"Dos\",\"udpstorm\":\"Dos\",\"processtable\":\"Dos\",\n",
    "                           \"worm\":\"Dos\", \"mailbomb\":\"Dos\",\n",
    "                           \"satan\":\"Probe\",\"ipsweep\":\"Probe\",\"nmap\":\"Probe\",\"portsweep\":\"Probe\",\"mscan\":\"Probe\",\"saint\":\"Probe\",\n",
    "                           \"guess_passwd\":\"R2L\",\"ftp_write\":\"R2L\",\"imap\":\"R2L\",\"phf\":\"R2L\",\"multihop\":\"R2L\",\"warezmaster\":\"R2L\",\"warezclient\":\"R2L\",\"spy\":\"R2L\",\n",
    "                           \"xlock\":\"R2L\",\"xsnoop\":\"R2L\",\"snmpguess\":\"R2L\",\"snmpgetattack\":\"R2L\",\"httptunnel\":\"R2L\",\"sendmail\":\"R2L\",\"named\":\"R2L\",\n",
    "                           \"buffer_overflow\":\"U2R\",\"loadmodule\":\"U2R\",\"rootkit\":\"U2R\",\"perl\":\"U2R\",\"sqlattack\":\"U2R\",\"xterm\":\"U2R\",\"ps\":\"U2R\"}\n",
    "\n",
    "train_df['multi_attack'] = train_df['attack'].map(attack_mapping_multinomial)\n",
    "test_df['multi_attack'] = test_df['attack'].map(attack_mapping_multinomial)"
   ]
  },
  {
   "cell_type": "code",
   "execution_count": 13,
   "metadata": {
    "colab": {
     "base_uri": "https://localhost:8080/",
     "height": 417
    },
    "colab_type": "code",
    "id": "znGai6glJvrm",
    "outputId": "1d029de7-d49f-4a12-d190-3a1062b50882"
   },
   "outputs": [
    {
     "data": {
      "text/html": [
       "<div>\n",
       "<style scoped>\n",
       "    .dataframe tbody tr th:only-of-type {\n",
       "        vertical-align: middle;\n",
       "    }\n",
       "\n",
       "    .dataframe tbody tr th {\n",
       "        vertical-align: top;\n",
       "    }\n",
       "\n",
       "    .dataframe thead th {\n",
       "        text-align: right;\n",
       "    }\n",
       "</style>\n",
       "<table border=\"1\" class=\"dataframe\">\n",
       "  <thead>\n",
       "    <tr style=\"text-align: right;\">\n",
       "      <th></th>\n",
       "      <th>bi_attack</th>\n",
       "      <th>multi_attack</th>\n",
       "    </tr>\n",
       "  </thead>\n",
       "  <tbody>\n",
       "    <tr>\n",
       "      <th>0</th>\n",
       "      <td>0</td>\n",
       "      <td>normal</td>\n",
       "    </tr>\n",
       "    <tr>\n",
       "      <th>1</th>\n",
       "      <td>1</td>\n",
       "      <td>Dos</td>\n",
       "    </tr>\n",
       "    <tr>\n",
       "      <th>2</th>\n",
       "      <td>0</td>\n",
       "      <td>normal</td>\n",
       "    </tr>\n",
       "    <tr>\n",
       "      <th>3</th>\n",
       "      <td>0</td>\n",
       "      <td>normal</td>\n",
       "    </tr>\n",
       "    <tr>\n",
       "      <th>4</th>\n",
       "      <td>1</td>\n",
       "      <td>Dos</td>\n",
       "    </tr>\n",
       "    <tr>\n",
       "      <th>...</th>\n",
       "      <td>...</td>\n",
       "      <td>...</td>\n",
       "    </tr>\n",
       "    <tr>\n",
       "      <th>125967</th>\n",
       "      <td>1</td>\n",
       "      <td>Dos</td>\n",
       "    </tr>\n",
       "    <tr>\n",
       "      <th>125968</th>\n",
       "      <td>0</td>\n",
       "      <td>normal</td>\n",
       "    </tr>\n",
       "    <tr>\n",
       "      <th>125969</th>\n",
       "      <td>0</td>\n",
       "      <td>normal</td>\n",
       "    </tr>\n",
       "    <tr>\n",
       "      <th>125970</th>\n",
       "      <td>1</td>\n",
       "      <td>Dos</td>\n",
       "    </tr>\n",
       "    <tr>\n",
       "      <th>125971</th>\n",
       "      <td>0</td>\n",
       "      <td>normal</td>\n",
       "    </tr>\n",
       "  </tbody>\n",
       "</table>\n",
       "<p>125972 rows × 2 columns</p>\n",
       "</div>"
      ],
      "text/plain": [
       "        bi_attack multi_attack\n",
       "0               0       normal\n",
       "1               1          Dos\n",
       "2               0       normal\n",
       "3               0       normal\n",
       "4               1          Dos\n",
       "...           ...          ...\n",
       "125967          1          Dos\n",
       "125968          0       normal\n",
       "125969          0       normal\n",
       "125970          1          Dos\n",
       "125971          0       normal\n",
       "\n",
       "[125972 rows x 2 columns]"
      ]
     },
     "execution_count": 13,
     "metadata": {},
     "output_type": "execute_result"
    },
    {
     "name": "stdout",
     "output_type": "stream",
     "text": [
      "time: 100 ms\n"
     ]
    }
   ],
   "source": [
    "#Checking newly created labels in train dataset\n",
    "train_df[['bi_attack','multi_attack']]"
   ]
  },
  {
   "cell_type": "code",
   "execution_count": 14,
   "metadata": {
    "colab": {
     "base_uri": "https://localhost:8080/",
     "height": 417
    },
    "colab_type": "code",
    "id": "9sZ-klGNKFsb",
    "outputId": "58d048c0-d8f7-479a-866a-bc1f6709120d"
   },
   "outputs": [
    {
     "data": {
      "text/html": [
       "<div>\n",
       "<style scoped>\n",
       "    .dataframe tbody tr th:only-of-type {\n",
       "        vertical-align: middle;\n",
       "    }\n",
       "\n",
       "    .dataframe tbody tr th {\n",
       "        vertical-align: top;\n",
       "    }\n",
       "\n",
       "    .dataframe thead th {\n",
       "        text-align: right;\n",
       "    }\n",
       "</style>\n",
       "<table border=\"1\" class=\"dataframe\">\n",
       "  <thead>\n",
       "    <tr style=\"text-align: right;\">\n",
       "      <th></th>\n",
       "      <th>bi_attack</th>\n",
       "      <th>multi_attack</th>\n",
       "    </tr>\n",
       "  </thead>\n",
       "  <tbody>\n",
       "    <tr>\n",
       "      <th>0</th>\n",
       "      <td>1</td>\n",
       "      <td>Dos</td>\n",
       "    </tr>\n",
       "    <tr>\n",
       "      <th>1</th>\n",
       "      <td>0</td>\n",
       "      <td>normal</td>\n",
       "    </tr>\n",
       "    <tr>\n",
       "      <th>2</th>\n",
       "      <td>1</td>\n",
       "      <td>Probe</td>\n",
       "    </tr>\n",
       "    <tr>\n",
       "      <th>3</th>\n",
       "      <td>1</td>\n",
       "      <td>Probe</td>\n",
       "    </tr>\n",
       "    <tr>\n",
       "      <th>4</th>\n",
       "      <td>0</td>\n",
       "      <td>normal</td>\n",
       "    </tr>\n",
       "    <tr>\n",
       "      <th>...</th>\n",
       "      <td>...</td>\n",
       "      <td>...</td>\n",
       "    </tr>\n",
       "    <tr>\n",
       "      <th>22538</th>\n",
       "      <td>0</td>\n",
       "      <td>normal</td>\n",
       "    </tr>\n",
       "    <tr>\n",
       "      <th>22539</th>\n",
       "      <td>0</td>\n",
       "      <td>normal</td>\n",
       "    </tr>\n",
       "    <tr>\n",
       "      <th>22540</th>\n",
       "      <td>1</td>\n",
       "      <td>Dos</td>\n",
       "    </tr>\n",
       "    <tr>\n",
       "      <th>22541</th>\n",
       "      <td>0</td>\n",
       "      <td>normal</td>\n",
       "    </tr>\n",
       "    <tr>\n",
       "      <th>22542</th>\n",
       "      <td>1</td>\n",
       "      <td>Probe</td>\n",
       "    </tr>\n",
       "  </tbody>\n",
       "</table>\n",
       "<p>22543 rows × 2 columns</p>\n",
       "</div>"
      ],
      "text/plain": [
       "       bi_attack multi_attack\n",
       "0              1          Dos\n",
       "1              0       normal\n",
       "2              1        Probe\n",
       "3              1        Probe\n",
       "4              0       normal\n",
       "...          ...          ...\n",
       "22538          0       normal\n",
       "22539          0       normal\n",
       "22540          1          Dos\n",
       "22541          0       normal\n",
       "22542          1        Probe\n",
       "\n",
       "[22543 rows x 2 columns]"
      ]
     },
     "execution_count": 14,
     "metadata": {},
     "output_type": "execute_result"
    },
    {
     "name": "stdout",
     "output_type": "stream",
     "text": [
      "time: 29.4 ms\n"
     ]
    }
   ],
   "source": [
    "#Checking newly created labels in test dataset\n",
    "test_df[['bi_attack','multi_attack']]"
   ]
  },
  {
   "cell_type": "code",
   "execution_count": 15,
   "metadata": {
    "colab": {
     "base_uri": "https://localhost:8080/",
     "height": 68
    },
    "colab_type": "code",
    "id": "echzRX3YJ_cm",
    "outputId": "b7117c21-79ac-4fbf-fcb3-1c83f7ee292e"
   },
   "outputs": [
    {
     "data": {
      "text/plain": [
       "0    67342\n",
       "1    58630\n",
       "Name: bi_attack, dtype: int64"
      ]
     },
     "execution_count": 15,
     "metadata": {},
     "output_type": "execute_result"
    },
    {
     "name": "stdout",
     "output_type": "stream",
     "text": [
      "time: 14.8 ms\n"
     ]
    }
   ],
   "source": [
    "train_df.bi_attack.value_counts()"
   ]
  },
  {
   "cell_type": "code",
   "execution_count": 16,
   "metadata": {
    "colab": {
     "base_uri": "https://localhost:8080/",
     "height": 68
    },
    "colab_type": "code",
    "id": "wznOO2XHKJ7-",
    "outputId": "2ac0b1d9-002e-4e37-a186-75bde2d1c18a"
   },
   "outputs": [
    {
     "data": {
      "text/plain": [
       "1    12832\n",
       "0     9711\n",
       "Name: bi_attack, dtype: int64"
      ]
     },
     "execution_count": 16,
     "metadata": {},
     "output_type": "execute_result"
    },
    {
     "name": "stdout",
     "output_type": "stream",
     "text": [
      "time: 9.67 ms\n"
     ]
    }
   ],
   "source": [
    "test_df.bi_attack.value_counts()"
   ]
  },
  {
   "cell_type": "code",
   "execution_count": 17,
   "metadata": {
    "colab": {
     "base_uri": "https://localhost:8080/",
     "height": 120
    },
    "colab_type": "code",
    "id": "yF7LJCelKNvB",
    "outputId": "52e35b76-28a7-411a-e939-046ab17bf539"
   },
   "outputs": [
    {
     "data": {
      "text/plain": [
       "normal    67342\n",
       "Dos       45927\n",
       "Probe     11656\n",
       "R2L         995\n",
       "U2R          52\n",
       "Name: multi_attack, dtype: int64"
      ]
     },
     "execution_count": 17,
     "metadata": {},
     "output_type": "execute_result"
    },
    {
     "name": "stdout",
     "output_type": "stream",
     "text": [
      "time: 25.6 ms\n"
     ]
    }
   ],
   "source": [
    "train_df.multi_attack.value_counts()"
   ]
  },
  {
   "cell_type": "code",
   "execution_count": 18,
   "metadata": {
    "colab": {
     "base_uri": "https://localhost:8080/",
     "height": 120
    },
    "colab_type": "code",
    "id": "gjXgaye_KTdi",
    "outputId": "1c5a2430-13ae-439b-d9f7-beff6e3d0e87"
   },
   "outputs": [
    {
     "data": {
      "text/plain": [
       "normal    9711\n",
       "Dos       7459\n",
       "R2L       2885\n",
       "Probe     2421\n",
       "U2R         67\n",
       "Name: multi_attack, dtype: int64"
      ]
     },
     "execution_count": 18,
     "metadata": {},
     "output_type": "execute_result"
    },
    {
     "name": "stdout",
     "output_type": "stream",
     "text": [
      "time: 14.5 ms\n"
     ]
    }
   ],
   "source": [
    "test_df.multi_attack.value_counts()"
   ]
  },
  {
   "cell_type": "code",
   "execution_count": 19,
   "metadata": {
    "colab": {
     "base_uri": "https://localhost:8080/",
     "height": 908
    },
    "colab_type": "code",
    "id": "K0ZlWPiENRQH",
    "outputId": "07ef3f9c-92bd-4004-8527-a07f748958d6"
   },
   "outputs": [
    {
     "name": "stdout",
     "output_type": "stream",
     "text": [
      "<class 'pandas.core.frame.DataFrame'>\n",
      "RangeIndex: 125972 entries, 0 to 125971\n",
      "Data columns (total 45 columns):\n",
      "duration                       125972 non-null int64\n",
      "protocol_type                  125972 non-null object\n",
      "service                        125972 non-null object\n",
      "flag                           125972 non-null object\n",
      "src_bytes                      125972 non-null int64\n",
      "dst_bytes                      125972 non-null int64\n",
      "land                           125972 non-null int64\n",
      "wrong_fragment                 125972 non-null int64\n",
      "urgent                         125972 non-null int64\n",
      "hot                            125972 non-null int64\n",
      "num_failed_logins              125972 non-null int64\n",
      "logged_in                      125972 non-null int64\n",
      "num_compromised                125972 non-null int64\n",
      "root_shell                     125972 non-null int64\n",
      "su_attempted                   125972 non-null int64\n",
      "num_root                       125972 non-null int64\n",
      "num_file_creations             125972 non-null int64\n",
      "num_shells                     125972 non-null int64\n",
      "num_access_files               125972 non-null int64\n",
      "num_outbound_cmds              125972 non-null int64\n",
      "is_host_login                  125972 non-null int64\n",
      "is_guest_login                 125972 non-null int64\n",
      "count                          125972 non-null int64\n",
      "srv_count                      125972 non-null int64\n",
      "serror_rate                    125972 non-null float64\n",
      "srv_serror_rate                125972 non-null float64\n",
      "rerror_rate                    125972 non-null float64\n",
      "srv_rerror_rate                125972 non-null float64\n",
      "same_srv_rate                  125972 non-null float64\n",
      "diff_srv_rate                  125972 non-null float64\n",
      "srv_diff_host_rate             125972 non-null float64\n",
      "dst_host_count                 125972 non-null int64\n",
      "dst_host_srv_count             125972 non-null int64\n",
      "dst_host_same_srv_rate         125972 non-null float64\n",
      "dst_host_diff_srv_rate         125972 non-null float64\n",
      "dst_host_same_src_port_rate    125972 non-null float64\n",
      "dst_host_srv_diff_host_rate    125972 non-null float64\n",
      "dst_host_serror_rate           125972 non-null float64\n",
      "dst_host_srv_serror_rate       125972 non-null float64\n",
      "dst_host_rerror_rate           125972 non-null float64\n",
      "dst_host_srv_rerror_rate       125972 non-null float64\n",
      "attack                         125972 non-null object\n",
      "last_flag                      125972 non-null int64\n",
      "bi_attack                      125972 non-null int64\n",
      "multi_attack                   125972 non-null object\n",
      "dtypes: float64(15), int64(25), object(5)\n",
      "memory usage: 43.2+ MB\n",
      "time: 99.1 ms\n"
     ]
    }
   ],
   "source": [
    "train_df.info()"
   ]
  },
  {
   "cell_type": "code",
   "execution_count": 20,
   "metadata": {
    "colab": {
     "base_uri": "https://localhost:8080/",
     "height": 908
    },
    "colab_type": "code",
    "id": "0gBh8N4ENaYO",
    "outputId": "304ac396-7850-4c04-b2bd-2506711516fd"
   },
   "outputs": [
    {
     "name": "stdout",
     "output_type": "stream",
     "text": [
      "<class 'pandas.core.frame.DataFrame'>\n",
      "RangeIndex: 22543 entries, 0 to 22542\n",
      "Data columns (total 45 columns):\n",
      "duration                       22543 non-null int64\n",
      "protocol_type                  22543 non-null object\n",
      "service                        22543 non-null object\n",
      "flag                           22543 non-null object\n",
      "src_bytes                      22543 non-null int64\n",
      "dst_bytes                      22543 non-null int64\n",
      "land                           22543 non-null int64\n",
      "wrong_fragment                 22543 non-null int64\n",
      "urgent                         22543 non-null int64\n",
      "hot                            22543 non-null int64\n",
      "num_failed_logins              22543 non-null int64\n",
      "logged_in                      22543 non-null int64\n",
      "num_compromised                22543 non-null int64\n",
      "root_shell                     22543 non-null int64\n",
      "su_attempted                   22543 non-null int64\n",
      "num_root                       22543 non-null int64\n",
      "num_file_creations             22543 non-null int64\n",
      "num_shells                     22543 non-null int64\n",
      "num_access_files               22543 non-null int64\n",
      "num_outbound_cmds              22543 non-null int64\n",
      "is_host_login                  22543 non-null int64\n",
      "is_guest_login                 22543 non-null int64\n",
      "count                          22543 non-null int64\n",
      "srv_count                      22543 non-null int64\n",
      "serror_rate                    22543 non-null float64\n",
      "srv_serror_rate                22543 non-null float64\n",
      "rerror_rate                    22543 non-null float64\n",
      "srv_rerror_rate                22543 non-null float64\n",
      "same_srv_rate                  22543 non-null float64\n",
      "diff_srv_rate                  22543 non-null float64\n",
      "srv_diff_host_rate             22543 non-null float64\n",
      "dst_host_count                 22543 non-null int64\n",
      "dst_host_srv_count             22543 non-null int64\n",
      "dst_host_same_srv_rate         22543 non-null float64\n",
      "dst_host_diff_srv_rate         22543 non-null float64\n",
      "dst_host_same_src_port_rate    22543 non-null float64\n",
      "dst_host_srv_diff_host_rate    22543 non-null float64\n",
      "dst_host_serror_rate           22543 non-null float64\n",
      "dst_host_srv_serror_rate       22543 non-null float64\n",
      "dst_host_rerror_rate           22543 non-null float64\n",
      "dst_host_srv_rerror_rate       22543 non-null float64\n",
      "attack                         22543 non-null object\n",
      "last_flag                      22543 non-null int64\n",
      "bi_attack                      22543 non-null int64\n",
      "multi_attack                   22543 non-null object\n",
      "dtypes: float64(15), int64(25), object(5)\n",
      "memory usage: 7.7+ MB\n",
      "time: 32.2 ms\n"
     ]
    }
   ],
   "source": [
    "test_df.info()"
   ]
  },
  {
   "cell_type": "markdown",
   "metadata": {
    "colab_type": "text",
    "id": "62kvSYeipNvx"
   },
   "source": [
    "## Splitting num and cat from train and test"
   ]
  },
  {
   "cell_type": "code",
   "execution_count": 21,
   "metadata": {
    "colab": {},
    "colab_type": "code",
    "id": "WzJoGs0upNvz"
   },
   "outputs": [
    {
     "name": "stdout",
     "output_type": "stream",
     "text": [
      "time: 1.1 ms\n"
     ]
    }
   ],
   "source": [
    "#List for binary categorical features\n",
    "bi_cat_list = ['land', 'logged_in', 'root_shell', 'su_attempted', 'is_host_login','is_guest_login']\n",
    "#List for mulicategorical features\n",
    "multi_cat_list = ['protocol_type', 'service', 'flag']\n",
    "#List for binary and multi categorical features\n",
    "combo_cat_list = ['land', 'logged_in', 'root_shell', 'su_attempted', 'is_host_login','is_guest_login','protocol_type', 'service', 'flag','attack','bi_attack','multi_attack']"
   ]
  },
  {
   "cell_type": "markdown",
   "metadata": {
    "colab_type": "text",
    "id": "OQe091JupNwB"
   },
   "source": [
    "### Numerical"
   ]
  },
  {
   "cell_type": "code",
   "execution_count": 22,
   "metadata": {
    "colab": {},
    "colab_type": "code",
    "id": "zThJjlQIpNwD"
   },
   "outputs": [
    {
     "name": "stdout",
     "output_type": "stream",
     "text": [
      "time: 7.28 ms\n"
     ]
    }
   ],
   "source": [
    "#Function for detail audit report\n",
    "def var_summary(x):\n",
    "    return pd.Series([x.count(), x.isnull().sum(), x.sum(), x.mean(), x.median(),  x.std(), x.var(), x.min(), x.dropna().quantile(0.01), x.dropna().quantile(0.05),x.dropna().quantile(0.10),x.dropna().quantile(0.25),x.dropna().quantile(0.50),x.dropna().quantile(0.75), x.dropna().quantile(0.90),x.dropna().quantile(0.95), x.dropna().quantile(0.99),x.max()], \n",
    "                  index=['N', 'NMISS', 'SUM', 'MEAN','MEDIAN', 'STD', 'VAR', 'MIN', 'P1' , 'P5' ,'P10' ,'P25' ,'P50' ,'P75' ,'P90' ,'P95' ,'P99' ,'MAX'])\n",
    "\n"
   ]
  },
  {
   "cell_type": "code",
   "execution_count": 23,
   "metadata": {
    "colab": {
     "base_uri": "https://localhost:8080/",
     "height": 1000
    },
    "colab_type": "code",
    "id": "GXbUF6hopNwG",
    "outputId": "e65c514d-504b-4950-92c3-f8839b2cee49"
   },
   "outputs": [
    {
     "data": {
      "text/html": [
       "<div>\n",
       "<style scoped>\n",
       "    .dataframe tbody tr th:only-of-type {\n",
       "        vertical-align: middle;\n",
       "    }\n",
       "\n",
       "    .dataframe tbody tr th {\n",
       "        vertical-align: top;\n",
       "    }\n",
       "\n",
       "    .dataframe thead th {\n",
       "        text-align: right;\n",
       "    }\n",
       "</style>\n",
       "<table border=\"1\" class=\"dataframe\">\n",
       "  <thead>\n",
       "    <tr style=\"text-align: right;\">\n",
       "      <th></th>\n",
       "      <th>N</th>\n",
       "      <th>NMISS</th>\n",
       "      <th>SUM</th>\n",
       "      <th>MEAN</th>\n",
       "      <th>MEDIAN</th>\n",
       "      <th>STD</th>\n",
       "      <th>VAR</th>\n",
       "      <th>MIN</th>\n",
       "      <th>P1</th>\n",
       "      <th>P5</th>\n",
       "      <th>P10</th>\n",
       "      <th>P25</th>\n",
       "      <th>P50</th>\n",
       "      <th>P75</th>\n",
       "      <th>P90</th>\n",
       "      <th>P95</th>\n",
       "      <th>P99</th>\n",
       "      <th>MAX</th>\n",
       "    </tr>\n",
       "  </thead>\n",
       "  <tbody>\n",
       "    <tr>\n",
       "      <th>count</th>\n",
       "      <td>125972.0</td>\n",
       "      <td>0.0</td>\n",
       "      <td>1.059528e+07</td>\n",
       "      <td>84.108207</td>\n",
       "      <td>14.00</td>\n",
       "      <td>1.145088e+02</td>\n",
       "      <td>1.311227e+04</td>\n",
       "      <td>0.0</td>\n",
       "      <td>1.0</td>\n",
       "      <td>1.00</td>\n",
       "      <td>1.00</td>\n",
       "      <td>2.00</td>\n",
       "      <td>14.00</td>\n",
       "      <td>143.00</td>\n",
       "      <td>256.00</td>\n",
       "      <td>286.00</td>\n",
       "      <td>511.00</td>\n",
       "      <td>5.110000e+02</td>\n",
       "    </tr>\n",
       "    <tr>\n",
       "      <th>diff_srv_rate</th>\n",
       "      <td>125972.0</td>\n",
       "      <td>0.0</td>\n",
       "      <td>7.942930e+03</td>\n",
       "      <td>0.063053</td>\n",
       "      <td>0.00</td>\n",
       "      <td>1.803150e-01</td>\n",
       "      <td>3.251351e-02</td>\n",
       "      <td>0.0</td>\n",
       "      <td>0.0</td>\n",
       "      <td>0.00</td>\n",
       "      <td>0.00</td>\n",
       "      <td>0.00</td>\n",
       "      <td>0.00</td>\n",
       "      <td>0.06</td>\n",
       "      <td>0.07</td>\n",
       "      <td>0.29</td>\n",
       "      <td>1.00</td>\n",
       "      <td>1.000000e+00</td>\n",
       "    </tr>\n",
       "    <tr>\n",
       "      <th>dst_bytes</th>\n",
       "      <td>125972.0</td>\n",
       "      <td>0.0</td>\n",
       "      <td>2.491634e+09</td>\n",
       "      <td>19779.271433</td>\n",
       "      <td>0.00</td>\n",
       "      <td>4.021285e+06</td>\n",
       "      <td>1.617073e+13</td>\n",
       "      <td>0.0</td>\n",
       "      <td>0.0</td>\n",
       "      <td>0.00</td>\n",
       "      <td>0.00</td>\n",
       "      <td>0.00</td>\n",
       "      <td>0.00</td>\n",
       "      <td>516.00</td>\n",
       "      <td>3375.90</td>\n",
       "      <td>8314.00</td>\n",
       "      <td>25519.00</td>\n",
       "      <td>1.309937e+09</td>\n",
       "    </tr>\n",
       "    <tr>\n",
       "      <th>dst_host_count</th>\n",
       "      <td>125972.0</td>\n",
       "      <td>0.0</td>\n",
       "      <td>2.294570e+07</td>\n",
       "      <td>182.149200</td>\n",
       "      <td>255.00</td>\n",
       "      <td>9.920657e+01</td>\n",
       "      <td>9.841943e+03</td>\n",
       "      <td>0.0</td>\n",
       "      <td>1.0</td>\n",
       "      <td>3.00</td>\n",
       "      <td>11.00</td>\n",
       "      <td>82.00</td>\n",
       "      <td>255.00</td>\n",
       "      <td>255.00</td>\n",
       "      <td>255.00</td>\n",
       "      <td>255.00</td>\n",
       "      <td>255.00</td>\n",
       "      <td>2.550000e+02</td>\n",
       "    </tr>\n",
       "    <tr>\n",
       "      <th>dst_host_diff_srv_rate</th>\n",
       "      <td>125972.0</td>\n",
       "      <td>0.0</td>\n",
       "      <td>1.044957e+04</td>\n",
       "      <td>0.082952</td>\n",
       "      <td>0.02</td>\n",
       "      <td>1.889225e-01</td>\n",
       "      <td>3.569171e-02</td>\n",
       "      <td>0.0</td>\n",
       "      <td>0.0</td>\n",
       "      <td>0.00</td>\n",
       "      <td>0.00</td>\n",
       "      <td>0.00</td>\n",
       "      <td>0.02</td>\n",
       "      <td>0.07</td>\n",
       "      <td>0.10</td>\n",
       "      <td>0.56</td>\n",
       "      <td>1.00</td>\n",
       "      <td>1.000000e+00</td>\n",
       "    </tr>\n",
       "    <tr>\n",
       "      <th>dst_host_rerror_rate</th>\n",
       "      <td>125972.0</td>\n",
       "      <td>0.0</td>\n",
       "      <td>1.496955e+04</td>\n",
       "      <td>0.118832</td>\n",
       "      <td>0.00</td>\n",
       "      <td>3.065586e-01</td>\n",
       "      <td>9.397818e-02</td>\n",
       "      <td>0.0</td>\n",
       "      <td>0.0</td>\n",
       "      <td>0.00</td>\n",
       "      <td>0.00</td>\n",
       "      <td>0.00</td>\n",
       "      <td>0.00</td>\n",
       "      <td>0.00</td>\n",
       "      <td>0.84</td>\n",
       "      <td>1.00</td>\n",
       "      <td>1.00</td>\n",
       "      <td>1.000000e+00</td>\n",
       "    </tr>\n",
       "    <tr>\n",
       "      <th>dst_host_same_src_port_rate</th>\n",
       "      <td>125972.0</td>\n",
       "      <td>0.0</td>\n",
       "      <td>1.869156e+04</td>\n",
       "      <td>0.148379</td>\n",
       "      <td>0.00</td>\n",
       "      <td>3.089984e-01</td>\n",
       "      <td>9.547998e-02</td>\n",
       "      <td>0.0</td>\n",
       "      <td>0.0</td>\n",
       "      <td>0.00</td>\n",
       "      <td>0.00</td>\n",
       "      <td>0.00</td>\n",
       "      <td>0.00</td>\n",
       "      <td>0.06</td>\n",
       "      <td>0.84</td>\n",
       "      <td>1.00</td>\n",
       "      <td>1.00</td>\n",
       "      <td>1.000000e+00</td>\n",
       "    </tr>\n",
       "    <tr>\n",
       "      <th>dst_host_same_srv_rate</th>\n",
       "      <td>125972.0</td>\n",
       "      <td>0.0</td>\n",
       "      <td>6.566221e+04</td>\n",
       "      <td>0.521244</td>\n",
       "      <td>0.51</td>\n",
       "      <td>4.489501e-01</td>\n",
       "      <td>2.015562e-01</td>\n",
       "      <td>0.0</td>\n",
       "      <td>0.0</td>\n",
       "      <td>0.00</td>\n",
       "      <td>0.01</td>\n",
       "      <td>0.05</td>\n",
       "      <td>0.51</td>\n",
       "      <td>1.00</td>\n",
       "      <td>1.00</td>\n",
       "      <td>1.00</td>\n",
       "      <td>1.00</td>\n",
       "      <td>1.000000e+00</td>\n",
       "    </tr>\n",
       "    <tr>\n",
       "      <th>dst_host_serror_rate</th>\n",
       "      <td>125972.0</td>\n",
       "      <td>0.0</td>\n",
       "      <td>3.583333e+04</td>\n",
       "      <td>0.284455</td>\n",
       "      <td>0.00</td>\n",
       "      <td>4.447851e-01</td>\n",
       "      <td>1.978338e-01</td>\n",
       "      <td>0.0</td>\n",
       "      <td>0.0</td>\n",
       "      <td>0.00</td>\n",
       "      <td>0.00</td>\n",
       "      <td>0.00</td>\n",
       "      <td>0.00</td>\n",
       "      <td>1.00</td>\n",
       "      <td>1.00</td>\n",
       "      <td>1.00</td>\n",
       "      <td>1.00</td>\n",
       "      <td>1.000000e+00</td>\n",
       "    </tr>\n",
       "    <tr>\n",
       "      <th>dst_host_srv_count</th>\n",
       "      <td>125972.0</td>\n",
       "      <td>0.0</td>\n",
       "      <td>1.456913e+07</td>\n",
       "      <td>115.653725</td>\n",
       "      <td>63.00</td>\n",
       "      <td>1.107029e+02</td>\n",
       "      <td>1.225513e+04</td>\n",
       "      <td>0.0</td>\n",
       "      <td>1.0</td>\n",
       "      <td>1.00</td>\n",
       "      <td>2.00</td>\n",
       "      <td>10.00</td>\n",
       "      <td>63.00</td>\n",
       "      <td>255.00</td>\n",
       "      <td>255.00</td>\n",
       "      <td>255.00</td>\n",
       "      <td>255.00</td>\n",
       "      <td>2.550000e+02</td>\n",
       "    </tr>\n",
       "    <tr>\n",
       "      <th>dst_host_srv_diff_host_rate</th>\n",
       "      <td>125972.0</td>\n",
       "      <td>0.0</td>\n",
       "      <td>4.099470e+03</td>\n",
       "      <td>0.032543</td>\n",
       "      <td>0.00</td>\n",
       "      <td>1.125642e-01</td>\n",
       "      <td>1.267070e-02</td>\n",
       "      <td>0.0</td>\n",
       "      <td>0.0</td>\n",
       "      <td>0.00</td>\n",
       "      <td>0.00</td>\n",
       "      <td>0.00</td>\n",
       "      <td>0.00</td>\n",
       "      <td>0.02</td>\n",
       "      <td>0.05</td>\n",
       "      <td>0.18</td>\n",
       "      <td>0.52</td>\n",
       "      <td>1.000000e+00</td>\n",
       "    </tr>\n",
       "    <tr>\n",
       "      <th>dst_host_srv_rerror_rate</th>\n",
       "      <td>125972.0</td>\n",
       "      <td>0.0</td>\n",
       "      <td>1.514698e+04</td>\n",
       "      <td>0.120241</td>\n",
       "      <td>0.00</td>\n",
       "      <td>3.194605e-01</td>\n",
       "      <td>1.020550e-01</td>\n",
       "      <td>0.0</td>\n",
       "      <td>0.0</td>\n",
       "      <td>0.00</td>\n",
       "      <td>0.00</td>\n",
       "      <td>0.00</td>\n",
       "      <td>0.00</td>\n",
       "      <td>0.00</td>\n",
       "      <td>1.00</td>\n",
       "      <td>1.00</td>\n",
       "      <td>1.00</td>\n",
       "      <td>1.000000e+00</td>\n",
       "    </tr>\n",
       "    <tr>\n",
       "      <th>dst_host_srv_serror_rate</th>\n",
       "      <td>125972.0</td>\n",
       "      <td>0.0</td>\n",
       "      <td>3.508153e+04</td>\n",
       "      <td>0.278487</td>\n",
       "      <td>0.00</td>\n",
       "      <td>4.456702e-01</td>\n",
       "      <td>1.986219e-01</td>\n",
       "      <td>0.0</td>\n",
       "      <td>0.0</td>\n",
       "      <td>0.00</td>\n",
       "      <td>0.00</td>\n",
       "      <td>0.00</td>\n",
       "      <td>0.00</td>\n",
       "      <td>1.00</td>\n",
       "      <td>1.00</td>\n",
       "      <td>1.00</td>\n",
       "      <td>1.00</td>\n",
       "      <td>1.000000e+00</td>\n",
       "    </tr>\n",
       "    <tr>\n",
       "      <th>duration</th>\n",
       "      <td>125972.0</td>\n",
       "      <td>0.0</td>\n",
       "      <td>3.617247e+07</td>\n",
       "      <td>287.146929</td>\n",
       "      <td>0.00</td>\n",
       "      <td>2.604526e+03</td>\n",
       "      <td>6.783553e+06</td>\n",
       "      <td>0.0</td>\n",
       "      <td>0.0</td>\n",
       "      <td>0.00</td>\n",
       "      <td>0.00</td>\n",
       "      <td>0.00</td>\n",
       "      <td>0.00</td>\n",
       "      <td>0.00</td>\n",
       "      <td>0.00</td>\n",
       "      <td>4.00</td>\n",
       "      <td>9590.58</td>\n",
       "      <td>4.290800e+04</td>\n",
       "    </tr>\n",
       "    <tr>\n",
       "      <th>hot</th>\n",
       "      <td>125972.0</td>\n",
       "      <td>0.0</td>\n",
       "      <td>2.575000e+04</td>\n",
       "      <td>0.204411</td>\n",
       "      <td>0.00</td>\n",
       "      <td>2.149977e+00</td>\n",
       "      <td>4.622401e+00</td>\n",
       "      <td>0.0</td>\n",
       "      <td>0.0</td>\n",
       "      <td>0.00</td>\n",
       "      <td>0.00</td>\n",
       "      <td>0.00</td>\n",
       "      <td>0.00</td>\n",
       "      <td>0.00</td>\n",
       "      <td>0.00</td>\n",
       "      <td>0.00</td>\n",
       "      <td>3.00</td>\n",
       "      <td>7.700000e+01</td>\n",
       "    </tr>\n",
       "    <tr>\n",
       "      <th>last_flag</th>\n",
       "      <td>125972.0</td>\n",
       "      <td>0.0</td>\n",
       "      <td>2.456965e+06</td>\n",
       "      <td>19.504056</td>\n",
       "      <td>20.00</td>\n",
       "      <td>2.291512e+00</td>\n",
       "      <td>5.251025e+00</td>\n",
       "      <td>0.0</td>\n",
       "      <td>11.0</td>\n",
       "      <td>15.00</td>\n",
       "      <td>17.00</td>\n",
       "      <td>18.00</td>\n",
       "      <td>20.00</td>\n",
       "      <td>21.00</td>\n",
       "      <td>21.00</td>\n",
       "      <td>21.00</td>\n",
       "      <td>21.00</td>\n",
       "      <td>2.100000e+01</td>\n",
       "    </tr>\n",
       "    <tr>\n",
       "      <th>num_access_files</th>\n",
       "      <td>125972.0</td>\n",
       "      <td>0.0</td>\n",
       "      <td>5.160000e+02</td>\n",
       "      <td>0.004096</td>\n",
       "      <td>0.00</td>\n",
       "      <td>9.936995e-02</td>\n",
       "      <td>9.874387e-03</td>\n",
       "      <td>0.0</td>\n",
       "      <td>0.0</td>\n",
       "      <td>0.00</td>\n",
       "      <td>0.00</td>\n",
       "      <td>0.00</td>\n",
       "      <td>0.00</td>\n",
       "      <td>0.00</td>\n",
       "      <td>0.00</td>\n",
       "      <td>0.00</td>\n",
       "      <td>0.00</td>\n",
       "      <td>9.000000e+00</td>\n",
       "    </tr>\n",
       "    <tr>\n",
       "      <th>num_compromised</th>\n",
       "      <td>125972.0</td>\n",
       "      <td>0.0</td>\n",
       "      <td>3.517800e+04</td>\n",
       "      <td>0.279253</td>\n",
       "      <td>0.00</td>\n",
       "      <td>2.394214e+01</td>\n",
       "      <td>5.732259e+02</td>\n",
       "      <td>0.0</td>\n",
       "      <td>0.0</td>\n",
       "      <td>0.00</td>\n",
       "      <td>0.00</td>\n",
       "      <td>0.00</td>\n",
       "      <td>0.00</td>\n",
       "      <td>0.00</td>\n",
       "      <td>0.00</td>\n",
       "      <td>0.00</td>\n",
       "      <td>1.00</td>\n",
       "      <td>7.479000e+03</td>\n",
       "    </tr>\n",
       "    <tr>\n",
       "      <th>num_failed_logins</th>\n",
       "      <td>125972.0</td>\n",
       "      <td>0.0</td>\n",
       "      <td>1.540000e+02</td>\n",
       "      <td>0.001222</td>\n",
       "      <td>0.00</td>\n",
       "      <td>4.523932e-02</td>\n",
       "      <td>2.046596e-03</td>\n",
       "      <td>0.0</td>\n",
       "      <td>0.0</td>\n",
       "      <td>0.00</td>\n",
       "      <td>0.00</td>\n",
       "      <td>0.00</td>\n",
       "      <td>0.00</td>\n",
       "      <td>0.00</td>\n",
       "      <td>0.00</td>\n",
       "      <td>0.00</td>\n",
       "      <td>0.00</td>\n",
       "      <td>5.000000e+00</td>\n",
       "    </tr>\n",
       "    <tr>\n",
       "      <th>num_file_creations</th>\n",
       "      <td>125972.0</td>\n",
       "      <td>0.0</td>\n",
       "      <td>1.596000e+03</td>\n",
       "      <td>0.012669</td>\n",
       "      <td>0.00</td>\n",
       "      <td>4.839370e-01</td>\n",
       "      <td>2.341950e-01</td>\n",
       "      <td>0.0</td>\n",
       "      <td>0.0</td>\n",
       "      <td>0.00</td>\n",
       "      <td>0.00</td>\n",
       "      <td>0.00</td>\n",
       "      <td>0.00</td>\n",
       "      <td>0.00</td>\n",
       "      <td>0.00</td>\n",
       "      <td>0.00</td>\n",
       "      <td>0.00</td>\n",
       "      <td>4.300000e+01</td>\n",
       "    </tr>\n",
       "    <tr>\n",
       "      <th>num_outbound_cmds</th>\n",
       "      <td>125972.0</td>\n",
       "      <td>0.0</td>\n",
       "      <td>0.000000e+00</td>\n",
       "      <td>0.000000</td>\n",
       "      <td>0.00</td>\n",
       "      <td>0.000000e+00</td>\n",
       "      <td>0.000000e+00</td>\n",
       "      <td>0.0</td>\n",
       "      <td>0.0</td>\n",
       "      <td>0.00</td>\n",
       "      <td>0.00</td>\n",
       "      <td>0.00</td>\n",
       "      <td>0.00</td>\n",
       "      <td>0.00</td>\n",
       "      <td>0.00</td>\n",
       "      <td>0.00</td>\n",
       "      <td>0.00</td>\n",
       "      <td>0.000000e+00</td>\n",
       "    </tr>\n",
       "    <tr>\n",
       "      <th>num_root</th>\n",
       "      <td>125972.0</td>\n",
       "      <td>0.0</td>\n",
       "      <td>3.806800e+04</td>\n",
       "      <td>0.302194</td>\n",
       "      <td>0.00</td>\n",
       "      <td>2.439971e+01</td>\n",
       "      <td>5.953461e+02</td>\n",
       "      <td>0.0</td>\n",
       "      <td>0.0</td>\n",
       "      <td>0.00</td>\n",
       "      <td>0.00</td>\n",
       "      <td>0.00</td>\n",
       "      <td>0.00</td>\n",
       "      <td>0.00</td>\n",
       "      <td>0.00</td>\n",
       "      <td>0.00</td>\n",
       "      <td>0.00</td>\n",
       "      <td>7.468000e+03</td>\n",
       "    </tr>\n",
       "    <tr>\n",
       "      <th>num_shells</th>\n",
       "      <td>125972.0</td>\n",
       "      <td>0.0</td>\n",
       "      <td>5.200000e+01</td>\n",
       "      <td>0.000413</td>\n",
       "      <td>0.00</td>\n",
       "      <td>2.218122e-02</td>\n",
       "      <td>4.920064e-04</td>\n",
       "      <td>0.0</td>\n",
       "      <td>0.0</td>\n",
       "      <td>0.00</td>\n",
       "      <td>0.00</td>\n",
       "      <td>0.00</td>\n",
       "      <td>0.00</td>\n",
       "      <td>0.00</td>\n",
       "      <td>0.00</td>\n",
       "      <td>0.00</td>\n",
       "      <td>0.00</td>\n",
       "      <td>2.000000e+00</td>\n",
       "    </tr>\n",
       "    <tr>\n",
       "      <th>rerror_rate</th>\n",
       "      <td>125972.0</td>\n",
       "      <td>0.0</td>\n",
       "      <td>1.511153e+04</td>\n",
       "      <td>0.119959</td>\n",
       "      <td>0.00</td>\n",
       "      <td>3.204366e-01</td>\n",
       "      <td>1.026796e-01</td>\n",
       "      <td>0.0</td>\n",
       "      <td>0.0</td>\n",
       "      <td>0.00</td>\n",
       "      <td>0.00</td>\n",
       "      <td>0.00</td>\n",
       "      <td>0.00</td>\n",
       "      <td>0.00</td>\n",
       "      <td>1.00</td>\n",
       "      <td>1.00</td>\n",
       "      <td>1.00</td>\n",
       "      <td>1.000000e+00</td>\n",
       "    </tr>\n",
       "    <tr>\n",
       "      <th>same_srv_rate</th>\n",
       "      <td>125972.0</td>\n",
       "      <td>0.0</td>\n",
       "      <td>8.325804e+04</td>\n",
       "      <td>0.660925</td>\n",
       "      <td>1.00</td>\n",
       "      <td>4.396236e-01</td>\n",
       "      <td>1.932689e-01</td>\n",
       "      <td>0.0</td>\n",
       "      <td>0.0</td>\n",
       "      <td>0.01</td>\n",
       "      <td>0.03</td>\n",
       "      <td>0.09</td>\n",
       "      <td>1.00</td>\n",
       "      <td>1.00</td>\n",
       "      <td>1.00</td>\n",
       "      <td>1.00</td>\n",
       "      <td>1.00</td>\n",
       "      <td>1.000000e+00</td>\n",
       "    </tr>\n",
       "    <tr>\n",
       "      <th>serror_rate</th>\n",
       "      <td>125972.0</td>\n",
       "      <td>0.0</td>\n",
       "      <td>3.583737e+04</td>\n",
       "      <td>0.284487</td>\n",
       "      <td>0.00</td>\n",
       "      <td>4.464567e-01</td>\n",
       "      <td>1.993236e-01</td>\n",
       "      <td>0.0</td>\n",
       "      <td>0.0</td>\n",
       "      <td>0.00</td>\n",
       "      <td>0.00</td>\n",
       "      <td>0.00</td>\n",
       "      <td>0.00</td>\n",
       "      <td>1.00</td>\n",
       "      <td>1.00</td>\n",
       "      <td>1.00</td>\n",
       "      <td>1.00</td>\n",
       "      <td>1.000000e+00</td>\n",
       "    </tr>\n",
       "    <tr>\n",
       "      <th>src_bytes</th>\n",
       "      <td>125972.0</td>\n",
       "      <td>0.0</td>\n",
       "      <td>5.740179e+09</td>\n",
       "      <td>45567.100824</td>\n",
       "      <td>44.00</td>\n",
       "      <td>5.870354e+06</td>\n",
       "      <td>3.446106e+13</td>\n",
       "      <td>0.0</td>\n",
       "      <td>0.0</td>\n",
       "      <td>0.00</td>\n",
       "      <td>0.00</td>\n",
       "      <td>0.00</td>\n",
       "      <td>44.00</td>\n",
       "      <td>276.00</td>\n",
       "      <td>848.00</td>\n",
       "      <td>1480.00</td>\n",
       "      <td>54540.00</td>\n",
       "      <td>1.379964e+09</td>\n",
       "    </tr>\n",
       "    <tr>\n",
       "      <th>srv_count</th>\n",
       "      <td>125972.0</td>\n",
       "      <td>0.0</td>\n",
       "      <td>3.494223e+06</td>\n",
       "      <td>27.738093</td>\n",
       "      <td>8.00</td>\n",
       "      <td>7.263609e+01</td>\n",
       "      <td>5.276002e+03</td>\n",
       "      <td>0.0</td>\n",
       "      <td>1.0</td>\n",
       "      <td>1.00</td>\n",
       "      <td>1.00</td>\n",
       "      <td>2.00</td>\n",
       "      <td>8.00</td>\n",
       "      <td>18.00</td>\n",
       "      <td>40.00</td>\n",
       "      <td>158.00</td>\n",
       "      <td>492.00</td>\n",
       "      <td>5.110000e+02</td>\n",
       "    </tr>\n",
       "    <tr>\n",
       "      <th>srv_diff_host_rate</th>\n",
       "      <td>125972.0</td>\n",
       "      <td>0.0</td>\n",
       "      <td>1.225990e+04</td>\n",
       "      <td>0.097322</td>\n",
       "      <td>0.00</td>\n",
       "      <td>2.598314e-01</td>\n",
       "      <td>6.751235e-02</td>\n",
       "      <td>0.0</td>\n",
       "      <td>0.0</td>\n",
       "      <td>0.00</td>\n",
       "      <td>0.00</td>\n",
       "      <td>0.00</td>\n",
       "      <td>0.00</td>\n",
       "      <td>0.00</td>\n",
       "      <td>0.31</td>\n",
       "      <td>1.00</td>\n",
       "      <td>1.00</td>\n",
       "      <td>1.000000e+00</td>\n",
       "    </tr>\n",
       "    <tr>\n",
       "      <th>srv_rerror_rate</th>\n",
       "      <td>125972.0</td>\n",
       "      <td>0.0</td>\n",
       "      <td>1.526582e+04</td>\n",
       "      <td>0.121184</td>\n",
       "      <td>0.00</td>\n",
       "      <td>3.236483e-01</td>\n",
       "      <td>1.047482e-01</td>\n",
       "      <td>0.0</td>\n",
       "      <td>0.0</td>\n",
       "      <td>0.00</td>\n",
       "      <td>0.00</td>\n",
       "      <td>0.00</td>\n",
       "      <td>0.00</td>\n",
       "      <td>0.00</td>\n",
       "      <td>1.00</td>\n",
       "      <td>1.00</td>\n",
       "      <td>1.00</td>\n",
       "      <td>1.000000e+00</td>\n",
       "    </tr>\n",
       "    <tr>\n",
       "      <th>srv_serror_rate</th>\n",
       "      <td>125972.0</td>\n",
       "      <td>0.0</td>\n",
       "      <td>3.558553e+04</td>\n",
       "      <td>0.282488</td>\n",
       "      <td>0.00</td>\n",
       "      <td>4.470236e-01</td>\n",
       "      <td>1.998301e-01</td>\n",
       "      <td>0.0</td>\n",
       "      <td>0.0</td>\n",
       "      <td>0.00</td>\n",
       "      <td>0.00</td>\n",
       "      <td>0.00</td>\n",
       "      <td>0.00</td>\n",
       "      <td>1.00</td>\n",
       "      <td>1.00</td>\n",
       "      <td>1.00</td>\n",
       "      <td>1.00</td>\n",
       "      <td>1.000000e+00</td>\n",
       "    </tr>\n",
       "    <tr>\n",
       "      <th>urgent</th>\n",
       "      <td>125972.0</td>\n",
       "      <td>0.0</td>\n",
       "      <td>1.400000e+01</td>\n",
       "      <td>0.000111</td>\n",
       "      <td>0.00</td>\n",
       "      <td>1.436608e-02</td>\n",
       "      <td>2.063844e-04</td>\n",
       "      <td>0.0</td>\n",
       "      <td>0.0</td>\n",
       "      <td>0.00</td>\n",
       "      <td>0.00</td>\n",
       "      <td>0.00</td>\n",
       "      <td>0.00</td>\n",
       "      <td>0.00</td>\n",
       "      <td>0.00</td>\n",
       "      <td>0.00</td>\n",
       "      <td>0.00</td>\n",
       "      <td>3.000000e+00</td>\n",
       "    </tr>\n",
       "    <tr>\n",
       "      <th>wrong_fragment</th>\n",
       "      <td>125972.0</td>\n",
       "      <td>0.0</td>\n",
       "      <td>2.858000e+03</td>\n",
       "      <td>0.022688</td>\n",
       "      <td>0.00</td>\n",
       "      <td>2.535310e-01</td>\n",
       "      <td>6.427796e-02</td>\n",
       "      <td>0.0</td>\n",
       "      <td>0.0</td>\n",
       "      <td>0.00</td>\n",
       "      <td>0.00</td>\n",
       "      <td>0.00</td>\n",
       "      <td>0.00</td>\n",
       "      <td>0.00</td>\n",
       "      <td>0.00</td>\n",
       "      <td>0.00</td>\n",
       "      <td>0.00</td>\n",
       "      <td>3.000000e+00</td>\n",
       "    </tr>\n",
       "  </tbody>\n",
       "</table>\n",
       "</div>"
      ],
      "text/plain": [
       "                                    N  NMISS           SUM          MEAN  \\\n",
       "count                        125972.0    0.0  1.059528e+07     84.108207   \n",
       "diff_srv_rate                125972.0    0.0  7.942930e+03      0.063053   \n",
       "dst_bytes                    125972.0    0.0  2.491634e+09  19779.271433   \n",
       "dst_host_count               125972.0    0.0  2.294570e+07    182.149200   \n",
       "dst_host_diff_srv_rate       125972.0    0.0  1.044957e+04      0.082952   \n",
       "dst_host_rerror_rate         125972.0    0.0  1.496955e+04      0.118832   \n",
       "dst_host_same_src_port_rate  125972.0    0.0  1.869156e+04      0.148379   \n",
       "dst_host_same_srv_rate       125972.0    0.0  6.566221e+04      0.521244   \n",
       "dst_host_serror_rate         125972.0    0.0  3.583333e+04      0.284455   \n",
       "dst_host_srv_count           125972.0    0.0  1.456913e+07    115.653725   \n",
       "dst_host_srv_diff_host_rate  125972.0    0.0  4.099470e+03      0.032543   \n",
       "dst_host_srv_rerror_rate     125972.0    0.0  1.514698e+04      0.120241   \n",
       "dst_host_srv_serror_rate     125972.0    0.0  3.508153e+04      0.278487   \n",
       "duration                     125972.0    0.0  3.617247e+07    287.146929   \n",
       "hot                          125972.0    0.0  2.575000e+04      0.204411   \n",
       "last_flag                    125972.0    0.0  2.456965e+06     19.504056   \n",
       "num_access_files             125972.0    0.0  5.160000e+02      0.004096   \n",
       "num_compromised              125972.0    0.0  3.517800e+04      0.279253   \n",
       "num_failed_logins            125972.0    0.0  1.540000e+02      0.001222   \n",
       "num_file_creations           125972.0    0.0  1.596000e+03      0.012669   \n",
       "num_outbound_cmds            125972.0    0.0  0.000000e+00      0.000000   \n",
       "num_root                     125972.0    0.0  3.806800e+04      0.302194   \n",
       "num_shells                   125972.0    0.0  5.200000e+01      0.000413   \n",
       "rerror_rate                  125972.0    0.0  1.511153e+04      0.119959   \n",
       "same_srv_rate                125972.0    0.0  8.325804e+04      0.660925   \n",
       "serror_rate                  125972.0    0.0  3.583737e+04      0.284487   \n",
       "src_bytes                    125972.0    0.0  5.740179e+09  45567.100824   \n",
       "srv_count                    125972.0    0.0  3.494223e+06     27.738093   \n",
       "srv_diff_host_rate           125972.0    0.0  1.225990e+04      0.097322   \n",
       "srv_rerror_rate              125972.0    0.0  1.526582e+04      0.121184   \n",
       "srv_serror_rate              125972.0    0.0  3.558553e+04      0.282488   \n",
       "urgent                       125972.0    0.0  1.400000e+01      0.000111   \n",
       "wrong_fragment               125972.0    0.0  2.858000e+03      0.022688   \n",
       "\n",
       "                             MEDIAN           STD           VAR  MIN    P1  \\\n",
       "count                         14.00  1.145088e+02  1.311227e+04  0.0   1.0   \n",
       "diff_srv_rate                  0.00  1.803150e-01  3.251351e-02  0.0   0.0   \n",
       "dst_bytes                      0.00  4.021285e+06  1.617073e+13  0.0   0.0   \n",
       "dst_host_count               255.00  9.920657e+01  9.841943e+03  0.0   1.0   \n",
       "dst_host_diff_srv_rate         0.02  1.889225e-01  3.569171e-02  0.0   0.0   \n",
       "dst_host_rerror_rate           0.00  3.065586e-01  9.397818e-02  0.0   0.0   \n",
       "dst_host_same_src_port_rate    0.00  3.089984e-01  9.547998e-02  0.0   0.0   \n",
       "dst_host_same_srv_rate         0.51  4.489501e-01  2.015562e-01  0.0   0.0   \n",
       "dst_host_serror_rate           0.00  4.447851e-01  1.978338e-01  0.0   0.0   \n",
       "dst_host_srv_count            63.00  1.107029e+02  1.225513e+04  0.0   1.0   \n",
       "dst_host_srv_diff_host_rate    0.00  1.125642e-01  1.267070e-02  0.0   0.0   \n",
       "dst_host_srv_rerror_rate       0.00  3.194605e-01  1.020550e-01  0.0   0.0   \n",
       "dst_host_srv_serror_rate       0.00  4.456702e-01  1.986219e-01  0.0   0.0   \n",
       "duration                       0.00  2.604526e+03  6.783553e+06  0.0   0.0   \n",
       "hot                            0.00  2.149977e+00  4.622401e+00  0.0   0.0   \n",
       "last_flag                     20.00  2.291512e+00  5.251025e+00  0.0  11.0   \n",
       "num_access_files               0.00  9.936995e-02  9.874387e-03  0.0   0.0   \n",
       "num_compromised                0.00  2.394214e+01  5.732259e+02  0.0   0.0   \n",
       "num_failed_logins              0.00  4.523932e-02  2.046596e-03  0.0   0.0   \n",
       "num_file_creations             0.00  4.839370e-01  2.341950e-01  0.0   0.0   \n",
       "num_outbound_cmds              0.00  0.000000e+00  0.000000e+00  0.0   0.0   \n",
       "num_root                       0.00  2.439971e+01  5.953461e+02  0.0   0.0   \n",
       "num_shells                     0.00  2.218122e-02  4.920064e-04  0.0   0.0   \n",
       "rerror_rate                    0.00  3.204366e-01  1.026796e-01  0.0   0.0   \n",
       "same_srv_rate                  1.00  4.396236e-01  1.932689e-01  0.0   0.0   \n",
       "serror_rate                    0.00  4.464567e-01  1.993236e-01  0.0   0.0   \n",
       "src_bytes                     44.00  5.870354e+06  3.446106e+13  0.0   0.0   \n",
       "srv_count                      8.00  7.263609e+01  5.276002e+03  0.0   1.0   \n",
       "srv_diff_host_rate             0.00  2.598314e-01  6.751235e-02  0.0   0.0   \n",
       "srv_rerror_rate                0.00  3.236483e-01  1.047482e-01  0.0   0.0   \n",
       "srv_serror_rate                0.00  4.470236e-01  1.998301e-01  0.0   0.0   \n",
       "urgent                         0.00  1.436608e-02  2.063844e-04  0.0   0.0   \n",
       "wrong_fragment                 0.00  2.535310e-01  6.427796e-02  0.0   0.0   \n",
       "\n",
       "                                P5    P10    P25     P50     P75      P90  \\\n",
       "count                         1.00   1.00   2.00   14.00  143.00   256.00   \n",
       "diff_srv_rate                 0.00   0.00   0.00    0.00    0.06     0.07   \n",
       "dst_bytes                     0.00   0.00   0.00    0.00  516.00  3375.90   \n",
       "dst_host_count                3.00  11.00  82.00  255.00  255.00   255.00   \n",
       "dst_host_diff_srv_rate        0.00   0.00   0.00    0.02    0.07     0.10   \n",
       "dst_host_rerror_rate          0.00   0.00   0.00    0.00    0.00     0.84   \n",
       "dst_host_same_src_port_rate   0.00   0.00   0.00    0.00    0.06     0.84   \n",
       "dst_host_same_srv_rate        0.00   0.01   0.05    0.51    1.00     1.00   \n",
       "dst_host_serror_rate          0.00   0.00   0.00    0.00    1.00     1.00   \n",
       "dst_host_srv_count            1.00   2.00  10.00   63.00  255.00   255.00   \n",
       "dst_host_srv_diff_host_rate   0.00   0.00   0.00    0.00    0.02     0.05   \n",
       "dst_host_srv_rerror_rate      0.00   0.00   0.00    0.00    0.00     1.00   \n",
       "dst_host_srv_serror_rate      0.00   0.00   0.00    0.00    1.00     1.00   \n",
       "duration                      0.00   0.00   0.00    0.00    0.00     0.00   \n",
       "hot                           0.00   0.00   0.00    0.00    0.00     0.00   \n",
       "last_flag                    15.00  17.00  18.00   20.00   21.00    21.00   \n",
       "num_access_files              0.00   0.00   0.00    0.00    0.00     0.00   \n",
       "num_compromised               0.00   0.00   0.00    0.00    0.00     0.00   \n",
       "num_failed_logins             0.00   0.00   0.00    0.00    0.00     0.00   \n",
       "num_file_creations            0.00   0.00   0.00    0.00    0.00     0.00   \n",
       "num_outbound_cmds             0.00   0.00   0.00    0.00    0.00     0.00   \n",
       "num_root                      0.00   0.00   0.00    0.00    0.00     0.00   \n",
       "num_shells                    0.00   0.00   0.00    0.00    0.00     0.00   \n",
       "rerror_rate                   0.00   0.00   0.00    0.00    0.00     1.00   \n",
       "same_srv_rate                 0.01   0.03   0.09    1.00    1.00     1.00   \n",
       "serror_rate                   0.00   0.00   0.00    0.00    1.00     1.00   \n",
       "src_bytes                     0.00   0.00   0.00   44.00  276.00   848.00   \n",
       "srv_count                     1.00   1.00   2.00    8.00   18.00    40.00   \n",
       "srv_diff_host_rate            0.00   0.00   0.00    0.00    0.00     0.31   \n",
       "srv_rerror_rate               0.00   0.00   0.00    0.00    0.00     1.00   \n",
       "srv_serror_rate               0.00   0.00   0.00    0.00    1.00     1.00   \n",
       "urgent                        0.00   0.00   0.00    0.00    0.00     0.00   \n",
       "wrong_fragment                0.00   0.00   0.00    0.00    0.00     0.00   \n",
       "\n",
       "                                 P95       P99           MAX  \n",
       "count                         286.00    511.00  5.110000e+02  \n",
       "diff_srv_rate                   0.29      1.00  1.000000e+00  \n",
       "dst_bytes                    8314.00  25519.00  1.309937e+09  \n",
       "dst_host_count                255.00    255.00  2.550000e+02  \n",
       "dst_host_diff_srv_rate          0.56      1.00  1.000000e+00  \n",
       "dst_host_rerror_rate            1.00      1.00  1.000000e+00  \n",
       "dst_host_same_src_port_rate     1.00      1.00  1.000000e+00  \n",
       "dst_host_same_srv_rate          1.00      1.00  1.000000e+00  \n",
       "dst_host_serror_rate            1.00      1.00  1.000000e+00  \n",
       "dst_host_srv_count            255.00    255.00  2.550000e+02  \n",
       "dst_host_srv_diff_host_rate     0.18      0.52  1.000000e+00  \n",
       "dst_host_srv_rerror_rate        1.00      1.00  1.000000e+00  \n",
       "dst_host_srv_serror_rate        1.00      1.00  1.000000e+00  \n",
       "duration                        4.00   9590.58  4.290800e+04  \n",
       "hot                             0.00      3.00  7.700000e+01  \n",
       "last_flag                      21.00     21.00  2.100000e+01  \n",
       "num_access_files                0.00      0.00  9.000000e+00  \n",
       "num_compromised                 0.00      1.00  7.479000e+03  \n",
       "num_failed_logins               0.00      0.00  5.000000e+00  \n",
       "num_file_creations              0.00      0.00  4.300000e+01  \n",
       "num_outbound_cmds               0.00      0.00  0.000000e+00  \n",
       "num_root                        0.00      0.00  7.468000e+03  \n",
       "num_shells                      0.00      0.00  2.000000e+00  \n",
       "rerror_rate                     1.00      1.00  1.000000e+00  \n",
       "same_srv_rate                   1.00      1.00  1.000000e+00  \n",
       "serror_rate                     1.00      1.00  1.000000e+00  \n",
       "src_bytes                    1480.00  54540.00  1.379964e+09  \n",
       "srv_count                     158.00    492.00  5.110000e+02  \n",
       "srv_diff_host_rate              1.00      1.00  1.000000e+00  \n",
       "srv_rerror_rate                 1.00      1.00  1.000000e+00  \n",
       "srv_serror_rate                 1.00      1.00  1.000000e+00  \n",
       "urgent                          0.00      0.00  3.000000e+00  \n",
       "wrong_fragment                  0.00      0.00  3.000000e+00  "
      ]
     },
     "execution_count": 23,
     "metadata": {},
     "output_type": "execute_result"
    },
    {
     "name": "stdout",
     "output_type": "stream",
     "text": [
      "time: 2.94 s\n"
     ]
    }
   ],
   "source": [
    "#Audit report for train dataset\n",
    "train_df[train_df.columns.difference(combo_cat_list)].apply(lambda x: var_summary(x)).T"
   ]
  },
  {
   "cell_type": "code",
   "execution_count": 24,
   "metadata": {
    "colab": {
     "base_uri": "https://localhost:8080/",
     "height": 1000
    },
    "colab_type": "code",
    "id": "pOCWwTRvpNwJ",
    "outputId": "6577f07c-a268-40e4-ff6d-c08d38c89e2e"
   },
   "outputs": [
    {
     "data": {
      "text/html": [
       "<div>\n",
       "<style scoped>\n",
       "    .dataframe tbody tr th:only-of-type {\n",
       "        vertical-align: middle;\n",
       "    }\n",
       "\n",
       "    .dataframe tbody tr th {\n",
       "        vertical-align: top;\n",
       "    }\n",
       "\n",
       "    .dataframe thead th {\n",
       "        text-align: right;\n",
       "    }\n",
       "</style>\n",
       "<table border=\"1\" class=\"dataframe\">\n",
       "  <thead>\n",
       "    <tr style=\"text-align: right;\">\n",
       "      <th></th>\n",
       "      <th>N</th>\n",
       "      <th>NMISS</th>\n",
       "      <th>SUM</th>\n",
       "      <th>MEAN</th>\n",
       "      <th>MEDIAN</th>\n",
       "      <th>STD</th>\n",
       "      <th>VAR</th>\n",
       "      <th>MIN</th>\n",
       "      <th>P1</th>\n",
       "      <th>P5</th>\n",
       "      <th>P10</th>\n",
       "      <th>P25</th>\n",
       "      <th>P50</th>\n",
       "      <th>P75</th>\n",
       "      <th>P90</th>\n",
       "      <th>P95</th>\n",
       "      <th>P99</th>\n",
       "      <th>MAX</th>\n",
       "    </tr>\n",
       "  </thead>\n",
       "  <tbody>\n",
       "    <tr>\n",
       "      <th>count</th>\n",
       "      <td>22543.0</td>\n",
       "      <td>0.0</td>\n",
       "      <td>1.781386e+06</td>\n",
       "      <td>79.021692</td>\n",
       "      <td>8.00</td>\n",
       "      <td>128.538218</td>\n",
       "      <td>1.652207e+04</td>\n",
       "      <td>0.0</td>\n",
       "      <td>1.0</td>\n",
       "      <td>1.00</td>\n",
       "      <td>1.00</td>\n",
       "      <td>1.00</td>\n",
       "      <td>8.00</td>\n",
       "      <td>123.00</td>\n",
       "      <td>256.00</td>\n",
       "      <td>400.90</td>\n",
       "      <td>511.0000</td>\n",
       "      <td>511.0</td>\n",
       "    </tr>\n",
       "    <tr>\n",
       "      <th>diff_srv_rate</th>\n",
       "      <td>22543.0</td>\n",
       "      <td>0.0</td>\n",
       "      <td>2.120740e+03</td>\n",
       "      <td>0.094075</td>\n",
       "      <td>0.00</td>\n",
       "      <td>0.259143</td>\n",
       "      <td>6.715523e-02</td>\n",
       "      <td>0.0</td>\n",
       "      <td>0.0</td>\n",
       "      <td>0.00</td>\n",
       "      <td>0.00</td>\n",
       "      <td>0.00</td>\n",
       "      <td>0.00</td>\n",
       "      <td>0.06</td>\n",
       "      <td>0.09</td>\n",
       "      <td>1.00</td>\n",
       "      <td>1.0000</td>\n",
       "      <td>1.0</td>\n",
       "    </tr>\n",
       "    <tr>\n",
       "      <th>dst_bytes</th>\n",
       "      <td>22543.0</td>\n",
       "      <td>0.0</td>\n",
       "      <td>4.635089e+07</td>\n",
       "      <td>2056.110012</td>\n",
       "      <td>46.00</td>\n",
       "      <td>21219.763847</td>\n",
       "      <td>4.502784e+08</td>\n",
       "      <td>0.0</td>\n",
       "      <td>0.0</td>\n",
       "      <td>0.00</td>\n",
       "      <td>0.00</td>\n",
       "      <td>0.00</td>\n",
       "      <td>46.00</td>\n",
       "      <td>601.00</td>\n",
       "      <td>4099.40</td>\n",
       "      <td>8314.00</td>\n",
       "      <td>26032.7600</td>\n",
       "      <td>1345927.0</td>\n",
       "    </tr>\n",
       "    <tr>\n",
       "      <th>dst_host_count</th>\n",
       "      <td>22543.0</td>\n",
       "      <td>0.0</td>\n",
       "      <td>4.370337e+06</td>\n",
       "      <td>193.866699</td>\n",
       "      <td>255.00</td>\n",
       "      <td>94.036867</td>\n",
       "      <td>8.842932e+03</td>\n",
       "      <td>0.0</td>\n",
       "      <td>1.0</td>\n",
       "      <td>6.00</td>\n",
       "      <td>20.00</td>\n",
       "      <td>121.00</td>\n",
       "      <td>255.00</td>\n",
       "      <td>255.00</td>\n",
       "      <td>255.00</td>\n",
       "      <td>255.00</td>\n",
       "      <td>255.0000</td>\n",
       "      <td>255.0</td>\n",
       "    </tr>\n",
       "    <tr>\n",
       "      <th>dst_host_diff_srv_rate</th>\n",
       "      <td>22543.0</td>\n",
       "      <td>0.0</td>\n",
       "      <td>2.041070e+03</td>\n",
       "      <td>0.090541</td>\n",
       "      <td>0.01</td>\n",
       "      <td>0.220722</td>\n",
       "      <td>4.871805e-02</td>\n",
       "      <td>0.0</td>\n",
       "      <td>0.0</td>\n",
       "      <td>0.00</td>\n",
       "      <td>0.00</td>\n",
       "      <td>0.00</td>\n",
       "      <td>0.01</td>\n",
       "      <td>0.06</td>\n",
       "      <td>0.15</td>\n",
       "      <td>0.75</td>\n",
       "      <td>1.0000</td>\n",
       "      <td>1.0</td>\n",
       "    </tr>\n",
       "    <tr>\n",
       "      <th>dst_host_rerror_rate</th>\n",
       "      <td>22543.0</td>\n",
       "      <td>0.0</td>\n",
       "      <td>5.260430e+03</td>\n",
       "      <td>0.233351</td>\n",
       "      <td>0.00</td>\n",
       "      <td>0.387204</td>\n",
       "      <td>1.499267e-01</td>\n",
       "      <td>0.0</td>\n",
       "      <td>0.0</td>\n",
       "      <td>0.00</td>\n",
       "      <td>0.00</td>\n",
       "      <td>0.00</td>\n",
       "      <td>0.00</td>\n",
       "      <td>0.36</td>\n",
       "      <td>1.00</td>\n",
       "      <td>1.00</td>\n",
       "      <td>1.0000</td>\n",
       "      <td>1.0</td>\n",
       "    </tr>\n",
       "    <tr>\n",
       "      <th>dst_host_same_src_port_rate</th>\n",
       "      <td>22543.0</td>\n",
       "      <td>0.0</td>\n",
       "      <td>2.981690e+03</td>\n",
       "      <td>0.132267</td>\n",
       "      <td>0.00</td>\n",
       "      <td>0.306274</td>\n",
       "      <td>9.380364e-02</td>\n",
       "      <td>0.0</td>\n",
       "      <td>0.0</td>\n",
       "      <td>0.00</td>\n",
       "      <td>0.00</td>\n",
       "      <td>0.00</td>\n",
       "      <td>0.00</td>\n",
       "      <td>0.03</td>\n",
       "      <td>0.85</td>\n",
       "      <td>1.00</td>\n",
       "      <td>1.0000</td>\n",
       "      <td>1.0</td>\n",
       "    </tr>\n",
       "    <tr>\n",
       "      <th>dst_host_same_srv_rate</th>\n",
       "      <td>22543.0</td>\n",
       "      <td>0.0</td>\n",
       "      <td>1.372298e+04</td>\n",
       "      <td>0.608747</td>\n",
       "      <td>0.92</td>\n",
       "      <td>0.435681</td>\n",
       "      <td>1.898182e-01</td>\n",
       "      <td>0.0</td>\n",
       "      <td>0.0</td>\n",
       "      <td>0.00</td>\n",
       "      <td>0.02</td>\n",
       "      <td>0.07</td>\n",
       "      <td>0.92</td>\n",
       "      <td>1.00</td>\n",
       "      <td>1.00</td>\n",
       "      <td>1.00</td>\n",
       "      <td>1.0000</td>\n",
       "      <td>1.0</td>\n",
       "    </tr>\n",
       "    <tr>\n",
       "      <th>dst_host_serror_rate</th>\n",
       "      <td>22543.0</td>\n",
       "      <td>0.0</td>\n",
       "      <td>2.205110e+03</td>\n",
       "      <td>0.097818</td>\n",
       "      <td>0.00</td>\n",
       "      <td>0.273144</td>\n",
       "      <td>7.460766e-02</td>\n",
       "      <td>0.0</td>\n",
       "      <td>0.0</td>\n",
       "      <td>0.00</td>\n",
       "      <td>0.00</td>\n",
       "      <td>0.00</td>\n",
       "      <td>0.00</td>\n",
       "      <td>0.00</td>\n",
       "      <td>0.35</td>\n",
       "      <td>1.00</td>\n",
       "      <td>1.0000</td>\n",
       "      <td>1.0</td>\n",
       "    </tr>\n",
       "    <tr>\n",
       "      <th>dst_host_srv_count</th>\n",
       "      <td>22543.0</td>\n",
       "      <td>0.0</td>\n",
       "      <td>3.173070e+06</td>\n",
       "      <td>140.756332</td>\n",
       "      <td>168.00</td>\n",
       "      <td>111.783059</td>\n",
       "      <td>1.249545e+04</td>\n",
       "      <td>0.0</td>\n",
       "      <td>1.0</td>\n",
       "      <td>1.00</td>\n",
       "      <td>3.00</td>\n",
       "      <td>15.00</td>\n",
       "      <td>168.00</td>\n",
       "      <td>255.00</td>\n",
       "      <td>255.00</td>\n",
       "      <td>255.00</td>\n",
       "      <td>255.0000</td>\n",
       "      <td>255.0</td>\n",
       "    </tr>\n",
       "    <tr>\n",
       "      <th>dst_host_srv_diff_host_rate</th>\n",
       "      <td>22543.0</td>\n",
       "      <td>0.0</td>\n",
       "      <td>4.427300e+02</td>\n",
       "      <td>0.019639</td>\n",
       "      <td>0.00</td>\n",
       "      <td>0.085396</td>\n",
       "      <td>7.292422e-03</td>\n",
       "      <td>0.0</td>\n",
       "      <td>0.0</td>\n",
       "      <td>0.00</td>\n",
       "      <td>0.00</td>\n",
       "      <td>0.00</td>\n",
       "      <td>0.00</td>\n",
       "      <td>0.01</td>\n",
       "      <td>0.04</td>\n",
       "      <td>0.06</td>\n",
       "      <td>0.4058</td>\n",
       "      <td>1.0</td>\n",
       "    </tr>\n",
       "    <tr>\n",
       "      <th>dst_host_srv_rerror_rate</th>\n",
       "      <td>22543.0</td>\n",
       "      <td>0.0</td>\n",
       "      <td>5.109340e+03</td>\n",
       "      <td>0.226649</td>\n",
       "      <td>0.00</td>\n",
       "      <td>0.400851</td>\n",
       "      <td>1.606813e-01</td>\n",
       "      <td>0.0</td>\n",
       "      <td>0.0</td>\n",
       "      <td>0.00</td>\n",
       "      <td>0.00</td>\n",
       "      <td>0.00</td>\n",
       "      <td>0.00</td>\n",
       "      <td>0.17</td>\n",
       "      <td>1.00</td>\n",
       "      <td>1.00</td>\n",
       "      <td>1.0000</td>\n",
       "      <td>1.0</td>\n",
       "    </tr>\n",
       "    <tr>\n",
       "      <th>dst_host_srv_serror_rate</th>\n",
       "      <td>22543.0</td>\n",
       "      <td>0.0</td>\n",
       "      <td>2.241460e+03</td>\n",
       "      <td>0.099430</td>\n",
       "      <td>0.00</td>\n",
       "      <td>0.281872</td>\n",
       "      <td>7.945169e-02</td>\n",
       "      <td>0.0</td>\n",
       "      <td>0.0</td>\n",
       "      <td>0.00</td>\n",
       "      <td>0.00</td>\n",
       "      <td>0.00</td>\n",
       "      <td>0.00</td>\n",
       "      <td>0.00</td>\n",
       "      <td>0.46</td>\n",
       "      <td>1.00</td>\n",
       "      <td>1.0000</td>\n",
       "      <td>1.0</td>\n",
       "    </tr>\n",
       "    <tr>\n",
       "      <th>duration</th>\n",
       "      <td>22543.0</td>\n",
       "      <td>0.0</td>\n",
       "      <td>4.933959e+06</td>\n",
       "      <td>218.868784</td>\n",
       "      <td>0.00</td>\n",
       "      <td>1407.207069</td>\n",
       "      <td>1.980232e+06</td>\n",
       "      <td>0.0</td>\n",
       "      <td>0.0</td>\n",
       "      <td>0.00</td>\n",
       "      <td>0.00</td>\n",
       "      <td>0.00</td>\n",
       "      <td>0.00</td>\n",
       "      <td>0.00</td>\n",
       "      <td>4.00</td>\n",
       "      <td>283.00</td>\n",
       "      <td>7589.5800</td>\n",
       "      <td>57715.0</td>\n",
       "    </tr>\n",
       "    <tr>\n",
       "      <th>hot</th>\n",
       "      <td>22543.0</td>\n",
       "      <td>0.0</td>\n",
       "      <td>2.376000e+03</td>\n",
       "      <td>0.105399</td>\n",
       "      <td>0.00</td>\n",
       "      <td>0.928448</td>\n",
       "      <td>8.620164e-01</td>\n",
       "      <td>0.0</td>\n",
       "      <td>0.0</td>\n",
       "      <td>0.00</td>\n",
       "      <td>0.00</td>\n",
       "      <td>0.00</td>\n",
       "      <td>0.00</td>\n",
       "      <td>0.00</td>\n",
       "      <td>0.00</td>\n",
       "      <td>0.00</td>\n",
       "      <td>2.0000</td>\n",
       "      <td>101.0</td>\n",
       "    </tr>\n",
       "    <tr>\n",
       "      <th>last_flag</th>\n",
       "      <td>22543.0</td>\n",
       "      <td>0.0</td>\n",
       "      <td>4.061760e+05</td>\n",
       "      <td>18.017833</td>\n",
       "      <td>20.00</td>\n",
       "      <td>4.270409</td>\n",
       "      <td>1.823640e+01</td>\n",
       "      <td>0.0</td>\n",
       "      <td>2.0</td>\n",
       "      <td>9.00</td>\n",
       "      <td>12.00</td>\n",
       "      <td>17.00</td>\n",
       "      <td>20.00</td>\n",
       "      <td>21.00</td>\n",
       "      <td>21.00</td>\n",
       "      <td>21.00</td>\n",
       "      <td>21.0000</td>\n",
       "      <td>21.0</td>\n",
       "    </tr>\n",
       "    <tr>\n",
       "      <th>num_access_files</th>\n",
       "      <td>22543.0</td>\n",
       "      <td>0.0</td>\n",
       "      <td>8.000000e+01</td>\n",
       "      <td>0.003549</td>\n",
       "      <td>0.00</td>\n",
       "      <td>0.067831</td>\n",
       "      <td>4.601016e-03</td>\n",
       "      <td>0.0</td>\n",
       "      <td>0.0</td>\n",
       "      <td>0.00</td>\n",
       "      <td>0.00</td>\n",
       "      <td>0.00</td>\n",
       "      <td>0.00</td>\n",
       "      <td>0.00</td>\n",
       "      <td>0.00</td>\n",
       "      <td>0.00</td>\n",
       "      <td>0.0000</td>\n",
       "      <td>4.0</td>\n",
       "    </tr>\n",
       "    <tr>\n",
       "      <th>num_compromised</th>\n",
       "      <td>22543.0</td>\n",
       "      <td>0.0</td>\n",
       "      <td>2.703000e+03</td>\n",
       "      <td>0.119904</td>\n",
       "      <td>0.00</td>\n",
       "      <td>7.269758</td>\n",
       "      <td>5.284939e+01</td>\n",
       "      <td>0.0</td>\n",
       "      <td>0.0</td>\n",
       "      <td>0.00</td>\n",
       "      <td>0.00</td>\n",
       "      <td>0.00</td>\n",
       "      <td>0.00</td>\n",
       "      <td>0.00</td>\n",
       "      <td>0.00</td>\n",
       "      <td>0.00</td>\n",
       "      <td>1.0000</td>\n",
       "      <td>796.0</td>\n",
       "    </tr>\n",
       "    <tr>\n",
       "      <th>num_failed_logins</th>\n",
       "      <td>22543.0</td>\n",
       "      <td>0.0</td>\n",
       "      <td>4.880000e+02</td>\n",
       "      <td>0.021648</td>\n",
       "      <td>0.00</td>\n",
       "      <td>0.150331</td>\n",
       "      <td>2.259941e-02</td>\n",
       "      <td>0.0</td>\n",
       "      <td>0.0</td>\n",
       "      <td>0.00</td>\n",
       "      <td>0.00</td>\n",
       "      <td>0.00</td>\n",
       "      <td>0.00</td>\n",
       "      <td>0.00</td>\n",
       "      <td>0.00</td>\n",
       "      <td>0.00</td>\n",
       "      <td>1.0000</td>\n",
       "      <td>4.0</td>\n",
       "    </tr>\n",
       "    <tr>\n",
       "      <th>num_file_creations</th>\n",
       "      <td>22543.0</td>\n",
       "      <td>0.0</td>\n",
       "      <td>1.970000e+02</td>\n",
       "      <td>0.008739</td>\n",
       "      <td>0.00</td>\n",
       "      <td>0.676857</td>\n",
       "      <td>4.581350e-01</td>\n",
       "      <td>0.0</td>\n",
       "      <td>0.0</td>\n",
       "      <td>0.00</td>\n",
       "      <td>0.00</td>\n",
       "      <td>0.00</td>\n",
       "      <td>0.00</td>\n",
       "      <td>0.00</td>\n",
       "      <td>0.00</td>\n",
       "      <td>0.00</td>\n",
       "      <td>0.0000</td>\n",
       "      <td>100.0</td>\n",
       "    </tr>\n",
       "    <tr>\n",
       "      <th>num_outbound_cmds</th>\n",
       "      <td>22543.0</td>\n",
       "      <td>0.0</td>\n",
       "      <td>0.000000e+00</td>\n",
       "      <td>0.000000</td>\n",
       "      <td>0.00</td>\n",
       "      <td>0.000000</td>\n",
       "      <td>0.000000e+00</td>\n",
       "      <td>0.0</td>\n",
       "      <td>0.0</td>\n",
       "      <td>0.00</td>\n",
       "      <td>0.00</td>\n",
       "      <td>0.00</td>\n",
       "      <td>0.00</td>\n",
       "      <td>0.00</td>\n",
       "      <td>0.00</td>\n",
       "      <td>0.00</td>\n",
       "      <td>0.0000</td>\n",
       "      <td>0.0</td>\n",
       "    </tr>\n",
       "    <tr>\n",
       "      <th>num_root</th>\n",
       "      <td>22543.0</td>\n",
       "      <td>0.0</td>\n",
       "      <td>2.585000e+03</td>\n",
       "      <td>0.114670</td>\n",
       "      <td>0.00</td>\n",
       "      <td>8.041792</td>\n",
       "      <td>6.467042e+01</td>\n",
       "      <td>0.0</td>\n",
       "      <td>0.0</td>\n",
       "      <td>0.00</td>\n",
       "      <td>0.00</td>\n",
       "      <td>0.00</td>\n",
       "      <td>0.00</td>\n",
       "      <td>0.00</td>\n",
       "      <td>0.00</td>\n",
       "      <td>0.00</td>\n",
       "      <td>0.0000</td>\n",
       "      <td>878.0</td>\n",
       "    </tr>\n",
       "    <tr>\n",
       "      <th>num_shells</th>\n",
       "      <td>22543.0</td>\n",
       "      <td>0.0</td>\n",
       "      <td>2.600000e+01</td>\n",
       "      <td>0.001153</td>\n",
       "      <td>0.00</td>\n",
       "      <td>0.048015</td>\n",
       "      <td>2.305475e-03</td>\n",
       "      <td>0.0</td>\n",
       "      <td>0.0</td>\n",
       "      <td>0.00</td>\n",
       "      <td>0.00</td>\n",
       "      <td>0.00</td>\n",
       "      <td>0.00</td>\n",
       "      <td>0.00</td>\n",
       "      <td>0.00</td>\n",
       "      <td>0.00</td>\n",
       "      <td>0.0000</td>\n",
       "      <td>5.0</td>\n",
       "    </tr>\n",
       "    <tr>\n",
       "      <th>rerror_rate</th>\n",
       "      <td>22543.0</td>\n",
       "      <td>0.0</td>\n",
       "      <td>5.374910e+03</td>\n",
       "      <td>0.238429</td>\n",
       "      <td>0.00</td>\n",
       "      <td>0.416096</td>\n",
       "      <td>1.731358e-01</td>\n",
       "      <td>0.0</td>\n",
       "      <td>0.0</td>\n",
       "      <td>0.00</td>\n",
       "      <td>0.00</td>\n",
       "      <td>0.00</td>\n",
       "      <td>0.00</td>\n",
       "      <td>0.25</td>\n",
       "      <td>1.00</td>\n",
       "      <td>1.00</td>\n",
       "      <td>1.0000</td>\n",
       "      <td>1.0</td>\n",
       "    </tr>\n",
       "    <tr>\n",
       "      <th>same_srv_rate</th>\n",
       "      <td>22543.0</td>\n",
       "      <td>0.0</td>\n",
       "      <td>1.669029e+04</td>\n",
       "      <td>0.740376</td>\n",
       "      <td>1.00</td>\n",
       "      <td>0.412479</td>\n",
       "      <td>1.701388e-01</td>\n",
       "      <td>0.0</td>\n",
       "      <td>0.0</td>\n",
       "      <td>0.01</td>\n",
       "      <td>0.03</td>\n",
       "      <td>0.25</td>\n",
       "      <td>1.00</td>\n",
       "      <td>1.00</td>\n",
       "      <td>1.00</td>\n",
       "      <td>1.00</td>\n",
       "      <td>1.0000</td>\n",
       "      <td>1.0</td>\n",
       "    </tr>\n",
       "    <tr>\n",
       "      <th>serror_rate</th>\n",
       "      <td>22543.0</td>\n",
       "      <td>0.0</td>\n",
       "      <td>2.320310e+03</td>\n",
       "      <td>0.102928</td>\n",
       "      <td>0.00</td>\n",
       "      <td>0.295373</td>\n",
       "      <td>8.724498e-02</td>\n",
       "      <td>0.0</td>\n",
       "      <td>0.0</td>\n",
       "      <td>0.00</td>\n",
       "      <td>0.00</td>\n",
       "      <td>0.00</td>\n",
       "      <td>0.00</td>\n",
       "      <td>0.00</td>\n",
       "      <td>0.50</td>\n",
       "      <td>1.00</td>\n",
       "      <td>1.0000</td>\n",
       "      <td>1.0</td>\n",
       "    </tr>\n",
       "    <tr>\n",
       "      <th>src_bytes</th>\n",
       "      <td>22543.0</td>\n",
       "      <td>0.0</td>\n",
       "      <td>2.343550e+08</td>\n",
       "      <td>10395.911369</td>\n",
       "      <td>54.00</td>\n",
       "      <td>472796.912692</td>\n",
       "      <td>2.235369e+11</td>\n",
       "      <td>0.0</td>\n",
       "      <td>0.0</td>\n",
       "      <td>0.00</td>\n",
       "      <td>0.00</td>\n",
       "      <td>0.00</td>\n",
       "      <td>54.00</td>\n",
       "      <td>287.00</td>\n",
       "      <td>1032.00</td>\n",
       "      <td>15876.00</td>\n",
       "      <td>283618.0000</td>\n",
       "      <td>62825648.0</td>\n",
       "    </tr>\n",
       "    <tr>\n",
       "      <th>srv_count</th>\n",
       "      <td>22543.0</td>\n",
       "      <td>0.0</td>\n",
       "      <td>7.016580e+05</td>\n",
       "      <td>31.125316</td>\n",
       "      <td>6.00</td>\n",
       "      <td>89.064396</td>\n",
       "      <td>7.932467e+03</td>\n",
       "      <td>0.0</td>\n",
       "      <td>1.0</td>\n",
       "      <td>1.00</td>\n",
       "      <td>1.00</td>\n",
       "      <td>1.00</td>\n",
       "      <td>6.00</td>\n",
       "      <td>16.00</td>\n",
       "      <td>43.00</td>\n",
       "      <td>185.00</td>\n",
       "      <td>511.0000</td>\n",
       "      <td>511.0</td>\n",
       "    </tr>\n",
       "    <tr>\n",
       "      <th>srv_diff_host_rate</th>\n",
       "      <td>22543.0</td>\n",
       "      <td>0.0</td>\n",
       "      <td>2.211800e+03</td>\n",
       "      <td>0.098115</td>\n",
       "      <td>0.00</td>\n",
       "      <td>0.253550</td>\n",
       "      <td>6.428764e-02</td>\n",
       "      <td>0.0</td>\n",
       "      <td>0.0</td>\n",
       "      <td>0.00</td>\n",
       "      <td>0.00</td>\n",
       "      <td>0.00</td>\n",
       "      <td>0.00</td>\n",
       "      <td>0.00</td>\n",
       "      <td>0.33</td>\n",
       "      <td>1.00</td>\n",
       "      <td>1.0000</td>\n",
       "      <td>1.0</td>\n",
       "    </tr>\n",
       "    <tr>\n",
       "      <th>srv_rerror_rate</th>\n",
       "      <td>22543.0</td>\n",
       "      <td>0.0</td>\n",
       "      <td>5.300870e+03</td>\n",
       "      <td>0.235145</td>\n",
       "      <td>0.00</td>\n",
       "      <td>0.416193</td>\n",
       "      <td>1.732166e-01</td>\n",
       "      <td>0.0</td>\n",
       "      <td>0.0</td>\n",
       "      <td>0.00</td>\n",
       "      <td>0.00</td>\n",
       "      <td>0.00</td>\n",
       "      <td>0.00</td>\n",
       "      <td>0.07</td>\n",
       "      <td>1.00</td>\n",
       "      <td>1.00</td>\n",
       "      <td>1.0000</td>\n",
       "      <td>1.0</td>\n",
       "    </tr>\n",
       "    <tr>\n",
       "      <th>srv_serror_rate</th>\n",
       "      <td>22543.0</td>\n",
       "      <td>0.0</td>\n",
       "      <td>2.336350e+03</td>\n",
       "      <td>0.103640</td>\n",
       "      <td>0.00</td>\n",
       "      <td>0.298337</td>\n",
       "      <td>8.900522e-02</td>\n",
       "      <td>0.0</td>\n",
       "      <td>0.0</td>\n",
       "      <td>0.00</td>\n",
       "      <td>0.00</td>\n",
       "      <td>0.00</td>\n",
       "      <td>0.00</td>\n",
       "      <td>0.00</td>\n",
       "      <td>0.60</td>\n",
       "      <td>1.00</td>\n",
       "      <td>1.0000</td>\n",
       "      <td>1.0</td>\n",
       "    </tr>\n",
       "    <tr>\n",
       "      <th>urgent</th>\n",
       "      <td>22543.0</td>\n",
       "      <td>0.0</td>\n",
       "      <td>1.600000e+01</td>\n",
       "      <td>0.000710</td>\n",
       "      <td>0.00</td>\n",
       "      <td>0.036474</td>\n",
       "      <td>1.330345e-03</td>\n",
       "      <td>0.0</td>\n",
       "      <td>0.0</td>\n",
       "      <td>0.00</td>\n",
       "      <td>0.00</td>\n",
       "      <td>0.00</td>\n",
       "      <td>0.00</td>\n",
       "      <td>0.00</td>\n",
       "      <td>0.00</td>\n",
       "      <td>0.00</td>\n",
       "      <td>0.0000</td>\n",
       "      <td>3.0</td>\n",
       "    </tr>\n",
       "    <tr>\n",
       "      <th>wrong_fragment</th>\n",
       "      <td>22543.0</td>\n",
       "      <td>0.0</td>\n",
       "      <td>1.900000e+02</td>\n",
       "      <td>0.008428</td>\n",
       "      <td>0.00</td>\n",
       "      <td>0.142602</td>\n",
       "      <td>2.033531e-02</td>\n",
       "      <td>0.0</td>\n",
       "      <td>0.0</td>\n",
       "      <td>0.00</td>\n",
       "      <td>0.00</td>\n",
       "      <td>0.00</td>\n",
       "      <td>0.00</td>\n",
       "      <td>0.00</td>\n",
       "      <td>0.00</td>\n",
       "      <td>0.00</td>\n",
       "      <td>0.0000</td>\n",
       "      <td>3.0</td>\n",
       "    </tr>\n",
       "  </tbody>\n",
       "</table>\n",
       "</div>"
      ],
      "text/plain": [
       "                                   N  NMISS           SUM          MEAN  \\\n",
       "count                        22543.0    0.0  1.781386e+06     79.021692   \n",
       "diff_srv_rate                22543.0    0.0  2.120740e+03      0.094075   \n",
       "dst_bytes                    22543.0    0.0  4.635089e+07   2056.110012   \n",
       "dst_host_count               22543.0    0.0  4.370337e+06    193.866699   \n",
       "dst_host_diff_srv_rate       22543.0    0.0  2.041070e+03      0.090541   \n",
       "dst_host_rerror_rate         22543.0    0.0  5.260430e+03      0.233351   \n",
       "dst_host_same_src_port_rate  22543.0    0.0  2.981690e+03      0.132267   \n",
       "dst_host_same_srv_rate       22543.0    0.0  1.372298e+04      0.608747   \n",
       "dst_host_serror_rate         22543.0    0.0  2.205110e+03      0.097818   \n",
       "dst_host_srv_count           22543.0    0.0  3.173070e+06    140.756332   \n",
       "dst_host_srv_diff_host_rate  22543.0    0.0  4.427300e+02      0.019639   \n",
       "dst_host_srv_rerror_rate     22543.0    0.0  5.109340e+03      0.226649   \n",
       "dst_host_srv_serror_rate     22543.0    0.0  2.241460e+03      0.099430   \n",
       "duration                     22543.0    0.0  4.933959e+06    218.868784   \n",
       "hot                          22543.0    0.0  2.376000e+03      0.105399   \n",
       "last_flag                    22543.0    0.0  4.061760e+05     18.017833   \n",
       "num_access_files             22543.0    0.0  8.000000e+01      0.003549   \n",
       "num_compromised              22543.0    0.0  2.703000e+03      0.119904   \n",
       "num_failed_logins            22543.0    0.0  4.880000e+02      0.021648   \n",
       "num_file_creations           22543.0    0.0  1.970000e+02      0.008739   \n",
       "num_outbound_cmds            22543.0    0.0  0.000000e+00      0.000000   \n",
       "num_root                     22543.0    0.0  2.585000e+03      0.114670   \n",
       "num_shells                   22543.0    0.0  2.600000e+01      0.001153   \n",
       "rerror_rate                  22543.0    0.0  5.374910e+03      0.238429   \n",
       "same_srv_rate                22543.0    0.0  1.669029e+04      0.740376   \n",
       "serror_rate                  22543.0    0.0  2.320310e+03      0.102928   \n",
       "src_bytes                    22543.0    0.0  2.343550e+08  10395.911369   \n",
       "srv_count                    22543.0    0.0  7.016580e+05     31.125316   \n",
       "srv_diff_host_rate           22543.0    0.0  2.211800e+03      0.098115   \n",
       "srv_rerror_rate              22543.0    0.0  5.300870e+03      0.235145   \n",
       "srv_serror_rate              22543.0    0.0  2.336350e+03      0.103640   \n",
       "urgent                       22543.0    0.0  1.600000e+01      0.000710   \n",
       "wrong_fragment               22543.0    0.0  1.900000e+02      0.008428   \n",
       "\n",
       "                             MEDIAN            STD           VAR  MIN   P1  \\\n",
       "count                          8.00     128.538218  1.652207e+04  0.0  1.0   \n",
       "diff_srv_rate                  0.00       0.259143  6.715523e-02  0.0  0.0   \n",
       "dst_bytes                     46.00   21219.763847  4.502784e+08  0.0  0.0   \n",
       "dst_host_count               255.00      94.036867  8.842932e+03  0.0  1.0   \n",
       "dst_host_diff_srv_rate         0.01       0.220722  4.871805e-02  0.0  0.0   \n",
       "dst_host_rerror_rate           0.00       0.387204  1.499267e-01  0.0  0.0   \n",
       "dst_host_same_src_port_rate    0.00       0.306274  9.380364e-02  0.0  0.0   \n",
       "dst_host_same_srv_rate         0.92       0.435681  1.898182e-01  0.0  0.0   \n",
       "dst_host_serror_rate           0.00       0.273144  7.460766e-02  0.0  0.0   \n",
       "dst_host_srv_count           168.00     111.783059  1.249545e+04  0.0  1.0   \n",
       "dst_host_srv_diff_host_rate    0.00       0.085396  7.292422e-03  0.0  0.0   \n",
       "dst_host_srv_rerror_rate       0.00       0.400851  1.606813e-01  0.0  0.0   \n",
       "dst_host_srv_serror_rate       0.00       0.281872  7.945169e-02  0.0  0.0   \n",
       "duration                       0.00    1407.207069  1.980232e+06  0.0  0.0   \n",
       "hot                            0.00       0.928448  8.620164e-01  0.0  0.0   \n",
       "last_flag                     20.00       4.270409  1.823640e+01  0.0  2.0   \n",
       "num_access_files               0.00       0.067831  4.601016e-03  0.0  0.0   \n",
       "num_compromised                0.00       7.269758  5.284939e+01  0.0  0.0   \n",
       "num_failed_logins              0.00       0.150331  2.259941e-02  0.0  0.0   \n",
       "num_file_creations             0.00       0.676857  4.581350e-01  0.0  0.0   \n",
       "num_outbound_cmds              0.00       0.000000  0.000000e+00  0.0  0.0   \n",
       "num_root                       0.00       8.041792  6.467042e+01  0.0  0.0   \n",
       "num_shells                     0.00       0.048015  2.305475e-03  0.0  0.0   \n",
       "rerror_rate                    0.00       0.416096  1.731358e-01  0.0  0.0   \n",
       "same_srv_rate                  1.00       0.412479  1.701388e-01  0.0  0.0   \n",
       "serror_rate                    0.00       0.295373  8.724498e-02  0.0  0.0   \n",
       "src_bytes                     54.00  472796.912692  2.235369e+11  0.0  0.0   \n",
       "srv_count                      6.00      89.064396  7.932467e+03  0.0  1.0   \n",
       "srv_diff_host_rate             0.00       0.253550  6.428764e-02  0.0  0.0   \n",
       "srv_rerror_rate                0.00       0.416193  1.732166e-01  0.0  0.0   \n",
       "srv_serror_rate                0.00       0.298337  8.900522e-02  0.0  0.0   \n",
       "urgent                         0.00       0.036474  1.330345e-03  0.0  0.0   \n",
       "wrong_fragment                 0.00       0.142602  2.033531e-02  0.0  0.0   \n",
       "\n",
       "                               P5    P10     P25     P50     P75      P90  \\\n",
       "count                        1.00   1.00    1.00    8.00  123.00   256.00   \n",
       "diff_srv_rate                0.00   0.00    0.00    0.00    0.06     0.09   \n",
       "dst_bytes                    0.00   0.00    0.00   46.00  601.00  4099.40   \n",
       "dst_host_count               6.00  20.00  121.00  255.00  255.00   255.00   \n",
       "dst_host_diff_srv_rate       0.00   0.00    0.00    0.01    0.06     0.15   \n",
       "dst_host_rerror_rate         0.00   0.00    0.00    0.00    0.36     1.00   \n",
       "dst_host_same_src_port_rate  0.00   0.00    0.00    0.00    0.03     0.85   \n",
       "dst_host_same_srv_rate       0.00   0.02    0.07    0.92    1.00     1.00   \n",
       "dst_host_serror_rate         0.00   0.00    0.00    0.00    0.00     0.35   \n",
       "dst_host_srv_count           1.00   3.00   15.00  168.00  255.00   255.00   \n",
       "dst_host_srv_diff_host_rate  0.00   0.00    0.00    0.00    0.01     0.04   \n",
       "dst_host_srv_rerror_rate     0.00   0.00    0.00    0.00    0.17     1.00   \n",
       "dst_host_srv_serror_rate     0.00   0.00    0.00    0.00    0.00     0.46   \n",
       "duration                     0.00   0.00    0.00    0.00    0.00     4.00   \n",
       "hot                          0.00   0.00    0.00    0.00    0.00     0.00   \n",
       "last_flag                    9.00  12.00   17.00   20.00   21.00    21.00   \n",
       "num_access_files             0.00   0.00    0.00    0.00    0.00     0.00   \n",
       "num_compromised              0.00   0.00    0.00    0.00    0.00     0.00   \n",
       "num_failed_logins            0.00   0.00    0.00    0.00    0.00     0.00   \n",
       "num_file_creations           0.00   0.00    0.00    0.00    0.00     0.00   \n",
       "num_outbound_cmds            0.00   0.00    0.00    0.00    0.00     0.00   \n",
       "num_root                     0.00   0.00    0.00    0.00    0.00     0.00   \n",
       "num_shells                   0.00   0.00    0.00    0.00    0.00     0.00   \n",
       "rerror_rate                  0.00   0.00    0.00    0.00    0.25     1.00   \n",
       "same_srv_rate                0.01   0.03    0.25    1.00    1.00     1.00   \n",
       "serror_rate                  0.00   0.00    0.00    0.00    0.00     0.50   \n",
       "src_bytes                    0.00   0.00    0.00   54.00  287.00  1032.00   \n",
       "srv_count                    1.00   1.00    1.00    6.00   16.00    43.00   \n",
       "srv_diff_host_rate           0.00   0.00    0.00    0.00    0.00     0.33   \n",
       "srv_rerror_rate              0.00   0.00    0.00    0.00    0.07     1.00   \n",
       "srv_serror_rate              0.00   0.00    0.00    0.00    0.00     0.60   \n",
       "urgent                       0.00   0.00    0.00    0.00    0.00     0.00   \n",
       "wrong_fragment               0.00   0.00    0.00    0.00    0.00     0.00   \n",
       "\n",
       "                                  P95          P99         MAX  \n",
       "count                          400.90     511.0000       511.0  \n",
       "diff_srv_rate                    1.00       1.0000         1.0  \n",
       "dst_bytes                     8314.00   26032.7600   1345927.0  \n",
       "dst_host_count                 255.00     255.0000       255.0  \n",
       "dst_host_diff_srv_rate           0.75       1.0000         1.0  \n",
       "dst_host_rerror_rate             1.00       1.0000         1.0  \n",
       "dst_host_same_src_port_rate      1.00       1.0000         1.0  \n",
       "dst_host_same_srv_rate           1.00       1.0000         1.0  \n",
       "dst_host_serror_rate             1.00       1.0000         1.0  \n",
       "dst_host_srv_count             255.00     255.0000       255.0  \n",
       "dst_host_srv_diff_host_rate      0.06       0.4058         1.0  \n",
       "dst_host_srv_rerror_rate         1.00       1.0000         1.0  \n",
       "dst_host_srv_serror_rate         1.00       1.0000         1.0  \n",
       "duration                       283.00    7589.5800     57715.0  \n",
       "hot                              0.00       2.0000       101.0  \n",
       "last_flag                       21.00      21.0000        21.0  \n",
       "num_access_files                 0.00       0.0000         4.0  \n",
       "num_compromised                  0.00       1.0000       796.0  \n",
       "num_failed_logins                0.00       1.0000         4.0  \n",
       "num_file_creations               0.00       0.0000       100.0  \n",
       "num_outbound_cmds                0.00       0.0000         0.0  \n",
       "num_root                         0.00       0.0000       878.0  \n",
       "num_shells                       0.00       0.0000         5.0  \n",
       "rerror_rate                      1.00       1.0000         1.0  \n",
       "same_srv_rate                    1.00       1.0000         1.0  \n",
       "serror_rate                      1.00       1.0000         1.0  \n",
       "src_bytes                    15876.00  283618.0000  62825648.0  \n",
       "srv_count                      185.00     511.0000       511.0  \n",
       "srv_diff_host_rate               1.00       1.0000         1.0  \n",
       "srv_rerror_rate                  1.00       1.0000         1.0  \n",
       "srv_serror_rate                  1.00       1.0000         1.0  \n",
       "urgent                           0.00       0.0000         3.0  \n",
       "wrong_fragment                   0.00       0.0000         3.0  "
      ]
     },
     "execution_count": 24,
     "metadata": {},
     "output_type": "execute_result"
    },
    {
     "name": "stdout",
     "output_type": "stream",
     "text": [
      "time: 1.01 s\n"
     ]
    }
   ],
   "source": [
    "#Audit report for test dataset\n",
    "test_df[test_df.columns.difference(combo_cat_list)].apply(lambda x: var_summary(x)).T"
   ]
  },
  {
   "cell_type": "code",
   "execution_count": 25,
   "metadata": {},
   "outputs": [
    {
     "name": "stdout",
     "output_type": "stream",
     "text": [
      "time: 49.4 ms\n"
     ]
    }
   ],
   "source": [
    "#segregating numerical attributes\n",
    "train_short = (train_df[train_df.columns.difference(combo_cat_list)])\n",
    "test_short = (test_df[test_df.columns.difference(combo_cat_list)])"
   ]
  },
  {
   "cell_type": "markdown",
   "metadata": {
    "colab_type": "text",
    "id": "cmyoazSZpNwe"
   },
   "source": [
    "#### Removing attributes with high percentage of zeros"
   ]
  },
  {
   "cell_type": "code",
   "execution_count": 26,
   "metadata": {},
   "outputs": [
    {
     "name": "stdout",
     "output_type": "stream",
     "text": [
      "time: 4.75 ms\n"
     ]
    }
   ],
   "source": [
    "#Function to remove features with more than 25% of zeros\n",
    "def zero_count(data):\n",
    "    train_zero_count = data[data == 0].count(axis=0)/len(data.index)\n",
    "    train_zero_count = train_zero_count.reset_index()\n",
    "    train_zero_count.columns = ['col','zero']\n",
    "    train_zero_count = train_zero_count.drop(index=0).reset_index(drop=True)\n",
    "    print(train_zero_count)\n",
    "    print('Removing columns with zero % of more than 25%')\n",
    "    train_zero_count2 = train_zero_count[train_zero_count['zero'] > 0.25]\n",
    "    data = data.drop(columns=data[train_zero_count2['col']])\n",
    "    print(data.info())\n",
    "    return data"
   ]
  },
  {
   "cell_type": "code",
   "execution_count": 27,
   "metadata": {},
   "outputs": [
    {
     "name": "stdout",
     "output_type": "stream",
     "text": [
      "                            col      zero\n",
      "0                 diff_srv_rate  0.605023\n",
      "1                     dst_bytes  0.539533\n",
      "2                dst_host_count  0.000024\n",
      "3        dst_host_diff_srv_rate  0.373011\n",
      "4          dst_host_rerror_rate  0.819055\n",
      "5   dst_host_same_src_port_rate  0.500294\n",
      "6        dst_host_same_srv_rate  0.054988\n",
      "7          dst_host_serror_rate  0.646056\n",
      "8            dst_host_srv_count  0.000024\n",
      "9   dst_host_srv_diff_host_rate  0.689860\n",
      "10     dst_host_srv_rerror_rate  0.846339\n",
      "11     dst_host_srv_serror_rate  0.677603\n",
      "12                     duration  0.920474\n",
      "13                          hot  0.978797\n",
      "14                    last_flag  0.000524\n",
      "15             num_access_files  0.997055\n",
      "16              num_compromised  0.989791\n",
      "17            num_failed_logins  0.999032\n",
      "18           num_file_creations  0.997722\n",
      "19            num_outbound_cmds  1.000000\n",
      "20                     num_root  0.994848\n",
      "21                   num_shells  0.999627\n",
      "22                  rerror_rate  0.871479\n",
      "23                same_srv_rate  0.021957\n",
      "24                  serror_rate  0.689264\n",
      "25                    src_bytes  0.392087\n",
      "26                    srv_count  0.000103\n",
      "27           srv_diff_host_rate  0.774561\n",
      "28              srv_rerror_rate  0.871352\n",
      "29              srv_serror_rate  0.704545\n",
      "30                       urgent  0.999929\n",
      "31               wrong_fragment  0.991347\n",
      "Removing columns with zero % of more than 25%\n",
      "<class 'pandas.core.frame.DataFrame'>\n",
      "RangeIndex: 125972 entries, 0 to 125971\n",
      "Data columns (total 7 columns):\n",
      "count                     125972 non-null int64\n",
      "dst_host_count            125972 non-null int64\n",
      "dst_host_same_srv_rate    125972 non-null float64\n",
      "dst_host_srv_count        125972 non-null int64\n",
      "last_flag                 125972 non-null int64\n",
      "same_srv_rate             125972 non-null float64\n",
      "srv_count                 125972 non-null int64\n",
      "dtypes: float64(2), int64(5)\n",
      "memory usage: 6.7 MB\n",
      "None\n",
      "                            col      zero\n",
      "0                 diff_srv_rate  0.702968\n",
      "1                     dst_bytes  0.415428\n",
      "2                dst_host_count  0.000044\n",
      "3        dst_host_diff_srv_rate  0.407843\n",
      "4          dst_host_rerror_rate  0.593044\n",
      "5   dst_host_same_src_port_rate  0.561372\n",
      "6        dst_host_same_srv_rate  0.061083\n",
      "7          dst_host_serror_rate  0.795147\n",
      "8            dst_host_srv_count  0.000044\n",
      "9   dst_host_srv_diff_host_rate  0.724349\n",
      "10     dst_host_srv_rerror_rate  0.678392\n",
      "11     dst_host_srv_serror_rate  0.839063\n",
      "12                     duration  0.843588\n",
      "13                          hot  0.955330\n",
      "14                    last_flag  0.005456\n",
      "15             num_access_files  0.996806\n",
      "16              num_compromised  0.983631\n",
      "17            num_failed_logins  0.978796\n",
      "18           num_file_creations  0.998137\n",
      "19            num_outbound_cmds  1.000000\n",
      "20                     num_root  0.997871\n",
      "21                   num_shells  0.999157\n",
      "22                  rerror_rate  0.744400\n",
      "23                same_srv_rate  0.033004\n",
      "24                  serror_rate  0.851395\n",
      "25                    src_bytes  0.338242\n",
      "26                    srv_count  0.000044\n",
      "27           srv_diff_host_rate  0.779311\n",
      "28              srv_rerror_rate  0.749501\n",
      "29              srv_serror_rate  0.870780\n",
      "30                       urgent  0.999556\n",
      "31               wrong_fragment  0.995564\n",
      "Removing columns with zero % of more than 25%\n",
      "<class 'pandas.core.frame.DataFrame'>\n",
      "RangeIndex: 22543 entries, 0 to 22542\n",
      "Data columns (total 7 columns):\n",
      "count                     22543 non-null int64\n",
      "dst_host_count            22543 non-null int64\n",
      "dst_host_same_srv_rate    22543 non-null float64\n",
      "dst_host_srv_count        22543 non-null int64\n",
      "last_flag                 22543 non-null int64\n",
      "same_srv_rate             22543 non-null float64\n",
      "srv_count                 22543 non-null int64\n",
      "dtypes: float64(2), int64(5)\n",
      "memory usage: 1.2 MB\n",
      "None\n",
      "time: 668 ms\n"
     ]
    }
   ],
   "source": [
    "train_short = zero_count(train_short)\n",
    "test_short = zero_count(test_short)"
   ]
  },
  {
   "cell_type": "markdown",
   "metadata": {},
   "source": [
    "Successfully reduced number of numerical columns from 32 to 7"
   ]
  },
  {
   "cell_type": "markdown",
   "metadata": {
    "colab_type": "text",
    "id": "DPC9eUTZpNwS"
   },
   "source": [
    "#### Outlier Analysis"
   ]
  },
  {
   "cell_type": "code",
   "execution_count": 28,
   "metadata": {},
   "outputs": [
    {
     "name": "stdout",
     "output_type": "stream",
     "text": [
      "time: 6.98 ms\n"
     ]
    }
   ],
   "source": [
    "#Function to plot dist plot and box plot\n",
    "def num_plot(columns,train,test):\n",
    "    for i in columns:\n",
    "        plt.figure(figsize=(20,20))\n",
    "        plt.subplot(4,4,1)\n",
    "        sb.distplot(train[i])\n",
    "        plt.title(str('Subplot for train:- ') + str(i))\n",
    "        plt.subplot(4,4,2)\n",
    "        plt.boxplot(train[i])\n",
    "        plt.title(str('Boxplot for train:- ') + str(i))\n",
    "        plt.subplot(4,4,3)\n",
    "        sb.distplot(test[i])\n",
    "        plt.title(str('Subplot for test:- ') + str(i))\n",
    "        plt.subplot(4,4,4)\n",
    "        plt.boxplot(test[i])\n",
    "        plt.title(str('Boxplot for test:- ') + str(i))"
   ]
  },
  {
   "cell_type": "code",
   "execution_count": 29,
   "metadata": {},
   "outputs": [
    {
     "data": {
      "image/png": "[encoded data removed]",
      "text/plain": [
       "<Figure size 1440x1440 with 4 Axes>"
      ]
     },
     "metadata": {
      "needs_background": "light"
     },
     "output_type": "display_data"
    },
    {
     "data": {
      "image/png": "[encoded data removed]",
      "text/plain": [
       "<Figure size 1440x1440 with 4 Axes>"
      ]
     },
     "metadata": {
      "needs_background": "light"
     },
     "output_type": "display_data"
    },
    {
     "data": {
      "image/png": "[encoded data removed]",
      "text/plain": [
       "<Figure size 1440x1440 with 4 Axes>"
      ]
     },
     "metadata": {
      "needs_background": "light"
     },
     "output_type": "display_data"
    },
    {
     "data": {
      "image/png": "[encoded data removed]",
      "text/plain": [
       "<Figure size 1440x1440 with 4 Axes>"
      ]
     },
     "metadata": {
      "needs_background": "light"
     },
     "output_type": "display_data"
    },
    {
     "data": {
      "image/png": "[encoded data removed]",
      "text/plain": [
       "<Figure size 1440x1440 with 4 Axes>"
      ]
     },
     "metadata": {
      "needs_background": "light"
     },
     "output_type": "display_data"
    },
    {
     "data": {
      "image/png": "[encoded data removed]",
      "text/plain": [
       "<Figure size 1440x1440 with 4 Axes>"
      ]
     },
     "metadata": {
      "needs_background": "light"
     },
     "output_type": "display_data"
    },
    {
     "data": {
      "image/png": "[encoded data removed]",
      "text/plain": [
       "<Figure size 1440x1440 with 4 Axes>"
      ]
     },
     "metadata": {
      "needs_background": "light"
     },
     "output_type": "display_data"
    },
    {
     "name": "stdout",
     "output_type": "stream",
     "text": [
      "time: 12.2 s\n"
     ]
    }
   ],
   "source": [
    "num_plot((train_short.columns),train_short,test_short)"
   ]
  },
  {
   "cell_type": "code",
   "execution_count": 30,
   "metadata": {
    "colab": {},
    "colab_type": "code",
    "id": "to_GzRvTpNwU"
   },
   "outputs": [
    {
     "name": "stdout",
     "output_type": "stream",
     "text": [
      "time: 2.06 ms\n"
     ]
    }
   ],
   "source": [
    "#Function to clip outliers at 5% and 95%\n",
    "def outlier_capping(x):\n",
    "    x = x.clip(x.quantile(0.95))\n",
    "    x = x.clip(x.quantile(0.05))\n",
    "    return x"
   ]
  },
  {
   "cell_type": "code",
   "execution_count": 31,
   "metadata": {
    "colab": {},
    "colab_type": "code",
    "id": "SPasP0jypNwY"
   },
   "outputs": [
    {
     "name": "stdout",
     "output_type": "stream",
     "text": [
      "time: 345 ms\n"
     ]
    }
   ],
   "source": [
    "train_short_clip=train_short.apply(lambda x: outlier_capping(x))\n",
    "test_short_clip=test_short.apply(lambda x: outlier_capping(x))"
   ]
  },
  {
   "cell_type": "code",
   "execution_count": 32,
   "metadata": {
    "colab": {},
    "colab_type": "code",
    "id": "HlLFU5IepNwb"
   },
   "outputs": [
    {
     "name": "stderr",
     "output_type": "stream",
     "text": [
      "C:\\Users\\chord\\Anaconda3\\lib\\site-packages\\seaborn\\distributions.py:288: UserWarning: Data must have variance to compute a kernel density estimate.\n",
      "  warnings.warn(msg, UserWarning)\n",
      "C:\\Users\\chord\\Anaconda3\\lib\\site-packages\\seaborn\\distributions.py:288: UserWarning: Data must have variance to compute a kernel density estimate.\n",
      "  warnings.warn(msg, UserWarning)\n",
      "C:\\Users\\chord\\Anaconda3\\lib\\site-packages\\seaborn\\distributions.py:288: UserWarning: Data must have variance to compute a kernel density estimate.\n",
      "  warnings.warn(msg, UserWarning)\n",
      "C:\\Users\\chord\\Anaconda3\\lib\\site-packages\\seaborn\\distributions.py:288: UserWarning: Data must have variance to compute a kernel density estimate.\n",
      "  warnings.warn(msg, UserWarning)\n",
      "C:\\Users\\chord\\Anaconda3\\lib\\site-packages\\seaborn\\distributions.py:288: UserWarning: Data must have variance to compute a kernel density estimate.\n",
      "  warnings.warn(msg, UserWarning)\n",
      "C:\\Users\\chord\\Anaconda3\\lib\\site-packages\\seaborn\\distributions.py:288: UserWarning: Data must have variance to compute a kernel density estimate.\n",
      "  warnings.warn(msg, UserWarning)\n",
      "C:\\Users\\chord\\Anaconda3\\lib\\site-packages\\seaborn\\distributions.py:288: UserWarning: Data must have variance to compute a kernel density estimate.\n",
      "  warnings.warn(msg, UserWarning)\n",
      "C:\\Users\\chord\\Anaconda3\\lib\\site-packages\\seaborn\\distributions.py:288: UserWarning: Data must have variance to compute a kernel density estimate.\n",
      "  warnings.warn(msg, UserWarning)\n",
      "C:\\Users\\chord\\Anaconda3\\lib\\site-packages\\seaborn\\distributions.py:288: UserWarning: Data must have variance to compute a kernel density estimate.\n",
      "  warnings.warn(msg, UserWarning)\n",
      "C:\\Users\\chord\\Anaconda3\\lib\\site-packages\\seaborn\\distributions.py:288: UserWarning: Data must have variance to compute a kernel density estimate.\n",
      "  warnings.warn(msg, UserWarning)\n"
     ]
    },
    {
     "data": {
      "image/png": "[encoded data removed]",
      "text/plain": [
       "<Figure size 1440x1440 with 4 Axes>"
      ]
     },
     "metadata": {
      "needs_background": "light"
     },
     "output_type": "display_data"
    },
    {
     "data": {
      "image/png": "[encoded data removed]",
      "text/plain": [
       "<Figure size 1440x1440 with 4 Axes>"
      ]
     },
     "metadata": {
      "needs_background": "light"
     },
     "output_type": "display_data"
    },
    {
     "data": {
      "image/png": "[encoded data removed]",
      "text/plain": [
       "<Figure size 1440x1440 with 4 Axes>"
      ]
     },
     "metadata": {
      "needs_background": "light"
     },
     "output_type": "display_data"
    },
    {
     "data": {
      "image/png": "[encoded data removed]",
      "text/plain": [
       "<Figure size 1440x1440 with 4 Axes>"
      ]
     },
     "metadata": {
      "needs_background": "light"
     },
     "output_type": "display_data"
    },
    {
     "data": {
      "image/png": "[encoded data removed]",
      "text/plain": [
       "<Figure size 1440x1440 with 4 Axes>"
      ]
     },
     "metadata": {
      "needs_background": "light"
     },
     "output_type": "display_data"
    },
    {
     "data": {
      "image/png": "[encoded data removed]",
      "text/plain": [
       "<Figure size 1440x1440 with 4 Axes>"
      ]
     },
     "metadata": {
      "needs_background": "light"
     },
     "output_type": "display_data"
    },
    {
     "data": {
      "image/png": "[encoded data removed]",
      "text/plain": [
       "<Figure size 1440x1440 with 4 Axes>"
      ]
     },
     "metadata": {
      "needs_background": "light"
     },
     "output_type": "display_data"
    },
    {
     "name": "stdout",
     "output_type": "stream",
     "text": [
      "time: 11.8 s\n"
     ]
    }
   ],
   "source": [
    "num_plot((train_short_clip.columns),train_short_clip,test_short_clip)"
   ]
  },
  {
   "cell_type": "markdown",
   "metadata": {
    "colab": {},
    "colab_type": "code",
    "id": "qx-slnivpNwu"
   },
   "source": [
    "        It seems that due to clipping the variance in the dataset is being lost. Hence will "
   ]
  },
  {
   "cell_type": "markdown",
   "metadata": {
    "colab_type": "text",
    "id": "Vht_tfBkpNwx",
    "toc-hr-collapsed": false
   },
   "source": [
    "### Categorical "
   ]
  },
  {
   "cell_type": "markdown",
   "metadata": {
    "colab_type": "text",
    "id": "0RNHeURzpNwy"
   },
   "source": [
    "#### Creating dummy variables for train and test categories"
   ]
  },
  {
   "cell_type": "code",
   "execution_count": 33,
   "metadata": {
    "colab": {},
    "colab_type": "code",
    "id": "iQef5zPopNwz"
   },
   "outputs": [
    {
     "name": "stdout",
     "output_type": "stream",
     "text": [
      "<class 'pandas.core.frame.DataFrame'>\n",
      "RangeIndex: 125972 entries, 0 to 125971\n",
      "Data columns (total 84 columns):\n",
      "protocol_type_icmp     125972 non-null uint8\n",
      "protocol_type_tcp      125972 non-null uint8\n",
      "protocol_type_udp      125972 non-null uint8\n",
      "service_IRC            125972 non-null uint8\n",
      "service_X11            125972 non-null uint8\n",
      "service_Z39_50         125972 non-null uint8\n",
      "service_aol            125972 non-null uint8\n",
      "service_auth           125972 non-null uint8\n",
      "service_bgp            125972 non-null uint8\n",
      "service_courier        125972 non-null uint8\n",
      "service_csnet_ns       125972 non-null uint8\n",
      "service_ctf            125972 non-null uint8\n",
      "service_daytime        125972 non-null uint8\n",
      "service_discard        125972 non-null uint8\n",
      "service_domain         125972 non-null uint8\n",
      "service_domain_u       125972 non-null uint8\n",
      "service_echo           125972 non-null uint8\n",
      "service_eco_i          125972 non-null uint8\n",
      "service_ecr_i          125972 non-null uint8\n",
      "service_efs            125972 non-null uint8\n",
      "service_exec           125972 non-null uint8\n",
      "service_finger         125972 non-null uint8\n",
      "service_ftp            125972 non-null uint8\n",
      "service_ftp_data       125972 non-null uint8\n",
      "service_gopher         125972 non-null uint8\n",
      "service_harvest        125972 non-null uint8\n",
      "service_hostnames      125972 non-null uint8\n",
      "service_http           125972 non-null uint8\n",
      "service_http_2784      125972 non-null uint8\n",
      "service_http_443       125972 non-null uint8\n",
      "service_http_8001      125972 non-null uint8\n",
      "service_imap4          125972 non-null uint8\n",
      "service_iso_tsap       125972 non-null uint8\n",
      "service_klogin         125972 non-null uint8\n",
      "service_kshell         125972 non-null uint8\n",
      "service_ldap           125972 non-null uint8\n",
      "service_link           125972 non-null uint8\n",
      "service_login          125972 non-null uint8\n",
      "service_mtp            125972 non-null uint8\n",
      "service_name           125972 non-null uint8\n",
      "service_netbios_dgm    125972 non-null uint8\n",
      "service_netbios_ns     125972 non-null uint8\n",
      "service_netbios_ssn    125972 non-null uint8\n",
      "service_netstat        125972 non-null uint8\n",
      "service_nnsp           125972 non-null uint8\n",
      "service_nntp           125972 non-null uint8\n",
      "service_ntp_u          125972 non-null uint8\n",
      "service_other          125972 non-null uint8\n",
      "service_pm_dump        125972 non-null uint8\n",
      "service_pop_2          125972 non-null uint8\n",
      "service_pop_3          125972 non-null uint8\n",
      "service_printer        125972 non-null uint8\n",
      "service_private        125972 non-null uint8\n",
      "service_red_i          125972 non-null uint8\n",
      "service_remote_job     125972 non-null uint8\n",
      "service_rje            125972 non-null uint8\n",
      "service_shell          125972 non-null uint8\n",
      "service_smtp           125972 non-null uint8\n",
      "service_sql_net        125972 non-null uint8\n",
      "service_ssh            125972 non-null uint8\n",
      "service_sunrpc         125972 non-null uint8\n",
      "service_supdup         125972 non-null uint8\n",
      "service_systat         125972 non-null uint8\n",
      "service_telnet         125972 non-null uint8\n",
      "service_tftp_u         125972 non-null uint8\n",
      "service_tim_i          125972 non-null uint8\n",
      "service_time           125972 non-null uint8\n",
      "service_urh_i          125972 non-null uint8\n",
      "service_urp_i          125972 non-null uint8\n",
      "service_uucp           125972 non-null uint8\n",
      "service_uucp_path      125972 non-null uint8\n",
      "service_vmnet          125972 non-null uint8\n",
      "service_whois          125972 non-null uint8\n",
      "flag_OTH               125972 non-null uint8\n",
      "flag_REJ               125972 non-null uint8\n",
      "flag_RSTO              125972 non-null uint8\n",
      "flag_RSTOS0            125972 non-null uint8\n",
      "flag_RSTR              125972 non-null uint8\n",
      "flag_S0                125972 non-null uint8\n",
      "flag_S1                125972 non-null uint8\n",
      "flag_S2                125972 non-null uint8\n",
      "flag_S3                125972 non-null uint8\n",
      "flag_SF                125972 non-null uint8\n",
      "flag_SH                125972 non-null uint8\n",
      "dtypes: uint8(84)\n",
      "memory usage: 10.1 MB\n",
      "time: 289 ms\n"
     ]
    }
   ],
   "source": [
    "#train\n",
    "#Extracting a list of column names\n",
    "train_cat = pd.get_dummies(train_df[multi_cat_list], prefix = multi_cat_list,columns=multi_cat_list)\n",
    "train_cat.info()"
   ]
  },
  {
   "cell_type": "code",
   "execution_count": 34,
   "metadata": {
    "colab": {},
    "colab_type": "code",
    "id": "VrkwaGdSpNw3"
   },
   "outputs": [
    {
     "name": "stdout",
     "output_type": "stream",
     "text": [
      "<class 'pandas.core.frame.DataFrame'>\n",
      "RangeIndex: 22543 entries, 0 to 22542\n",
      "Data columns (total 78 columns):\n",
      "protocol_type_icmp     22543 non-null uint8\n",
      "protocol_type_tcp      22543 non-null uint8\n",
      "protocol_type_udp      22543 non-null uint8\n",
      "service_IRC            22543 non-null uint8\n",
      "service_X11            22543 non-null uint8\n",
      "service_Z39_50         22543 non-null uint8\n",
      "service_auth           22543 non-null uint8\n",
      "service_bgp            22543 non-null uint8\n",
      "service_courier        22543 non-null uint8\n",
      "service_csnet_ns       22543 non-null uint8\n",
      "service_ctf            22543 non-null uint8\n",
      "service_daytime        22543 non-null uint8\n",
      "service_discard        22543 non-null uint8\n",
      "service_domain         22543 non-null uint8\n",
      "service_domain_u       22543 non-null uint8\n",
      "service_echo           22543 non-null uint8\n",
      "service_eco_i          22543 non-null uint8\n",
      "service_ecr_i          22543 non-null uint8\n",
      "service_efs            22543 non-null uint8\n",
      "service_exec           22543 non-null uint8\n",
      "service_finger         22543 non-null uint8\n",
      "service_ftp            22543 non-null uint8\n",
      "service_ftp_data       22543 non-null uint8\n",
      "service_gopher         22543 non-null uint8\n",
      "service_hostnames      22543 non-null uint8\n",
      "service_http           22543 non-null uint8\n",
      "service_http_443       22543 non-null uint8\n",
      "service_imap4          22543 non-null uint8\n",
      "service_iso_tsap       22543 non-null uint8\n",
      "service_klogin         22543 non-null uint8\n",
      "service_kshell         22543 non-null uint8\n",
      "service_ldap           22543 non-null uint8\n",
      "service_link           22543 non-null uint8\n",
      "service_login          22543 non-null uint8\n",
      "service_mtp            22543 non-null uint8\n",
      "service_name           22543 non-null uint8\n",
      "service_netbios_dgm    22543 non-null uint8\n",
      "service_netbios_ns     22543 non-null uint8\n",
      "service_netbios_ssn    22543 non-null uint8\n",
      "service_netstat        22543 non-null uint8\n",
      "service_nnsp           22543 non-null uint8\n",
      "service_nntp           22543 non-null uint8\n",
      "service_ntp_u          22543 non-null uint8\n",
      "service_other          22543 non-null uint8\n",
      "service_pm_dump        22543 non-null uint8\n",
      "service_pop_2          22543 non-null uint8\n",
      "service_pop_3          22543 non-null uint8\n",
      "service_printer        22543 non-null uint8\n",
      "service_private        22543 non-null uint8\n",
      "service_remote_job     22543 non-null uint8\n",
      "service_rje            22543 non-null uint8\n",
      "service_shell          22543 non-null uint8\n",
      "service_smtp           22543 non-null uint8\n",
      "service_sql_net        22543 non-null uint8\n",
      "service_ssh            22543 non-null uint8\n",
      "service_sunrpc         22543 non-null uint8\n",
      "service_supdup         22543 non-null uint8\n",
      "service_systat         22543 non-null uint8\n",
      "service_telnet         22543 non-null uint8\n",
      "service_tftp_u         22543 non-null uint8\n",
      "service_tim_i          22543 non-null uint8\n",
      "service_time           22543 non-null uint8\n",
      "service_urp_i          22543 non-null uint8\n",
      "service_uucp           22543 non-null uint8\n",
      "service_uucp_path      22543 non-null uint8\n",
      "service_vmnet          22543 non-null uint8\n",
      "service_whois          22543 non-null uint8\n",
      "flag_OTH               22543 non-null uint8\n",
      "flag_REJ               22543 non-null uint8\n",
      "flag_RSTO              22543 non-null uint8\n",
      "flag_RSTOS0            22543 non-null uint8\n",
      "flag_RSTR              22543 non-null uint8\n",
      "flag_S0                22543 non-null uint8\n",
      "flag_S1                22543 non-null uint8\n",
      "flag_S2                22543 non-null uint8\n",
      "flag_S3                22543 non-null uint8\n",
      "flag_SF                22543 non-null uint8\n",
      "flag_SH                22543 non-null uint8\n",
      "dtypes: uint8(78)\n",
      "memory usage: 1.7 MB\n",
      "time: 86.5 ms\n"
     ]
    }
   ],
   "source": [
    "#test\n",
    "#Extracting a list of column names\n",
    "test_cat = pd.get_dummies(test_df[multi_cat_list], prefix=multi_cat_list,columns=multi_cat_list)\n",
    "test_cat.info()"
   ]
  },
  {
   "cell_type": "markdown",
   "metadata": {
    "colab_type": "text",
    "id": "69FOXNX5pNw7"
   },
   "source": [
    "#### Extra Columns"
   ]
  },
  {
   "cell_type": "code",
   "execution_count": 35,
   "metadata": {
    "colab": {},
    "colab_type": "code",
    "id": "zYcdOfiYpNw8"
   },
   "outputs": [
    {
     "data": {
      "text/plain": [
       "Index(['service_aol', 'service_harvest', 'service_http_2784',\n",
       "       'service_http_8001', 'service_red_i', 'service_urh_i'],\n",
       "      dtype='object')"
      ]
     },
     "execution_count": 35,
     "metadata": {},
     "output_type": "execute_result"
    },
    {
     "name": "stdout",
     "output_type": "stream",
     "text": [
      "time: 10.1 ms\n"
     ]
    }
   ],
   "source": [
    "#Detecting columns difference between train and test\n",
    "train_cat.columns.difference(test_cat.columns)"
   ]
  },
  {
   "cell_type": "code",
   "execution_count": 36,
   "metadata": {
    "colab": {},
    "colab_type": "code",
    "id": "ortFwLflpNxA"
   },
   "outputs": [
    {
     "data": {
      "text/plain": [
       "Index([], dtype='object')"
      ]
     },
     "execution_count": 36,
     "metadata": {},
     "output_type": "execute_result"
    },
    {
     "name": "stdout",
     "output_type": "stream",
     "text": [
      "time: 6.98 ms\n"
     ]
    }
   ],
   "source": [
    "test_cat.columns.difference(train_cat.columns)"
   ]
  },
  {
   "cell_type": "code",
   "execution_count": 37,
   "metadata": {
    "colab": {},
    "colab_type": "code",
    "id": "5ypRFHN5pNxE"
   },
   "outputs": [
    {
     "name": "stdout",
     "output_type": "stream",
     "text": [
      "time: 47 ms\n"
     ]
    }
   ],
   "source": [
    "#To stablize both datasets extra columns present in train dataset are being deleted\n",
    "train_cat.drop(columns = train_cat.columns.difference(test_cat.columns),inplace=True)"
   ]
  },
  {
   "cell_type": "markdown",
   "metadata": {
    "colab_type": "text",
    "id": "__eGIcdkpNyf"
   },
   "source": [
    "### Combining The Dataset"
   ]
  },
  {
   "cell_type": "code",
   "execution_count": 38,
   "metadata": {
    "colab": {},
    "colab_type": "code",
    "id": "ON8hzlwjpNyg"
   },
   "outputs": [
    {
     "name": "stdout",
     "output_type": "stream",
     "text": [
      "time: 41 ms\n"
     ]
    }
   ],
   "source": [
    "train_combine = pd.concat([train_short,train_cat,train_df[['bi_attack','multi_attack']]],axis=1)\n",
    "test_combine = pd.concat([test_short,test_cat,test_df[['bi_attack','multi_attack']]],axis=1)"
   ]
  },
  {
   "cell_type": "code",
   "execution_count": 39,
   "metadata": {},
   "outputs": [
    {
     "data": {
      "text/html": [
       "<div>\n",
       "<style scoped>\n",
       "    .dataframe tbody tr th:only-of-type {\n",
       "        vertical-align: middle;\n",
       "    }\n",
       "\n",
       "    .dataframe tbody tr th {\n",
       "        vertical-align: top;\n",
       "    }\n",
       "\n",
       "    .dataframe thead th {\n",
       "        text-align: right;\n",
       "    }\n",
       "</style>\n",
       "<table border=\"1\" class=\"dataframe\">\n",
       "  <thead>\n",
       "    <tr style=\"text-align: right;\">\n",
       "      <th></th>\n",
       "      <th>count</th>\n",
       "      <th>dst_host_count</th>\n",
       "      <th>dst_host_same_srv_rate</th>\n",
       "      <th>dst_host_srv_count</th>\n",
       "      <th>last_flag</th>\n",
       "      <th>same_srv_rate</th>\n",
       "      <th>srv_count</th>\n",
       "      <th>protocol_type_icmp</th>\n",
       "      <th>protocol_type_tcp</th>\n",
       "      <th>protocol_type_udp</th>\n",
       "      <th>...</th>\n",
       "      <th>flag_RSTOS0</th>\n",
       "      <th>flag_RSTR</th>\n",
       "      <th>flag_S0</th>\n",
       "      <th>flag_S1</th>\n",
       "      <th>flag_S2</th>\n",
       "      <th>flag_S3</th>\n",
       "      <th>flag_SF</th>\n",
       "      <th>flag_SH</th>\n",
       "      <th>bi_attack</th>\n",
       "      <th>multi_attack</th>\n",
       "    </tr>\n",
       "  </thead>\n",
       "  <tbody>\n",
       "    <tr>\n",
       "      <th>0</th>\n",
       "      <td>13</td>\n",
       "      <td>255</td>\n",
       "      <td>0.00</td>\n",
       "      <td>1</td>\n",
       "      <td>15</td>\n",
       "      <td>0.08</td>\n",
       "      <td>1</td>\n",
       "      <td>0</td>\n",
       "      <td>0</td>\n",
       "      <td>1</td>\n",
       "      <td>...</td>\n",
       "      <td>0</td>\n",
       "      <td>0</td>\n",
       "      <td>0</td>\n",
       "      <td>0</td>\n",
       "      <td>0</td>\n",
       "      <td>0</td>\n",
       "      <td>1</td>\n",
       "      <td>0</td>\n",
       "      <td>0</td>\n",
       "      <td>normal</td>\n",
       "    </tr>\n",
       "    <tr>\n",
       "      <th>1</th>\n",
       "      <td>123</td>\n",
       "      <td>255</td>\n",
       "      <td>0.10</td>\n",
       "      <td>26</td>\n",
       "      <td>19</td>\n",
       "      <td>0.05</td>\n",
       "      <td>6</td>\n",
       "      <td>0</td>\n",
       "      <td>1</td>\n",
       "      <td>0</td>\n",
       "      <td>...</td>\n",
       "      <td>0</td>\n",
       "      <td>0</td>\n",
       "      <td>1</td>\n",
       "      <td>0</td>\n",
       "      <td>0</td>\n",
       "      <td>0</td>\n",
       "      <td>0</td>\n",
       "      <td>0</td>\n",
       "      <td>1</td>\n",
       "      <td>Dos</td>\n",
       "    </tr>\n",
       "    <tr>\n",
       "      <th>2</th>\n",
       "      <td>5</td>\n",
       "      <td>30</td>\n",
       "      <td>1.00</td>\n",
       "      <td>255</td>\n",
       "      <td>21</td>\n",
       "      <td>1.00</td>\n",
       "      <td>5</td>\n",
       "      <td>0</td>\n",
       "      <td>1</td>\n",
       "      <td>0</td>\n",
       "      <td>...</td>\n",
       "      <td>0</td>\n",
       "      <td>0</td>\n",
       "      <td>0</td>\n",
       "      <td>0</td>\n",
       "      <td>0</td>\n",
       "      <td>0</td>\n",
       "      <td>1</td>\n",
       "      <td>0</td>\n",
       "      <td>0</td>\n",
       "      <td>normal</td>\n",
       "    </tr>\n",
       "    <tr>\n",
       "      <th>3</th>\n",
       "      <td>30</td>\n",
       "      <td>255</td>\n",
       "      <td>1.00</td>\n",
       "      <td>255</td>\n",
       "      <td>21</td>\n",
       "      <td>1.00</td>\n",
       "      <td>32</td>\n",
       "      <td>0</td>\n",
       "      <td>1</td>\n",
       "      <td>0</td>\n",
       "      <td>...</td>\n",
       "      <td>0</td>\n",
       "      <td>0</td>\n",
       "      <td>0</td>\n",
       "      <td>0</td>\n",
       "      <td>0</td>\n",
       "      <td>0</td>\n",
       "      <td>1</td>\n",
       "      <td>0</td>\n",
       "      <td>0</td>\n",
       "      <td>normal</td>\n",
       "    </tr>\n",
       "    <tr>\n",
       "      <th>4</th>\n",
       "      <td>121</td>\n",
       "      <td>255</td>\n",
       "      <td>0.07</td>\n",
       "      <td>19</td>\n",
       "      <td>21</td>\n",
       "      <td>0.16</td>\n",
       "      <td>19</td>\n",
       "      <td>0</td>\n",
       "      <td>1</td>\n",
       "      <td>0</td>\n",
       "      <td>...</td>\n",
       "      <td>0</td>\n",
       "      <td>0</td>\n",
       "      <td>0</td>\n",
       "      <td>0</td>\n",
       "      <td>0</td>\n",
       "      <td>0</td>\n",
       "      <td>0</td>\n",
       "      <td>0</td>\n",
       "      <td>1</td>\n",
       "      <td>Dos</td>\n",
       "    </tr>\n",
       "    <tr>\n",
       "      <th>...</th>\n",
       "      <td>...</td>\n",
       "      <td>...</td>\n",
       "      <td>...</td>\n",
       "      <td>...</td>\n",
       "      <td>...</td>\n",
       "      <td>...</td>\n",
       "      <td>...</td>\n",
       "      <td>...</td>\n",
       "      <td>...</td>\n",
       "      <td>...</td>\n",
       "      <td>...</td>\n",
       "      <td>...</td>\n",
       "      <td>...</td>\n",
       "      <td>...</td>\n",
       "      <td>...</td>\n",
       "      <td>...</td>\n",
       "      <td>...</td>\n",
       "      <td>...</td>\n",
       "      <td>...</td>\n",
       "      <td>...</td>\n",
       "      <td>...</td>\n",
       "    </tr>\n",
       "    <tr>\n",
       "      <th>125967</th>\n",
       "      <td>184</td>\n",
       "      <td>255</td>\n",
       "      <td>0.10</td>\n",
       "      <td>25</td>\n",
       "      <td>20</td>\n",
       "      <td>0.14</td>\n",
       "      <td>25</td>\n",
       "      <td>0</td>\n",
       "      <td>1</td>\n",
       "      <td>0</td>\n",
       "      <td>...</td>\n",
       "      <td>0</td>\n",
       "      <td>0</td>\n",
       "      <td>1</td>\n",
       "      <td>0</td>\n",
       "      <td>0</td>\n",
       "      <td>0</td>\n",
       "      <td>0</td>\n",
       "      <td>0</td>\n",
       "      <td>1</td>\n",
       "      <td>Dos</td>\n",
       "    </tr>\n",
       "    <tr>\n",
       "      <th>125968</th>\n",
       "      <td>2</td>\n",
       "      <td>255</td>\n",
       "      <td>0.96</td>\n",
       "      <td>244</td>\n",
       "      <td>21</td>\n",
       "      <td>1.00</td>\n",
       "      <td>2</td>\n",
       "      <td>0</td>\n",
       "      <td>0</td>\n",
       "      <td>1</td>\n",
       "      <td>...</td>\n",
       "      <td>0</td>\n",
       "      <td>0</td>\n",
       "      <td>0</td>\n",
       "      <td>0</td>\n",
       "      <td>0</td>\n",
       "      <td>0</td>\n",
       "      <td>1</td>\n",
       "      <td>0</td>\n",
       "      <td>0</td>\n",
       "      <td>normal</td>\n",
       "    </tr>\n",
       "    <tr>\n",
       "      <th>125969</th>\n",
       "      <td>1</td>\n",
       "      <td>255</td>\n",
       "      <td>0.12</td>\n",
       "      <td>30</td>\n",
       "      <td>18</td>\n",
       "      <td>1.00</td>\n",
       "      <td>1</td>\n",
       "      <td>0</td>\n",
       "      <td>1</td>\n",
       "      <td>0</td>\n",
       "      <td>...</td>\n",
       "      <td>0</td>\n",
       "      <td>0</td>\n",
       "      <td>0</td>\n",
       "      <td>0</td>\n",
       "      <td>0</td>\n",
       "      <td>0</td>\n",
       "      <td>1</td>\n",
       "      <td>0</td>\n",
       "      <td>0</td>\n",
       "      <td>normal</td>\n",
       "    </tr>\n",
       "    <tr>\n",
       "      <th>125970</th>\n",
       "      <td>144</td>\n",
       "      <td>255</td>\n",
       "      <td>0.03</td>\n",
       "      <td>8</td>\n",
       "      <td>20</td>\n",
       "      <td>0.06</td>\n",
       "      <td>8</td>\n",
       "      <td>0</td>\n",
       "      <td>1</td>\n",
       "      <td>0</td>\n",
       "      <td>...</td>\n",
       "      <td>0</td>\n",
       "      <td>0</td>\n",
       "      <td>1</td>\n",
       "      <td>0</td>\n",
       "      <td>0</td>\n",
       "      <td>0</td>\n",
       "      <td>0</td>\n",
       "      <td>0</td>\n",
       "      <td>1</td>\n",
       "      <td>Dos</td>\n",
       "    </tr>\n",
       "    <tr>\n",
       "      <th>125971</th>\n",
       "      <td>1</td>\n",
       "      <td>255</td>\n",
       "      <td>0.30</td>\n",
       "      <td>77</td>\n",
       "      <td>21</td>\n",
       "      <td>1.00</td>\n",
       "      <td>1</td>\n",
       "      <td>0</td>\n",
       "      <td>1</td>\n",
       "      <td>0</td>\n",
       "      <td>...</td>\n",
       "      <td>0</td>\n",
       "      <td>0</td>\n",
       "      <td>0</td>\n",
       "      <td>0</td>\n",
       "      <td>0</td>\n",
       "      <td>0</td>\n",
       "      <td>1</td>\n",
       "      <td>0</td>\n",
       "      <td>0</td>\n",
       "      <td>normal</td>\n",
       "    </tr>\n",
       "  </tbody>\n",
       "</table>\n",
       "<p>125972 rows × 87 columns</p>\n",
       "</div>"
      ],
      "text/plain": [
       "        count  dst_host_count  dst_host_same_srv_rate  dst_host_srv_count  \\\n",
       "0          13             255                    0.00                   1   \n",
       "1         123             255                    0.10                  26   \n",
       "2           5              30                    1.00                 255   \n",
       "3          30             255                    1.00                 255   \n",
       "4         121             255                    0.07                  19   \n",
       "...       ...             ...                     ...                 ...   \n",
       "125967    184             255                    0.10                  25   \n",
       "125968      2             255                    0.96                 244   \n",
       "125969      1             255                    0.12                  30   \n",
       "125970    144             255                    0.03                   8   \n",
       "125971      1             255                    0.30                  77   \n",
       "\n",
       "        last_flag  same_srv_rate  srv_count  protocol_type_icmp  \\\n",
       "0              15           0.08          1                   0   \n",
       "1              19           0.05          6                   0   \n",
       "2              21           1.00          5                   0   \n",
       "3              21           1.00         32                   0   \n",
       "4              21           0.16         19                   0   \n",
       "...           ...            ...        ...                 ...   \n",
       "125967         20           0.14         25                   0   \n",
       "125968         21           1.00          2                   0   \n",
       "125969         18           1.00          1                   0   \n",
       "125970         20           0.06          8                   0   \n",
       "125971         21           1.00          1                   0   \n",
       "\n",
       "        protocol_type_tcp  protocol_type_udp  ...  flag_RSTOS0  flag_RSTR  \\\n",
       "0                       0                  1  ...            0          0   \n",
       "1                       1                  0  ...            0          0   \n",
       "2                       1                  0  ...            0          0   \n",
       "3                       1                  0  ...            0          0   \n",
       "4                       1                  0  ...            0          0   \n",
       "...                   ...                ...  ...          ...        ...   \n",
       "125967                  1                  0  ...            0          0   \n",
       "125968                  0                  1  ...            0          0   \n",
       "125969                  1                  0  ...            0          0   \n",
       "125970                  1                  0  ...            0          0   \n",
       "125971                  1                  0  ...            0          0   \n",
       "\n",
       "        flag_S0  flag_S1  flag_S2  flag_S3  flag_SF  flag_SH  bi_attack  \\\n",
       "0             0        0        0        0        1        0          0   \n",
       "1             1        0        0        0        0        0          1   \n",
       "2             0        0        0        0        1        0          0   \n",
       "3             0        0        0        0        1        0          0   \n",
       "4             0        0        0        0        0        0          1   \n",
       "...         ...      ...      ...      ...      ...      ...        ...   \n",
       "125967        1        0        0        0        0        0          1   \n",
       "125968        0        0        0        0        1        0          0   \n",
       "125969        0        0        0        0        1        0          0   \n",
       "125970        1        0        0        0        0        0          1   \n",
       "125971        0        0        0        0        1        0          0   \n",
       "\n",
       "        multi_attack  \n",
       "0             normal  \n",
       "1                Dos  \n",
       "2             normal  \n",
       "3             normal  \n",
       "4                Dos  \n",
       "...              ...  \n",
       "125967           Dos  \n",
       "125968        normal  \n",
       "125969        normal  \n",
       "125970           Dos  \n",
       "125971        normal  \n",
       "\n",
       "[125972 rows x 87 columns]"
      ]
     },
     "execution_count": 39,
     "metadata": {},
     "output_type": "execute_result"
    },
    {
     "name": "stdout",
     "output_type": "stream",
     "text": [
      "time: 260 ms\n"
     ]
    }
   ],
   "source": [
    "train_combine"
   ]
  },
  {
   "cell_type": "markdown",
   "metadata": {
    "colab_type": "text",
    "id": "wvfmT5MypNzK",
    "toc-hr-collapsed": false
   },
   "source": [
    "## Feature Engineering"
   ]
  },
  {
   "cell_type": "markdown",
   "metadata": {
    "colab_type": "text",
    "id": "9H5DidqKpNzq"
   },
   "source": [
    "### VIF"
   ]
  },
  {
   "cell_type": "code",
   "execution_count": 40,
   "metadata": {
    "colab": {},
    "colab_type": "code",
    "id": "XMroLdSIpNzr",
    "outputId": "4933152e-a715-4322-b972-1bc23b464eaf"
   },
   "outputs": [
    {
     "data": {
      "text/html": [
       "<div>\n",
       "<style scoped>\n",
       "    .dataframe tbody tr th:only-of-type {\n",
       "        vertical-align: middle;\n",
       "    }\n",
       "\n",
       "    .dataframe tbody tr th {\n",
       "        vertical-align: top;\n",
       "    }\n",
       "\n",
       "    .dataframe thead th {\n",
       "        text-align: right;\n",
       "    }\n",
       "</style>\n",
       "<table border=\"1\" class=\"dataframe\">\n",
       "  <thead>\n",
       "    <tr style=\"text-align: right;\">\n",
       "      <th></th>\n",
       "      <th>VIF Factor</th>\n",
       "      <th>features</th>\n",
       "    </tr>\n",
       "  </thead>\n",
       "  <tbody>\n",
       "    <tr>\n",
       "      <th>1</th>\n",
       "      <td>7.386502</td>\n",
       "      <td>dst_host_count</td>\n",
       "    </tr>\n",
       "    <tr>\n",
       "      <th>0</th>\n",
       "      <td>5.646934</td>\n",
       "      <td>count</td>\n",
       "    </tr>\n",
       "    <tr>\n",
       "      <th>11</th>\n",
       "      <td>5.210832</td>\n",
       "      <td>protocol_type_udp</td>\n",
       "    </tr>\n",
       "    <tr>\n",
       "      <th>23</th>\n",
       "      <td>4.965236</td>\n",
       "      <td>service_domain_u</td>\n",
       "    </tr>\n",
       "    <tr>\n",
       "      <th>76</th>\n",
       "      <td>4.573707</td>\n",
       "      <td>srv_count</td>\n",
       "    </tr>\n",
       "    <tr>\n",
       "      <th>...</th>\n",
       "      <td>...</td>\n",
       "      <td>...</td>\n",
       "    </tr>\n",
       "    <tr>\n",
       "      <th>13</th>\n",
       "      <td>1.002272</td>\n",
       "      <td>service_X11</td>\n",
       "    </tr>\n",
       "    <tr>\n",
       "      <th>9</th>\n",
       "      <td>1.001707</td>\n",
       "      <td>flag_S3</td>\n",
       "    </tr>\n",
       "    <tr>\n",
       "      <th>68</th>\n",
       "      <td>1.001158</td>\n",
       "      <td>service_tftp_u</td>\n",
       "    </tr>\n",
       "    <tr>\n",
       "      <th>53</th>\n",
       "      <td>1.000307</td>\n",
       "      <td>service_pm_dump</td>\n",
       "    </tr>\n",
       "    <tr>\n",
       "      <th>69</th>\n",
       "      <td>1.000013</td>\n",
       "      <td>service_tim_i</td>\n",
       "    </tr>\n",
       "  </tbody>\n",
       "</table>\n",
       "<p>77 rows × 2 columns</p>\n",
       "</div>"
      ],
      "text/plain": [
       "    VIF Factor           features\n",
       "1     7.386502     dst_host_count\n",
       "0     5.646934              count\n",
       "11    5.210832  protocol_type_udp\n",
       "23    4.965236   service_domain_u\n",
       "76    4.573707          srv_count\n",
       "..         ...                ...\n",
       "13    1.002272        service_X11\n",
       "9     1.001707            flag_S3\n",
       "68    1.001158     service_tftp_u\n",
       "53    1.000307    service_pm_dump\n",
       "69    1.000013      service_tim_i\n",
       "\n",
       "[77 rows x 2 columns]"
      ]
     },
     "execution_count": 40,
     "metadata": {},
     "output_type": "execute_result"
    },
    {
     "name": "stdout",
     "output_type": "stream",
     "text": [
      "time: 3min 1s\n"
     ]
    }
   ],
   "source": [
    "c_drop = ['flag_S0','protocol_type_tcp','protocol_type_icmp','last_flag','same_srv_rate','dst_host_same_srv_rate','flag_SF','dst_host_srv_count']\n",
    "c_vif_data = train_combine[train_combine.columns.difference(['attack','bi_attack','multi_attack'])].drop(c_drop,axis=1)\n",
    "c_vif = pd.DataFrame()\n",
    "c_vif[\"VIF Factor\"] = [variance_inflation_factor(c_vif_data.values, i) for i in range(c_vif_data.shape[1])]\n",
    "c_vif[\"features\"] = c_vif_data.columns\n",
    "c_vif.sort_values(by='VIF Factor', ascending=False)"
   ]
  },
  {
   "cell_type": "code",
   "execution_count": 41,
   "metadata": {},
   "outputs": [
    {
     "name": "stdout",
     "output_type": "stream",
     "text": [
      "time: 52.2 ms\n"
     ]
    }
   ],
   "source": [
    "#Features not present in final vif list are removed from train and test dataset.\n",
    "train_combine_vif = train_combine[(c_vif.features)]\n",
    "test_combine_vif = test_combine[(c_vif.features)]"
   ]
  },
  {
   "cell_type": "code",
   "execution_count": 42,
   "metadata": {},
   "outputs": [
    {
     "name": "stdout",
     "output_type": "stream",
     "text": [
      "time: 33 ms\n"
     ]
    }
   ],
   "source": [
    "#Binary and multi_attack lables are added to the final dataset\n",
    "train_combine_vif = pd.concat([train_combine_vif, train_df[['bi_attack','multi_attack']]],axis=1)\n",
    "test_combine_vif = pd.concat([test_combine_vif, test_df[['bi_attack','multi_attack']]],axis=1)"
   ]
  },
  {
   "cell_type": "code",
   "execution_count": 43,
   "metadata": {},
   "outputs": [
    {
     "name": "stdout",
     "output_type": "stream",
     "text": [
      "<class 'pandas.core.frame.DataFrame'>\n",
      "RangeIndex: 125972 entries, 0 to 125971\n",
      "Data columns (total 79 columns):\n",
      "count                  125972 non-null int64\n",
      "dst_host_count         125972 non-null int64\n",
      "flag_OTH               125972 non-null uint8\n",
      "flag_REJ               125972 non-null uint8\n",
      "flag_RSTO              125972 non-null uint8\n",
      "flag_RSTOS0            125972 non-null uint8\n",
      "flag_RSTR              125972 non-null uint8\n",
      "flag_S1                125972 non-null uint8\n",
      "flag_S2                125972 non-null uint8\n",
      "flag_S3                125972 non-null uint8\n",
      "flag_SH                125972 non-null uint8\n",
      "protocol_type_udp      125972 non-null uint8\n",
      "service_IRC            125972 non-null uint8\n",
      "service_X11            125972 non-null uint8\n",
      "service_Z39_50         125972 non-null uint8\n",
      "service_auth           125972 non-null uint8\n",
      "service_bgp            125972 non-null uint8\n",
      "service_courier        125972 non-null uint8\n",
      "service_csnet_ns       125972 non-null uint8\n",
      "service_ctf            125972 non-null uint8\n",
      "service_daytime        125972 non-null uint8\n",
      "service_discard        125972 non-null uint8\n",
      "service_domain         125972 non-null uint8\n",
      "service_domain_u       125972 non-null uint8\n",
      "service_echo           125972 non-null uint8\n",
      "service_eco_i          125972 non-null uint8\n",
      "service_ecr_i          125972 non-null uint8\n",
      "service_efs            125972 non-null uint8\n",
      "service_exec           125972 non-null uint8\n",
      "service_finger         125972 non-null uint8\n",
      "service_ftp            125972 non-null uint8\n",
      "service_ftp_data       125972 non-null uint8\n",
      "service_gopher         125972 non-null uint8\n",
      "service_hostnames      125972 non-null uint8\n",
      "service_http           125972 non-null uint8\n",
      "service_http_443       125972 non-null uint8\n",
      "service_imap4          125972 non-null uint8\n",
      "service_iso_tsap       125972 non-null uint8\n",
      "service_klogin         125972 non-null uint8\n",
      "service_kshell         125972 non-null uint8\n",
      "service_ldap           125972 non-null uint8\n",
      "service_link           125972 non-null uint8\n",
      "service_login          125972 non-null uint8\n",
      "service_mtp            125972 non-null uint8\n",
      "service_name           125972 non-null uint8\n",
      "service_netbios_dgm    125972 non-null uint8\n",
      "service_netbios_ns     125972 non-null uint8\n",
      "service_netbios_ssn    125972 non-null uint8\n",
      "service_netstat        125972 non-null uint8\n",
      "service_nnsp           125972 non-null uint8\n",
      "service_nntp           125972 non-null uint8\n",
      "service_ntp_u          125972 non-null uint8\n",
      "service_other          125972 non-null uint8\n",
      "service_pm_dump        125972 non-null uint8\n",
      "service_pop_2          125972 non-null uint8\n",
      "service_pop_3          125972 non-null uint8\n",
      "service_printer        125972 non-null uint8\n",
      "service_private        125972 non-null uint8\n",
      "service_remote_job     125972 non-null uint8\n",
      "service_rje            125972 non-null uint8\n",
      "service_shell          125972 non-null uint8\n",
      "service_smtp           125972 non-null uint8\n",
      "service_sql_net        125972 non-null uint8\n",
      "service_ssh            125972 non-null uint8\n",
      "service_sunrpc         125972 non-null uint8\n",
      "service_supdup         125972 non-null uint8\n",
      "service_systat         125972 non-null uint8\n",
      "service_telnet         125972 non-null uint8\n",
      "service_tftp_u         125972 non-null uint8\n",
      "service_tim_i          125972 non-null uint8\n",
      "service_time           125972 non-null uint8\n",
      "service_urp_i          125972 non-null uint8\n",
      "service_uucp           125972 non-null uint8\n",
      "service_uucp_path      125972 non-null uint8\n",
      "service_vmnet          125972 non-null uint8\n",
      "service_whois          125972 non-null uint8\n",
      "srv_count              125972 non-null int64\n",
      "bi_attack              125972 non-null int64\n",
      "multi_attack           125972 non-null object\n",
      "dtypes: int64(4), object(1), uint8(74)\n",
      "memory usage: 13.7+ MB\n",
      "<class 'pandas.core.frame.DataFrame'>\n",
      "RangeIndex: 22543 entries, 0 to 22542\n",
      "Data columns (total 79 columns):\n",
      "count                  22543 non-null int64\n",
      "dst_host_count         22543 non-null int64\n",
      "flag_OTH               22543 non-null uint8\n",
      "flag_REJ               22543 non-null uint8\n",
      "flag_RSTO              22543 non-null uint8\n",
      "flag_RSTOS0            22543 non-null uint8\n",
      "flag_RSTR              22543 non-null uint8\n",
      "flag_S1                22543 non-null uint8\n",
      "flag_S2                22543 non-null uint8\n",
      "flag_S3                22543 non-null uint8\n",
      "flag_SH                22543 non-null uint8\n",
      "protocol_type_udp      22543 non-null uint8\n",
      "service_IRC            22543 non-null uint8\n",
      "service_X11            22543 non-null uint8\n",
      "service_Z39_50         22543 non-null uint8\n",
      "service_auth           22543 non-null uint8\n",
      "service_bgp            22543 non-null uint8\n",
      "service_courier        22543 non-null uint8\n",
      "service_csnet_ns       22543 non-null uint8\n",
      "service_ctf            22543 non-null uint8\n",
      "service_daytime        22543 non-null uint8\n",
      "service_discard        22543 non-null uint8\n",
      "service_domain         22543 non-null uint8\n",
      "service_domain_u       22543 non-null uint8\n",
      "service_echo           22543 non-null uint8\n",
      "service_eco_i          22543 non-null uint8\n",
      "service_ecr_i          22543 non-null uint8\n",
      "service_efs            22543 non-null uint8\n",
      "service_exec           22543 non-null uint8\n",
      "service_finger         22543 non-null uint8\n",
      "service_ftp            22543 non-null uint8\n",
      "service_ftp_data       22543 non-null uint8\n",
      "service_gopher         22543 non-null uint8\n",
      "service_hostnames      22543 non-null uint8\n",
      "service_http           22543 non-null uint8\n",
      "service_http_443       22543 non-null uint8\n",
      "service_imap4          22543 non-null uint8\n",
      "service_iso_tsap       22543 non-null uint8\n",
      "service_klogin         22543 non-null uint8\n",
      "service_kshell         22543 non-null uint8\n",
      "service_ldap           22543 non-null uint8\n",
      "service_link           22543 non-null uint8\n",
      "service_login          22543 non-null uint8\n",
      "service_mtp            22543 non-null uint8\n",
      "service_name           22543 non-null uint8\n",
      "service_netbios_dgm    22543 non-null uint8\n",
      "service_netbios_ns     22543 non-null uint8\n",
      "service_netbios_ssn    22543 non-null uint8\n",
      "service_netstat        22543 non-null uint8\n",
      "service_nnsp           22543 non-null uint8\n",
      "service_nntp           22543 non-null uint8\n",
      "service_ntp_u          22543 non-null uint8\n",
      "service_other          22543 non-null uint8\n",
      "service_pm_dump        22543 non-null uint8\n",
      "service_pop_2          22543 non-null uint8\n",
      "service_pop_3          22543 non-null uint8\n",
      "service_printer        22543 non-null uint8\n",
      "service_private        22543 non-null uint8\n",
      "service_remote_job     22543 non-null uint8\n",
      "service_rje            22543 non-null uint8\n",
      "service_shell          22543 non-null uint8\n",
      "service_smtp           22543 non-null uint8\n",
      "service_sql_net        22543 non-null uint8\n",
      "service_ssh            22543 non-null uint8\n",
      "service_sunrpc         22543 non-null uint8\n",
      "service_supdup         22543 non-null uint8\n",
      "service_systat         22543 non-null uint8\n",
      "service_telnet         22543 non-null uint8\n",
      "service_tftp_u         22543 non-null uint8\n",
      "service_tim_i          22543 non-null uint8\n",
      "service_time           22543 non-null uint8\n",
      "service_urp_i          22543 non-null uint8\n",
      "service_uucp           22543 non-null uint8\n",
      "service_uucp_path      22543 non-null uint8\n",
      "service_vmnet          22543 non-null uint8\n",
      "service_whois          22543 non-null uint8\n",
      "srv_count              22543 non-null int64\n",
      "bi_attack              22543 non-null int64\n",
      "multi_attack           22543 non-null object\n",
      "dtypes: int64(4), object(1), uint8(74)\n",
      "memory usage: 2.5+ MB\n",
      "time: 132 ms\n"
     ]
    }
   ],
   "source": [
    "train_combine_vif.info()\n",
    "test_combine_vif.info()"
   ]
  },
  {
   "cell_type": "markdown",
   "metadata": {
    "colab_type": "text",
    "id": "79HY8D7ypNzY"
   },
   "source": [
    "## Split Independent and Target in Train and Test"
   ]
  },
  {
   "cell_type": "code",
   "execution_count": 44,
   "metadata": {
    "colab": {},
    "colab_type": "code",
    "id": "7eLPmLDIpNza"
   },
   "outputs": [
    {
     "name": "stdout",
     "output_type": "stream",
     "text": [
      "time: 2.08 ms\n"
     ]
    }
   ],
   "source": [
    "#split binomial\n",
    "def split(data,dependent):\n",
    "    features_log = data.columns.difference([str(dependent)])\n",
    "    feat_log = data[features_log]\n",
    "    pre_log = data[str(dependent)].copy()\n",
    "    return feat_log, pre_log"
   ]
  },
  {
   "cell_type": "code",
   "execution_count": 45,
   "metadata": {
    "colab": {},
    "colab_type": "code",
    "id": "v2BuxgSTpNzm"
   },
   "outputs": [
    {
     "name": "stdout",
     "output_type": "stream",
     "text": [
      "time: 207 ms\n"
     ]
    }
   ],
   "source": [
    "bi_train_x_vif, bi_train_y_vif = split(train_combine_vif[train_combine_vif.columns.difference(['multi_attack','attack'])],'bi_attack')\n",
    "bi_test_x_vif, bi_test_y_vif = split(test_combine_vif[test_combine_vif.columns.difference(['multi_attack','attack'])],'bi_attack')\n",
    "multi_train_x_vif, multi_train_y_vif = split(train_combine_vif[train_combine_vif.columns.difference(['bi_attack','attack'])],'multi_attack')\n",
    "multi_test_x_vif, multi_test_y_vif = split(test_combine_vif[test_combine_vif.columns.difference(['bi_attack','attack'])],'multi_attack')"
   ]
  },
  {
   "cell_type": "markdown",
   "metadata": {
    "colab_type": "text",
    "id": "WAAPonTHpN0i",
    "toc-hr-collapsed": false
   },
   "source": [
    "## Model Build and Evaluation"
   ]
  },
  {
   "cell_type": "code",
   "execution_count": 46,
   "metadata": {
    "colab": {},
    "colab_type": "code",
    "id": "Y9EY46q_pN0o"
   },
   "outputs": [
    {
     "name": "stdout",
     "output_type": "stream",
     "text": [
      "time: 16.9 ms\n"
     ]
    }
   ],
   "source": [
    "# Function to build and evaluate other models\n",
    "def model_build_cum_evaluation(model,x,y,x_t,y_t,m_x,m_y,m_x_t,m_y_t):\n",
    "    \n",
    "    print('Binary Classification')\n",
    "    #Fitting model binary\n",
    "    model.fit(x,y)\n",
    "    \n",
    "    #Predicting values for train_x and test_x\n",
    "    model_train_predict = model.predict(x)\n",
    "    model_predict = model.predict(x_t)\n",
    "    \n",
    "    print(\"Training scores\")\n",
    "    print(\"Accuracy score is \",metrics.accuracy_score(y,model_train_predict).round(2))\n",
    "    print(\"Precision score is\" ,metrics.precision_score(y,model_train_predict).round(2))\n",
    "    print(\"Recall score is \",metrics.recall_score(y,model_train_predict).round(2))\n",
    "    print(\"F1 score is \",metrics.f1_score(y,model_train_predict).round(2))\n",
    "    print(\"Crossval Score (f1_weighted)\",cross_val_score(model, x, y, scoring='f1_weighted', cv=10, n_jobs=-1).mean().round(2))\n",
    "    print(metrics.classification_report(y, model_train_predict))\n",
    "    plt.figure(figsize=(4,3))\n",
    "    cm = metrics.confusion_matrix( y,model_train_predict )\n",
    "    sb.heatmap(cm, annot=True,  fmt='.2f', xticklabels=['Attack','No Attack'], yticklabels=['Attack','No Attack'])\n",
    "    plt.show()\n",
    "    \n",
    "    print(\"Testing scores\")\n",
    "    print(\"Accuracy score is \",metrics.accuracy_score(y_t,model_predict).round(2))\n",
    "    print(\"Precision score is\" ,metrics.precision_score(y_t,model_predict).round(2))\n",
    "    print(\"Recall score is \",metrics.recall_score(y_t,model_predict).round(2))\n",
    "    print(\"F1 score is \",metrics.f1_score(y_t,model_predict).round(2))\n",
    "    print(\"Crossval Score (f1_weighted)\",cross_val_score(model, x_t, y_t, scoring='f1_weighted', cv=10, n_jobs=-1).mean().round(2))\n",
    "    print(metrics.classification_report(y_t, model_predict))\n",
    "    plt.figure(figsize=(4,3))\n",
    "    dm = metrics.confusion_matrix(y_t,model_predict)\n",
    "    sb.heatmap(dm, annot=True,  fmt='.2f',xticklabels=['Attack','No Attack'], yticklabels=['Attack','No Attack'])\n",
    "    plt.show()\n",
    "\n",
    "    print('Multiclass Classification')\n",
    "    #Fitting model multiclass\n",
    "    model.fit(m_x,m_y)\n",
    "    \n",
    "    #Predicting values for train_x and test_x\n",
    "    model_train_predict_m = model.predict(m_x)\n",
    "    model_predict_m = model.predict(m_x_t)\n",
    "    \n",
    "    print(\"Training scores\")\n",
    "    print(metrics.classification_report(m_y, model_train_predict_m))\n",
    "    print(\"Crossval Score (f1_weighted)\",cross_val_score(model, m_x, m_y, scoring='f1_weighted', cv=10, n_jobs=-1).mean().round(2))\n",
    "    print('\\n')\n",
    "    print(\"Testing scores\")\n",
    "    print(metrics.classification_report(m_y_t, model_predict_m))\n",
    "    print(\"Crossval Score  (f1_weighted)\",cross_val_score(model, m_x_t, m_y_t, scoring='f1_weighted', cv=10, n_jobs=-1).mean().round(2))"
   ]
  },
  {
   "cell_type": "markdown",
   "metadata": {
    "colab_type": "text",
    "id": "fqyPzRC6pN0q"
   },
   "source": [
    "### Random Forest Classifier "
   ]
  },
  {
   "cell_type": "code",
   "execution_count": 47,
   "metadata": {
    "colab": {},
    "colab_type": "code",
    "id": "4vAc2JAMpN0r"
   },
   "outputs": [
    {
     "name": "stdout",
     "output_type": "stream",
     "text": [
      "time: 2 ms\n"
     ]
    }
   ],
   "source": [
    "rfc = RandomForestClassifier(n_jobs=-1)"
   ]
  },
  {
   "cell_type": "code",
   "execution_count": 48,
   "metadata": {
    "colab": {},
    "colab_type": "code",
    "id": "NPAQGp9rpN0x",
    "outputId": "485c93a4-af48-49fa-ee0b-22acd60d835c"
   },
   "outputs": [
    {
     "name": "stdout",
     "output_type": "stream",
     "text": [
      "Binary Classification\n",
      "Training scores\n",
      "Accuracy score is  0.98\n",
      "Precision score is 0.99\n",
      "Recall score is  0.98\n",
      "F1 score is  0.98\n",
      "Crossval Score (f1_weighted) 0.98\n",
      "              precision    recall  f1-score   support\n",
      "\n",
      "           0       0.98      0.99      0.99     67342\n",
      "           1       0.99      0.98      0.98     58630\n",
      "\n",
      "    accuracy                           0.98    125972\n",
      "   macro avg       0.99      0.98      0.98    125972\n",
      "weighted avg       0.98      0.98      0.98    125972\n",
      "\n"
     ]
    },
    {
     "data": {
      "image/png": "[encoded data removed]",
      "text/plain": [
       "<Figure size 288x216 with 2 Axes>"
      ]
     },
     "metadata": {
      "needs_background": "light"
     },
     "output_type": "display_data"
    },
    {
     "name": "stdout",
     "output_type": "stream",
     "text": [
      "Testing scores\n",
      "Accuracy score is  0.78\n",
      "Precision score is 0.91\n",
      "Recall score is  0.69\n",
      "F1 score is  0.78\n",
      "Crossval Score (f1_weighted) 0.95\n",
      "              precision    recall  f1-score   support\n",
      "\n",
      "           0       0.69      0.91      0.78      9711\n",
      "           1       0.91      0.69      0.78     12832\n",
      "\n",
      "    accuracy                           0.78     22543\n",
      "   macro avg       0.80      0.80      0.78     22543\n",
      "weighted avg       0.81      0.78      0.78     22543\n",
      "\n"
     ]
    },
    {
     "data": {
      "image/png": "[encoded data removed]",
      "text/plain": [
       "<Figure size 288x216 with 2 Axes>"
      ]
     },
     "metadata": {
      "needs_background": "light"
     },
     "output_type": "display_data"
    },
    {
     "name": "stdout",
     "output_type": "stream",
     "text": [
      "Multiclass Classification\n",
      "Training scores\n",
      "              precision    recall  f1-score   support\n",
      "\n",
      "         Dos       1.00      0.98      0.99     45927\n",
      "       Probe       0.98      0.97      0.98     11656\n",
      "         R2L       0.69      0.75      0.72       995\n",
      "         U2R       0.62      0.35      0.44        52\n",
      "      normal       0.98      0.99      0.99     67342\n",
      "\n",
      "    accuracy                           0.98    125972\n",
      "   macro avg       0.85      0.81      0.82    125972\n",
      "weighted avg       0.98      0.98      0.98    125972\n",
      "\n",
      "Crossval Score (f1_weighted) 0.97\n",
      "\n",
      "\n",
      "Testing scores\n",
      "              precision    recall  f1-score   support\n",
      "\n",
      "         Dos       0.89      0.75      0.82      7459\n",
      "       Probe       0.53      0.55      0.54      2421\n",
      "         R2L       0.93      0.23      0.36      2885\n",
      "         U2R       0.83      0.07      0.14        67\n",
      "      normal       0.68      0.91      0.78      9711\n",
      "\n",
      "    accuracy                           0.73     22543\n",
      "   macro avg       0.77      0.50      0.53     22543\n",
      "weighted avg       0.76      0.73      0.71     22543\n",
      "\n",
      "Crossval Score  (f1_weighted) 0.93\n",
      "time: 3min 58s\n"
     ]
    }
   ],
   "source": [
    "model_build_cum_evaluation(rfc, bi_train_x_vif, bi_train_y_vif, bi_test_x_vif, bi_test_y_vif, multi_train_x_vif, multi_train_y_vif, multi_test_x_vif, multi_test_y_vif)"
   ]
  },
  {
   "cell_type": "markdown",
   "metadata": {
    "colab_type": "text",
    "id": "D1MTG1vQpN00"
   },
   "source": [
    "### Gradient Boosting Classifier"
   ]
  },
  {
   "cell_type": "code",
   "execution_count": 49,
   "metadata": {
    "colab": {},
    "colab_type": "code",
    "id": "Q39ecub6pN00"
   },
   "outputs": [
    {
     "name": "stdout",
     "output_type": "stream",
     "text": [
      "time: 2.99 ms\n"
     ]
    }
   ],
   "source": [
    "gbc = GradientBoostingClassifier()"
   ]
  },
  {
   "cell_type": "code",
   "execution_count": 50,
   "metadata": {
    "colab": {},
    "colab_type": "code",
    "id": "exkTtmEspN05",
    "outputId": "e659eaf3-d2a8-49b6-c11a-787e0b87daf8"
   },
   "outputs": [
    {
     "name": "stdout",
     "output_type": "stream",
     "text": [
      "Binary Classification\n",
      "Training scores\n",
      "Accuracy score is  0.89\n",
      "Precision score is 0.92\n",
      "Recall score is  0.83\n",
      "F1 score is  0.87\n",
      "Crossval Score (f1_weighted) 0.83\n",
      "              precision    recall  f1-score   support\n",
      "\n",
      "           0       0.86      0.94      0.90     67342\n",
      "           1       0.92      0.83      0.87     58630\n",
      "\n",
      "    accuracy                           0.89    125972\n",
      "   macro avg       0.89      0.88      0.89    125972\n",
      "weighted avg       0.89      0.89      0.89    125972\n",
      "\n"
     ]
    },
    {
     "data": {
      "image/png": "[encoded data removed]",
      "text/plain": [
       "<Figure size 288x216 with 2 Axes>"
      ]
     },
     "metadata": {
      "needs_background": "light"
     },
     "output_type": "display_data"
    },
    {
     "name": "stdout",
     "output_type": "stream",
     "text": [
      "Testing scores\n",
      "Accuracy score is  0.73\n",
      "Precision score is 0.93\n",
      "Recall score is  0.57\n",
      "F1 score is  0.71\n",
      "Crossval Score (f1_weighted) 0.73\n",
      "              precision    recall  f1-score   support\n",
      "\n",
      "           0       0.63      0.94      0.75      9711\n",
      "           1       0.93      0.57      0.71     12832\n",
      "\n",
      "    accuracy                           0.73     22543\n",
      "   macro avg       0.78      0.76      0.73     22543\n",
      "weighted avg       0.80      0.73      0.73     22543\n",
      "\n"
     ]
    },
    {
     "data": {
      "image/png": "[encoded data removed]",
      "text/plain": [
       "<Figure size 288x216 with 2 Axes>"
      ]
     },
     "metadata": {
      "needs_background": "light"
     },
     "output_type": "display_data"
    },
    {
     "name": "stdout",
     "output_type": "stream",
     "text": [
      "Multiclass Classification\n",
      "Training scores\n",
      "              precision    recall  f1-score   support\n",
      "\n",
      "         Dos       0.00      0.00      0.00     45927\n",
      "       Probe       0.01      0.01      0.01     11656\n",
      "         R2L       0.00      0.58      0.01       995\n",
      "         U2R       0.00      0.04      0.00        52\n",
      "      normal       0.11      0.00      0.00     67342\n",
      "\n",
      "    accuracy                           0.01    125972\n",
      "   macro avg       0.03      0.13      0.01    125972\n",
      "weighted avg       0.06      0.01      0.00    125972\n",
      "\n",
      "Crossval Score (f1_weighted) 0.24\n",
      "\n",
      "\n",
      "Testing scores\n"
     ]
    },
    {
     "name": "stderr",
     "output_type": "stream",
     "text": [
      "C:\\Users\\chord\\Anaconda3\\lib\\site-packages\\sklearn\\metrics\\_classification.py:1268: UndefinedMetricWarning: Precision and F-score are ill-defined and being set to 0.0 in labels with no predicted samples. Use `zero_division` parameter to control this behavior.\n",
      "  _warn_prf(average, modifier, msg_start, len(result))\n"
     ]
    },
    {
     "name": "stdout",
     "output_type": "stream",
     "text": [
      "              precision    recall  f1-score   support\n",
      "\n",
      "         Dos       0.00      0.00      0.00      7459\n",
      "       Probe       0.31      0.15      0.21      2421\n",
      "         R2L       0.11      0.75      0.18      2885\n",
      "         U2R       0.04      0.19      0.07        67\n",
      "      normal       0.01      0.00      0.00      9711\n",
      "\n",
      "    accuracy                           0.11     22543\n",
      "   macro avg       0.09      0.22      0.09     22543\n",
      "weighted avg       0.05      0.11      0.05     22543\n",
      "\n",
      "Crossval Score  (f1_weighted) 0.16\n",
      "time: 28min 43s\n"
     ]
    }
   ],
   "source": [
    "model_build_cum_evaluation(gbc, bi_train_x_vif, bi_train_y_vif, bi_test_x_vif, bi_test_y_vif, multi_train_x_vif, multi_train_y_vif, multi_test_x_vif, multi_test_y_vif)"
   ]
  },
  {
   "cell_type": "markdown",
   "metadata": {
    "colab_type": "text",
    "id": "2ZLRXKAypN0_"
   },
   "source": [
    "### Logistic Regression"
   ]
  },
  {
   "cell_type": "code",
   "execution_count": 51,
   "metadata": {
    "colab": {},
    "colab_type": "code",
    "id": "RnXjdn3spN1D"
   },
   "outputs": [
    {
     "name": "stdout",
     "output_type": "stream",
     "text": [
      "time: 9.8 ms\n"
     ]
    }
   ],
   "source": [
    "lr = LogisticRegression(n_jobs=-1)"
   ]
  },
  {
   "cell_type": "code",
   "execution_count": 52,
   "metadata": {
    "colab": {},
    "colab_type": "code",
    "id": "ywd0GTECpN1H",
    "outputId": "5f4d7edc-33ed-471a-b494-2a0ef749d757"
   },
   "outputs": [
    {
     "name": "stdout",
     "output_type": "stream",
     "text": [
      "Binary Classification\n",
      "Training scores\n",
      "Accuracy score is  0.92\n",
      "Precision score is 0.98\n",
      "Recall score is  0.86\n",
      "F1 score is  0.91\n",
      "Crossval Score (f1_weighted) 0.92\n",
      "              precision    recall  f1-score   support\n",
      "\n",
      "           0       0.89      0.98      0.93     67342\n",
      "           1       0.98      0.86      0.91     58630\n",
      "\n",
      "    accuracy                           0.92    125972\n",
      "   macro avg       0.93      0.92      0.92    125972\n",
      "weighted avg       0.93      0.92      0.92    125972\n",
      "\n"
     ]
    },
    {
     "data": {
      "image/png": "[encoded data removed]",
      "text/plain": [
       "<Figure size 288x216 with 2 Axes>"
      ]
     },
     "metadata": {
      "needs_background": "light"
     },
     "output_type": "display_data"
    },
    {
     "name": "stdout",
     "output_type": "stream",
     "text": [
      "Testing scores\n",
      "Accuracy score is  0.68\n",
      "Precision score is 0.91\n",
      "Recall score is  0.5\n",
      "F1 score is  0.64\n",
      "Crossval Score (f1_weighted) 0.84\n",
      "              precision    recall  f1-score   support\n",
      "\n",
      "           0       0.58      0.93      0.72      9711\n",
      "           1       0.91      0.50      0.64     12832\n",
      "\n",
      "    accuracy                           0.68     22543\n",
      "   macro avg       0.75      0.71      0.68     22543\n",
      "weighted avg       0.77      0.68      0.68     22543\n",
      "\n"
     ]
    },
    {
     "data": {
      "image/png": "[encoded data removed]",
      "text/plain": [
       "<Figure size 288x216 with 2 Axes>"
      ]
     },
     "metadata": {
      "needs_background": "light"
     },
     "output_type": "display_data"
    },
    {
     "name": "stdout",
     "output_type": "stream",
     "text": [
      "Multiclass Classification\n",
      "Training scores\n"
     ]
    },
    {
     "name": "stderr",
     "output_type": "stream",
     "text": [
      "C:\\Users\\chord\\Anaconda3\\lib\\site-packages\\sklearn\\metrics\\_classification.py:1268: UndefinedMetricWarning: Precision and F-score are ill-defined and being set to 0.0 in labels with no predicted samples. Use `zero_division` parameter to control this behavior.\n",
      "  _warn_prf(average, modifier, msg_start, len(result))\n"
     ]
    },
    {
     "name": "stdout",
     "output_type": "stream",
     "text": [
      "              precision    recall  f1-score   support\n",
      "\n",
      "         Dos       0.89      0.91      0.90     45927\n",
      "       Probe       0.72      0.15      0.25     11656\n",
      "         R2L       0.00      0.00      0.00       995\n",
      "         U2R       0.00      0.00      0.00        52\n",
      "      normal       0.87      0.99      0.93     67342\n",
      "\n",
      "    accuracy                           0.87    125972\n",
      "   macro avg       0.50      0.41      0.41    125972\n",
      "weighted avg       0.86      0.87      0.84    125972\n",
      "\n",
      "Crossval Score (f1_weighted) 0.84\n",
      "\n",
      "\n",
      "Testing scores\n"
     ]
    },
    {
     "name": "stderr",
     "output_type": "stream",
     "text": [
      "C:\\Users\\chord\\Anaconda3\\lib\\site-packages\\sklearn\\metrics\\_classification.py:1268: UndefinedMetricWarning: Precision and F-score are ill-defined and being set to 0.0 in labels with no predicted samples. Use `zero_division` parameter to control this behavior.\n",
      "  _warn_prf(average, modifier, msg_start, len(result))\n"
     ]
    },
    {
     "name": "stdout",
     "output_type": "stream",
     "text": [
      "              precision    recall  f1-score   support\n",
      "\n",
      "         Dos       0.76      0.70      0.73      7459\n",
      "       Probe       0.77      0.06      0.12      2421\n",
      "         R2L       0.00      0.00      0.00      2885\n",
      "         U2R       0.00      0.00      0.00        67\n",
      "      normal       0.59      0.94      0.72      9711\n",
      "\n",
      "    accuracy                           0.64     22543\n",
      "   macro avg       0.42      0.34      0.31     22543\n",
      "weighted avg       0.59      0.64      0.56     22543\n",
      "\n",
      "Crossval Score  (f1_weighted) 0.71\n",
      "time: 3min 10s\n"
     ]
    }
   ],
   "source": [
    "model_build_cum_evaluation(lr, bi_train_x_vif, bi_train_y_vif, bi_test_x_vif, bi_test_y_vif, multi_train_x_vif, multi_train_y_vif, multi_test_x_vif, multi_test_y_vif)"
   ]
  },
  {
   "cell_type": "markdown",
   "metadata": {
    "colab_type": "text",
    "id": "yj4g8Mw2pN1Z"
   },
   "source": [
    "### Decision Tree "
   ]
  },
  {
   "cell_type": "code",
   "execution_count": 53,
   "metadata": {
    "colab": {},
    "colab_type": "code",
    "id": "DjW0cOz2pN1a"
   },
   "outputs": [
    {
     "name": "stdout",
     "output_type": "stream",
     "text": [
      "time: 3 ms\n"
     ]
    }
   ],
   "source": [
    "dt = DecisionTreeClassifier()"
   ]
  },
  {
   "cell_type": "code",
   "execution_count": 54,
   "metadata": {
    "colab": {},
    "colab_type": "code",
    "id": "MK_yvcAopN1c",
    "outputId": "0acf4f8b-2c03-4c02-ebd0-dba3caa6d378"
   },
   "outputs": [
    {
     "name": "stdout",
     "output_type": "stream",
     "text": [
      "Binary Classification\n",
      "Training scores\n",
      "Accuracy score is  0.98\n",
      "Precision score is 0.99\n",
      "Recall score is  0.97\n",
      "F1 score is  0.98\n",
      "Crossval Score (f1_weighted) 0.98\n",
      "              precision    recall  f1-score   support\n",
      "\n",
      "           0       0.98      0.99      0.99     67342\n",
      "           1       0.99      0.97      0.98     58630\n",
      "\n",
      "    accuracy                           0.98    125972\n",
      "   macro avg       0.99      0.98      0.98    125972\n",
      "weighted avg       0.98      0.98      0.98    125972\n",
      "\n"
     ]
    },
    {
     "data": {
      "image/png": "[encoded data removed]",
      "text/plain": [
       "<Figure size 288x216 with 2 Axes>"
      ]
     },
     "metadata": {
      "needs_background": "light"
     },
     "output_type": "display_data"
    },
    {
     "name": "stdout",
     "output_type": "stream",
     "text": [
      "Testing scores\n",
      "Accuracy score is  0.77\n",
      "Precision score is 0.91\n",
      "Recall score is  0.66\n",
      "F1 score is  0.76\n",
      "Crossval Score (f1_weighted) 0.95\n",
      "              precision    recall  f1-score   support\n",
      "\n",
      "           0       0.67      0.91      0.77      9711\n",
      "           1       0.91      0.66      0.76     12832\n",
      "\n",
      "    accuracy                           0.77     22543\n",
      "   macro avg       0.79      0.79      0.77     22543\n",
      "weighted avg       0.81      0.77      0.77     22543\n",
      "\n"
     ]
    },
    {
     "data": {
      "image/png": "[encoded data removed]",
      "text/plain": [
       "<Figure size 288x216 with 2 Axes>"
      ]
     },
     "metadata": {
      "needs_background": "light"
     },
     "output_type": "display_data"
    },
    {
     "name": "stdout",
     "output_type": "stream",
     "text": [
      "Multiclass Classification\n",
      "Training scores\n",
      "              precision    recall  f1-score   support\n",
      "\n",
      "         Dos       0.99      0.98      0.99     45927\n",
      "       Probe       0.98      0.98      0.98     11656\n",
      "         R2L       0.68      0.78      0.72       995\n",
      "         U2R       0.61      0.38      0.47        52\n",
      "      normal       0.98      0.99      0.99     67342\n",
      "\n",
      "    accuracy                           0.98    125972\n",
      "   macro avg       0.85      0.82      0.83    125972\n",
      "weighted avg       0.98      0.98      0.98    125972\n",
      "\n",
      "Crossval Score (f1_weighted) 0.97\n",
      "\n",
      "\n",
      "Testing scores\n",
      "              precision    recall  f1-score   support\n",
      "\n",
      "         Dos       0.90      0.75      0.82      7459\n",
      "       Probe       0.54      0.56      0.55      2421\n",
      "         R2L       0.75      0.23      0.36      2885\n",
      "         U2R       0.71      0.07      0.14        67\n",
      "      normal       0.68      0.90      0.78      9711\n",
      "\n",
      "    accuracy                           0.73     22543\n",
      "   macro avg       0.72      0.51      0.53     22543\n",
      "weighted avg       0.75      0.73      0.71     22543\n",
      "\n",
      "Crossval Score  (f1_weighted) 0.93\n",
      "time: 34.1 s\n"
     ]
    }
   ],
   "source": [
    "model_build_cum_evaluation(dt, bi_train_x_vif, bi_train_y_vif, bi_test_x_vif, bi_test_y_vif, multi_train_x_vif, multi_train_y_vif, multi_test_x_vif, multi_test_y_vif)"
   ]
  },
  {
   "cell_type": "markdown",
   "metadata": {},
   "source": [
    "### ExtraTree Classifier"
   ]
  },
  {
   "cell_type": "code",
   "execution_count": 55,
   "metadata": {},
   "outputs": [
    {
     "name": "stdout",
     "output_type": "stream",
     "text": [
      "time: 5.28 ms\n"
     ]
    }
   ],
   "source": [
    "et = ExtraTreesClassifier(n_jobs=-1)"
   ]
  },
  {
   "cell_type": "code",
   "execution_count": 56,
   "metadata": {},
   "outputs": [
    {
     "name": "stdout",
     "output_type": "stream",
     "text": [
      "Binary Classification\n",
      "Training scores\n",
      "Accuracy score is  0.98\n",
      "Precision score is 0.99\n",
      "Recall score is  0.97\n",
      "F1 score is  0.98\n",
      "Crossval Score (f1_weighted) 0.98\n",
      "              precision    recall  f1-score   support\n",
      "\n",
      "           0       0.98      0.99      0.99     67342\n",
      "           1       0.99      0.97      0.98     58630\n",
      "\n",
      "    accuracy                           0.98    125972\n",
      "   macro avg       0.99      0.98      0.98    125972\n",
      "weighted avg       0.98      0.98      0.98    125972\n",
      "\n"
     ]
    },
    {
     "data": {
      "image/png": "[encoded data removed]",
      "text/plain": [
       "<Figure size 288x216 with 2 Axes>"
      ]
     },
     "metadata": {
      "needs_background": "light"
     },
     "output_type": "display_data"
    },
    {
     "name": "stdout",
     "output_type": "stream",
     "text": [
      "Testing scores\n",
      "Accuracy score is  0.8\n",
      "Precision score is 0.91\n",
      "Recall score is  0.71\n",
      "F1 score is  0.8\n",
      "Crossval Score (f1_weighted) 0.95\n",
      "              precision    recall  f1-score   support\n",
      "\n",
      "           0       0.70      0.91      0.79      9711\n",
      "           1       0.91      0.71      0.80     12832\n",
      "\n",
      "    accuracy                           0.80     22543\n",
      "   macro avg       0.81      0.81      0.80     22543\n",
      "weighted avg       0.82      0.80      0.80     22543\n",
      "\n"
     ]
    },
    {
     "data": {
      "image/png": "[encoded data removed]",
      "text/plain": [
       "<Figure size 288x216 with 2 Axes>"
      ]
     },
     "metadata": {
      "needs_background": "light"
     },
     "output_type": "display_data"
    },
    {
     "name": "stdout",
     "output_type": "stream",
     "text": [
      "Multiclass Classification\n",
      "Training scores\n",
      "              precision    recall  f1-score   support\n",
      "\n",
      "         Dos       0.99      0.98      0.99     45927\n",
      "       Probe       0.98      0.98      0.98     11656\n",
      "         R2L       0.68      0.78      0.72       995\n",
      "         U2R       0.61      0.38      0.47        52\n",
      "      normal       0.98      0.99      0.99     67342\n",
      "\n",
      "    accuracy                           0.98    125972\n",
      "   macro avg       0.85      0.82      0.83    125972\n",
      "weighted avg       0.98      0.98      0.98    125972\n",
      "\n",
      "Crossval Score (f1_weighted) 0.97\n",
      "\n",
      "\n",
      "Testing scores\n",
      "              precision    recall  f1-score   support\n",
      "\n",
      "         Dos       0.89      0.78      0.83      7459\n",
      "       Probe       0.55      0.60      0.58      2421\n",
      "         R2L       0.89      0.23      0.37      2885\n",
      "         U2R       0.83      0.07      0.14        67\n",
      "      normal       0.70      0.91      0.79      9711\n",
      "\n",
      "    accuracy                           0.74     22543\n",
      "   macro avg       0.77      0.52      0.54     22543\n",
      "weighted avg       0.77      0.74      0.72     22543\n",
      "\n",
      "Crossval Score  (f1_weighted) 0.93\n",
      "time: 4min 51s\n"
     ]
    }
   ],
   "source": [
    "model_build_cum_evaluation(et, bi_train_x_vif, bi_train_y_vif, bi_test_x_vif, bi_test_y_vif, multi_train_x_vif, multi_train_y_vif, multi_test_x_vif, multi_test_y_vif)"
   ]
  },
  {
   "cell_type": "markdown",
   "metadata": {},
   "source": [
    "Best weighted f1 score for test was achieved by\n",
    "Random Forest Classifier, Decision Tree and Extra Tree Classifier. The results were same.\n",
    "From above 3 we'll select Decision Tree as best model as time taken for execution by it was the least 1 min 6 seconds."
   ]
  },
  {
   "cell_type": "code",
   "execution_count": null,
   "metadata": {},
   "outputs": [],
   "source": []
  }
 ],
 "metadata": {
  "colab": {
   "name": "Network Intrusion Detection System.ipynb",
   "provenance": []
  },
  "kernelspec": {
   "display_name": "Python 3",
   "language": "python",
   "name": "python3"
  },
  "language_info": {
   "codemirror_mode": {
    "name": "ipython",
    "version": 3
   },
   "file_extension": ".py",
   "mimetype": "text/x-python",
   "name": "python",
   "nbconvert_exporter": "python",
   "pygments_lexer": "ipython3",
   "version": "3.7.5"
  }
 },
 "nbformat": 4,
 "nbformat_minor": 4
}
